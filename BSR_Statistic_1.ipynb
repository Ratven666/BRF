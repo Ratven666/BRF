{
 "cells": [
  {
   "cell_type": "markdown",
   "id": "3a7ab7d3-678d-4ab0-bd37-81baf3f99272",
   "metadata": {},
   "source": [
    "# Описательная статистика"
   ]
  },
  {
   "cell_type": "markdown",
   "id": "2d17970e-36be-45a4-b464-a99b9635e114",
   "metadata": {},
   "source": [
    "Импорт необходимых библиотек"
   ]
  },
  {
   "cell_type": "code",
   "execution_count": 1,
   "id": "51670f45",
   "metadata": {},
   "outputs": [],
   "source": [
    "import math\n",
    "\n",
    "import pandas as pd\n",
    "\n",
    "pd.options.mode.copy_on_write = True"
   ]
  },
  {
   "cell_type": "markdown",
   "id": "5d72bd39-1c5b-4944-ad77-3ae615e24c20",
   "metadata": {},
   "source": [
    "Чтение данных из файла с созданием структуры *DataFrame*:"
   ]
  },
  {
   "cell_type": "code",
   "execution_count": 2,
   "id": "b80fd88d",
   "metadata": {},
   "outputs": [
    {
     "data": {
      "text/html": [
       "<div>\n",
       "<style scoped>\n",
       "    .dataframe tbody tr th:only-of-type {\n",
       "        vertical-align: middle;\n",
       "    }\n",
       "\n",
       "    .dataframe tbody tr th {\n",
       "        vertical-align: top;\n",
       "    }\n",
       "\n",
       "    .dataframe thead th {\n",
       "        text-align: right;\n",
       "    }\n",
       "</style>\n",
       "<table border=\"1\" class=\"dataframe\">\n",
       "  <thead>\n",
       "    <tr style=\"text-align: right;\">\n",
       "      <th></th>\n",
       "      <th>0</th>\n",
       "    </tr>\n",
       "  </thead>\n",
       "  <tbody>\n",
       "    <tr>\n",
       "      <th>0</th>\n",
       "      <td>62.205030</td>\n",
       "    </tr>\n",
       "    <tr>\n",
       "      <th>1</th>\n",
       "      <td>57.438075</td>\n",
       "    </tr>\n",
       "    <tr>\n",
       "      <th>2</th>\n",
       "      <td>59.852134</td>\n",
       "    </tr>\n",
       "    <tr>\n",
       "      <th>3</th>\n",
       "      <td>56.268755</td>\n",
       "    </tr>\n",
       "    <tr>\n",
       "      <th>4</th>\n",
       "      <td>58.469126</td>\n",
       "    </tr>\n",
       "    <tr>\n",
       "      <th>...</th>\n",
       "      <td>...</td>\n",
       "    </tr>\n",
       "    <tr>\n",
       "      <th>123</th>\n",
       "      <td>58.991015</td>\n",
       "    </tr>\n",
       "    <tr>\n",
       "      <th>124</th>\n",
       "      <td>63.145081</td>\n",
       "    </tr>\n",
       "    <tr>\n",
       "      <th>125</th>\n",
       "      <td>58.386862</td>\n",
       "    </tr>\n",
       "    <tr>\n",
       "      <th>126</th>\n",
       "      <td>60.965588</td>\n",
       "    </tr>\n",
       "    <tr>\n",
       "      <th>127</th>\n",
       "      <td>59.430169</td>\n",
       "    </tr>\n",
       "  </tbody>\n",
       "</table>\n",
       "<p>128 rows × 1 columns</p>\n",
       "</div>"
      ],
      "text/plain": [
       "             0\n",
       "0    62.205030\n",
       "1    57.438075\n",
       "2    59.852134\n",
       "3    56.268755\n",
       "4    58.469126\n",
       "..         ...\n",
       "123  58.991015\n",
       "124  63.145081\n",
       "125  58.386862\n",
       "126  60.965588\n",
       "127  59.430169\n",
       "\n",
       "[128 rows x 1 columns]"
      ]
     },
     "execution_count": 2,
     "metadata": {},
     "output_type": "execute_result"
    }
   ],
   "source": [
    "df = pd.read_csv(\"data.txt\", delimiter=\",\", header=None)\n",
    "df"
   ]
  },
  {
   "cell_type": "markdown",
   "id": "11900754-4298-4274-8482-4b79f8926794",
   "metadata": {},
   "source": [
    "Переформатирование данных из структуры *DataFrame* в структуру *Series*:"
   ]
  },
  {
   "cell_type": "code",
   "execution_count": 3,
   "id": "00caf44f",
   "metadata": {},
   "outputs": [
    {
     "data": {
      "text/plain": [
       "0      62.205030\n",
       "1      57.438075\n",
       "2      59.852134\n",
       "3      56.268755\n",
       "4      58.469126\n",
       "         ...    \n",
       "123    58.991015\n",
       "124    63.145081\n",
       "125    58.386862\n",
       "126    60.965588\n",
       "127    59.430169\n",
       "Name: 0, Length: 128, dtype: float64"
      ]
     },
     "execution_count": 3,
     "metadata": {},
     "output_type": "execute_result"
    }
   ],
   "source": [
    "ds = df[0]\n",
    "ds"
   ]
  },
  {
   "cell_type": "markdown",
   "id": "0635770c-411f-4cc9-8fe5-c36bd1e2a57b",
   "metadata": {},
   "source": [
    "Построение гистограммы по массиву данных:"
   ]
  },
  {
   "cell_type": "code",
   "execution_count": 4,
   "id": "c475f0d9",
   "metadata": {},
   "outputs": [
    {
     "data": {
      "text/plain": [
       "<Axes: ylabel='Frequency'>"
      ]
     },
     "execution_count": 4,
     "metadata": {},
     "output_type": "execute_result"
    },
    {
     "data": {
      "image/png": "[encoded data removed]",
      "text/plain": [
       "<Figure size 640x480 with 1 Axes>"
      ]
     },
     "metadata": {},
     "output_type": "display_data"
    }
   ],
   "source": [
    "ds.plot.hist(bins=8)"
   ]
  },
  {
   "cell_type": "markdown",
   "id": "56484d87-1b09-4f83-a1bb-8c36d1adaf39",
   "metadata": {},
   "source": [
    "Расчет базовых статистик по массиву данных:\n",
    "* по *Series*:"
   ]
  },
  {
   "cell_type": "code",
   "execution_count": 5,
   "id": "90ae77b7",
   "metadata": {},
   "outputs": [
    {
     "data": {
      "text/plain": [
       "count    128.000000\n",
       "mean      60.156787\n",
       "std        2.998086\n",
       "min       51.789754\n",
       "25%       58.141365\n",
       "50%       60.190619\n",
       "75%       62.241712\n",
       "max       66.944692\n",
       "Name: 0, dtype: float64"
      ]
     },
     "execution_count": 5,
     "metadata": {},
     "output_type": "execute_result"
    }
   ],
   "source": [
    "data_describe = ds.describe()\n",
    "data_describe"
   ]
  },
  {
   "cell_type": "markdown",
   "id": "bac9b646",
   "metadata": {},
   "source": [
    "* по *DataFrame*:"
   ]
  },
  {
   "cell_type": "code",
   "execution_count": 6,
   "id": "76380821-35b2-4ee7-9cbf-bc2a2a376574",
   "metadata": {},
   "outputs": [
    {
     "data": {
      "text/html": [
       "<div>\n",
       "<style scoped>\n",
       "    .dataframe tbody tr th:only-of-type {\n",
       "        vertical-align: middle;\n",
       "    }\n",
       "\n",
       "    .dataframe tbody tr th {\n",
       "        vertical-align: top;\n",
       "    }\n",
       "\n",
       "    .dataframe thead th {\n",
       "        text-align: right;\n",
       "    }\n",
       "</style>\n",
       "<table border=\"1\" class=\"dataframe\">\n",
       "  <thead>\n",
       "    <tr style=\"text-align: right;\">\n",
       "      <th></th>\n",
       "      <th>0</th>\n",
       "    </tr>\n",
       "  </thead>\n",
       "  <tbody>\n",
       "    <tr>\n",
       "      <th>count</th>\n",
       "      <td>128.000000</td>\n",
       "    </tr>\n",
       "    <tr>\n",
       "      <th>mean</th>\n",
       "      <td>60.156787</td>\n",
       "    </tr>\n",
       "    <tr>\n",
       "      <th>std</th>\n",
       "      <td>2.998086</td>\n",
       "    </tr>\n",
       "    <tr>\n",
       "      <th>min</th>\n",
       "      <td>51.789754</td>\n",
       "    </tr>\n",
       "    <tr>\n",
       "      <th>25%</th>\n",
       "      <td>58.141365</td>\n",
       "    </tr>\n",
       "    <tr>\n",
       "      <th>50%</th>\n",
       "      <td>60.190619</td>\n",
       "    </tr>\n",
       "    <tr>\n",
       "      <th>75%</th>\n",
       "      <td>62.241712</td>\n",
       "    </tr>\n",
       "    <tr>\n",
       "      <th>max</th>\n",
       "      <td>66.944692</td>\n",
       "    </tr>\n",
       "  </tbody>\n",
       "</table>\n",
       "</div>"
      ],
      "text/plain": [
       "                0\n",
       "count  128.000000\n",
       "mean    60.156787\n",
       "std      2.998086\n",
       "min     51.789754\n",
       "25%     58.141365\n",
       "50%     60.190619\n",
       "75%     62.241712\n",
       "max     66.944692"
      ]
     },
     "execution_count": 6,
     "metadata": {},
     "output_type": "execute_result"
    }
   ],
   "source": [
    "data_describe_df = df.describe()\n",
    "data_describe_df"
   ]
  },
  {
   "cell_type": "markdown",
   "id": "d4984147-721c-4fe4-b95d-95aa5ef0ed83",
   "metadata": {},
   "source": [
    "Мы можем извлечь из структуры конкретное значение, обратившись к нему по индексам:\n",
    "* В *DataFrame* (извлечем среднее значение):"
   ]
  },
  {
   "cell_type": "code",
   "execution_count": 7,
   "id": "14984319",
   "metadata": {},
   "outputs": [
    {
     "data": {
      "text/plain": [
       "60.15678678539062"
      ]
     },
     "execution_count": 7,
     "metadata": {},
     "output_type": "execute_result"
    }
   ],
   "source": [
    "data_mean = data_describe_df[0][\"mean\"]\n",
    "data_mean"
   ]
  },
  {
   "cell_type": "markdown",
   "id": "c37ebf28-1e13-4f8c-95d6-795e4801b86d",
   "metadata": {},
   "source": [
    "Сначала обращаемся к конкретному столбцу (в нашем случае у столбца имя 0) потом к конкретной строке (\"mean\")\n",
    "\n",
    "\n",
    "* В *Series* (извлечем минимальное и максимальное значения):"
   ]
  },
  {
   "cell_type": "code",
   "execution_count": 8,
   "id": "6c92b46f",
   "metadata": {},
   "outputs": [
    {
     "data": {
      "text/plain": [
       "(51.78975385, 66.94469194)"
      ]
     },
     "execution_count": 8,
     "metadata": {},
     "output_type": "execute_result"
    }
   ],
   "source": [
    "data_describe[\"min\"], data_describe[\"max\"]"
   ]
  },
  {
   "cell_type": "markdown",
   "id": "f8cfb801-51d9-4861-8897-b51470d588b3",
   "metadata": {},
   "source": [
    "В *Series* всего один столбец и сразу обращаемся по требуемому индексу (**\"max\"** и **\"min\"**)\n",
    "\n",
    "***\n",
    "***\n",
    "\n",
    "Рассчитаем размах выборки\n",
    "\n",
    "$$ R = x_{\\max} - x_{\\min} :$$"
   ]
  },
  {
   "cell_type": "code",
   "execution_count": 9,
   "id": "56115dfe",
   "metadata": {},
   "outputs": [
    {
     "data": {
      "text/plain": [
       "15.154938090000002"
      ]
     },
     "execution_count": 9,
     "metadata": {},
     "output_type": "execute_result"
    }
   ],
   "source": [
    "r = data_describe[\"max\"] - data_describe[\"min\"]\n",
    "r"
   ]
  },
  {
   "cell_type": "markdown",
   "id": "e59b400d-e39b-4462-bfdb-42d8164c273f",
   "metadata": {},
   "source": [
    "И количество интервалов по формуле Стерджеса \n",
    "\n",
    "$$ n = 1 + 3.2 \\lg(N) $$\n",
    "(вычисление десятичного логарифма выполняется функцией ```log(a, b)```  стандартного пакета **math**):"
   ]
  },
  {
   "cell_type": "code",
   "execution_count": 10,
   "id": "0aaba230",
   "metadata": {},
   "outputs": [
    {
     "data": {
      "text/plain": [
       "7.743071902873178"
      ]
     },
     "execution_count": 10,
     "metadata": {},
     "output_type": "execute_result"
    }
   ],
   "source": [
    "n = 1 + 3.2 * math.log(data_describe[\"count\"], 10)\n",
    "n"
   ]
  },
  {
   "cell_type": "markdown",
   "id": "3d89f65c-ead8-47be-8e33-56653ea0f31d",
   "metadata": {},
   "source": [
    "Рассчитаем оптимальную ширину интервала как отношение этих величин\n",
    "\n",
    "$$ h = \\frac{R}{n} = \\frac{x_{\\max} - x_{\\min}}{1 + 3.2 \\lg(N)} : $$"
   ]
  },
  {
   "cell_type": "code",
   "execution_count": 11,
   "id": "26a2f13e",
   "metadata": {},
   "outputs": [
    {
     "data": {
      "text/plain": [
       "1.957225540470126"
      ]
     },
     "execution_count": 11,
     "metadata": {},
     "output_type": "execute_result"
    }
   ],
   "source": [
    "h = r / n\n",
    "h"
   ]
  },
  {
   "cell_type": "markdown",
   "id": "fac73a21-bea0-4fc4-b0ea-d51ae3cf7a60",
   "metadata": {},
   "source": [
    "Чтобы добиться сходимости результатов с первой частью работы, определим в цикле границы интервалов относительно минимального значения выборки $x_{min}$, прибавляя к предыдущей границе интервала ширину $h$ до тех пор пока она не превысит максимальной значение $x_{max}$:"
   ]
  },
  {
   "cell_type": "code",
   "execution_count": 12,
   "id": "150996d7",
   "metadata": {},
   "outputs": [
    {
     "data": {
      "text/plain": [
       "[51.78975385,\n",
       " 53.74697939047012,\n",
       " 55.70420493094025,\n",
       " 57.66143047141038,\n",
       " 59.6186560118805,\n",
       " 61.57588155235063,\n",
       " 63.53310709282076,\n",
       " 65.49033263329088,\n",
       " 67.447558173761]"
      ]
     },
     "execution_count": 12,
     "metadata": {},
     "output_type": "execute_result"
    }
   ],
   "source": [
    "bins = [data_describe[\"min\"]]         # поместим минимльное значение как первую границу в список bins\n",
    "left_border = data_describe[\"min\"]    # определим переменную left_border для хранения значения левой границы интервала\n",
    "while True:                           # создадим бесконечный цикла\n",
    "    right_border = left_border + h    # определим  и рссчитаем переменную right_border для правой границы интервала\n",
    "    bins.append(right_border)         # доабавим ее в список bins \n",
    "    if right_border <= data_describe[\"max\"]:  # если текущая правая граница интервала меньше максимльного значения:\n",
    "        left_border = right_border    # запишем ее как текущую левую границу и продолжим цикл \n",
    "    else:                             # а если нет, то:\n",
    "        break                         # прервем цикл\n",
    "bins                                  # выведем получившийся список границ интервалов:"
   ]
  },
  {
   "cell_type": "markdown",
   "id": "baf266d6-13ca-4dd9-80dd-bbc26c300485",
   "metadata": {},
   "source": [
    "Функция ```pd.cut()``` определяет к какому интервалу относится каждое значение серии **ds**.\n",
    "\n",
    "Передав в переменную **bins** список границ интервалов, мы можем указывать конкретные значения интервалов, создавать разное количество интервалов, выполнять несимметричные разбиения и создавать интервалы неравной ширины.\n",
    "\n",
    "Мы используем именно такой способ так как в первой части работы правая граница последнего интервала превосходила по значению максимально значение в выборке.\n",
    "\n",
    "Передав в переменную **bins** целое число мы явно укажем на какое количество равных интервалов мы хотим разбить наш ряд чисел.\n",
    "\n",
    "***\n",
    "\n",
    "Используем в качестве разделителся ранее полученный списое границ **bins**:"
   ]
  },
  {
   "cell_type": "code",
   "execution_count": 13,
   "id": "0821a05a",
   "metadata": {},
   "outputs": [
    {
     "data": {
      "text/plain": [
       "0      [61.576, 63.533)\n",
       "1      [55.704, 57.661)\n",
       "2      [59.619, 61.576)\n",
       "3      [55.704, 57.661)\n",
       "4      [57.661, 59.619)\n",
       "             ...       \n",
       "123    [57.661, 59.619)\n",
       "124    [61.576, 63.533)\n",
       "125    [57.661, 59.619)\n",
       "126    [59.619, 61.576)\n",
       "127    [57.661, 59.619)\n",
       "Name: 0, Length: 128, dtype: category\n",
       "Categories (8, interval[float64, left]): [[51.79, 53.747) < [53.747, 55.704) < [55.704, 57.661) < [57.661, 59.619) < [59.619, 61.576) < [61.576, 63.533) < [63.533, 65.49) < [65.49, 67.448)]"
      ]
     },
     "execution_count": 13,
     "metadata": {},
     "output_type": "execute_result"
    }
   ],
   "source": [
    "pd.cut(ds, bins=bins, include_lowest=True, right=False)"
   ]
  },
  {
   "cell_type": "markdown",
   "id": "fa0ed1d3",
   "metadata": {},
   "source": [
    "дополнительные переменные:\n",
    "* ```include_lowest=True``` - определяет что минимальное значение $x_{min}$ будет включено в первый интервал;\n",
    "* ```right=False``` - что правые границы интервалов не включают в себя попавшие на них значения (интервал: $[x_л, x_{пр})$)."
   ]
  },
  {
   "cell_type": "markdown",
   "id": "0135294a-b00f-4c20-96ee-42c34f2ef42d",
   "metadata": {},
   "source": [
    "При выполнении функции ```pd.cut()``` мы получаем новую структуру *Series*, которая связана с нашей структурой **ds** по числовому индексу\n",
    "\n",
    "Для примера сгруппируем нашу серию **ds**, исходя из их отношения к конкретному интервалу:"
   ]
  },
  {
   "cell_type": "code",
   "execution_count": 14,
   "id": "a99a4b88",
   "metadata": {},
   "outputs": [
    {
     "data": {
      "text/plain": [
       "[51.79, 53.747)   35     53.371319\n",
       "                  43     51.789754\n",
       "                  103    53.632930\n",
       "[53.747, 55.704)  16     55.211169\n",
       "                  24     53.954021\n",
       "                           ...    \n",
       "[63.533, 65.49)   100    63.974128\n",
       "                  102    64.558972\n",
       "[65.49, 67.448)   105    66.594009\n",
       "                  111    66.944692\n",
       "                  120    66.449405\n",
       "Name: 0, Length: 128, dtype: float64"
      ]
     },
     "execution_count": 14,
     "metadata": {},
     "output_type": "execute_result"
    }
   ],
   "source": [
    "ds.groupby(pd.cut(ds, bins=bins, include_lowest=True, right=False), observed=True).apply(lambda x: x)"
   ]
  },
  {
   "cell_type": "markdown",
   "id": "8434aedf",
   "metadata": {},
   "source": [
    "> Синтаксис и внутренняя работа используемой здесь лямбда функции ```lambda x: x``` и ей подобных пока выходит за пределы нашего курса."
   ]
  },
  {
   "cell_type": "markdown",
   "id": "fa6f0690-6c95-4b6e-adec-1747db54a33e",
   "metadata": {},
   "source": [
    "Создадим на осове полученной группировки списки значений, относящихся к каждому интервалу:"
   ]
  },
  {
   "cell_type": "code",
   "execution_count": 15,
   "id": "ad480ae6",
   "metadata": {},
   "outputs": [
    {
     "data": {
      "text/plain": [
       "0\n",
       "[51.79, 53.747)               [53.37131917, 51.78975385, 53.63293046]\n",
       "[53.747, 55.704)    [55.21116863, 53.95402101, 55.55767829, 55.362...\n",
       "[55.704, 57.661)    [57.43807465, 56.26875545, 56.97197055, 56.602...\n",
       "[57.661, 59.619)    [58.46912605, 57.8691089, 57.95635592, 58.1491...\n",
       "[59.619, 61.576)    [59.85213372, 61.4901492, 60.67183453, 60.2147...\n",
       "[61.576, 63.533)    [62.20502978, 61.74321686, 63.20743075, 62.273...\n",
       "[63.533, 65.49)     [65.21124, 64.03160747, 64.89588425, 64.058164...\n",
       "[65.49, 67.448)               [66.59400892, 66.94469194, 66.44940514]\n",
       "Name: 0, dtype: object"
      ]
     },
     "execution_count": 15,
     "metadata": {},
     "output_type": "execute_result"
    }
   ],
   "source": [
    "ds.groupby(pd.cut(ds, bins=bins, include_lowest=True, right=False), observed=True).apply(lambda x: x.to_list())"
   ]
  },
  {
   "cell_type": "markdown",
   "id": "3442132a",
   "metadata": {},
   "source": [
    "Посчитаем количество значений в каждом интервале и сохраним полученный результат в промежуточную серию **interval_counter**:"
   ]
  },
  {
   "cell_type": "code",
   "execution_count": 16,
   "id": "272aeaf2",
   "metadata": {},
   "outputs": [
    {
     "data": {
      "text/plain": [
       "0\n",
       "[51.79, 53.747)      3\n",
       "[53.747, 55.704)     7\n",
       "[55.704, 57.661)    15\n",
       "[57.661, 59.619)    32\n",
       "[59.619, 61.576)    25\n",
       "[61.576, 63.533)    31\n",
       "[63.533, 65.49)     12\n",
       "[65.49, 67.448)      3\n",
       "Name: 0, dtype: int64"
      ]
     },
     "execution_count": 16,
     "metadata": {},
     "output_type": "execute_result"
    }
   ],
   "source": [
    "interval_counter = ds.groupby(pd.cut(ds, bins=bins, include_lowest=True, right=False), \n",
    "                              observed=True).apply(lambda x: len(x.to_list()))\n",
    "interval_counter"
   ]
  },
  {
   "cell_type": "markdown",
   "id": "9d9d6b8c",
   "metadata": {},
   "source": [
    "Посчитаем сумму частот $n$:"
   ]
  },
  {
   "cell_type": "code",
   "execution_count": 17,
   "id": "c4cd263e",
   "metadata": {},
   "outputs": [
    {
     "data": {
      "text/plain": [
       "128"
      ]
     },
     "execution_count": 17,
     "metadata": {},
     "output_type": "execute_result"
    }
   ],
   "source": [
    "interval_counter.sum()"
   ]
  },
  {
   "cell_type": "markdown",
   "id": "e07fcb00-5bd0-4df1-b9a7-a1a67bcb60f7",
   "metadata": {},
   "source": [
    "Рассмотрим подробнее первый индекс полученной серии:"
   ]
  },
  {
   "cell_type": "code",
   "execution_count": 18,
   "id": "8872f2b4",
   "metadata": {},
   "outputs": [
    {
     "data": {
      "text/plain": [
       "Interval(51.79, 53.747, closed='left')"
      ]
     },
     "execution_count": 18,
     "metadata": {},
     "output_type": "execute_result"
    }
   ],
   "source": [
    "interval_counter.index[0]"
   ]
  },
  {
   "cell_type": "markdown",
   "id": "b95fe29d-6c63-4dee-8814-b7d58b9abd1f",
   "metadata": {},
   "source": [
    "Сам по себе он (как и все остальные индексные интервалы) является сложным объектом со своей структурой и поведением.\n",
    "\n",
    "> Объктно-ориентированное программирование и работа со сложными объектами пока выходит за пределы нашего курса.\n",
    "\n",
    "Извлечем из него конкретные значения левой и правой границы:"
   ]
  },
  {
   "cell_type": "code",
   "execution_count": 19,
   "id": "9c81652e",
   "metadata": {},
   "outputs": [
    {
     "data": {
      "text/plain": [
       "(51.79, 53.747)"
      ]
     },
     "execution_count": 19,
     "metadata": {},
     "output_type": "execute_result"
    }
   ],
   "source": [
    "interval_counter.index[0].left, interval_counter.index[0].right"
   ]
  },
  {
   "cell_type": "markdown",
   "id": "0c2f9366-343c-4c37-b0a7-83a7e1a5627a",
   "metadata": {},
   "source": [
    "Переберем с помощью ```list comprehension``` в цикле все полученные индексы, создав два списка левых и правых границ интервалов соответственно:\n",
    "\n",
    "> Изучение синтаксиса ```list comprehension``` пока выходит за пределы нашего курса."
   ]
  },
  {
   "cell_type": "code",
   "execution_count": 20,
   "id": "bc76d760",
   "metadata": {},
   "outputs": [
    {
     "data": {
      "text/plain": [
       "([51.79, 53.747, 55.704, 57.661, 59.619, 61.576, 63.533, 65.49],\n",
       " [53.747, 55.704, 57.661, 59.619, 61.576, 63.533, 65.49, 67.448])"
      ]
     },
     "execution_count": 20,
     "metadata": {},
     "output_type": "execute_result"
    }
   ],
   "source": [
    "[idx.left for idx in interval_counter.index], \\\n",
    "[idx.right for idx in interval_counter.index]"
   ]
  },
  {
   "cell_type": "markdown",
   "id": "3906b6e0-7285-4c60-8020-6084ce4d4fb4",
   "metadata": {},
   "source": [
    "Список значений полученных частот может быть получен проще путем простого приведения серии к списку:"
   ]
  },
  {
   "cell_type": "code",
   "execution_count": 21,
   "id": "7f0cfb0c",
   "metadata": {},
   "outputs": [
    {
     "data": {
      "text/plain": [
       "[3, 7, 15, 32, 25, 31, 12, 3]"
      ]
     },
     "execution_count": 21,
     "metadata": {},
     "output_type": "execute_result"
    }
   ],
   "source": [
    "list(interval_counter)"
   ]
  },
  {
   "cell_type": "markdown",
   "id": "12b5cd3b-ed7e-4319-970e-599ed06789e2",
   "metadata": {},
   "source": [
    "Обобщим полученные результаты в сводную таблицу **table_1** через структуру *DataFrame*:"
   ]
  },
  {
   "cell_type": "code",
   "execution_count": 22,
   "id": "bf10057a",
   "metadata": {},
   "outputs": [
    {
     "data": {
      "text/html": [
       "<div>\n",
       "<style scoped>\n",
       "    .dataframe tbody tr th:only-of-type {\n",
       "        vertical-align: middle;\n",
       "    }\n",
       "\n",
       "    .dataframe tbody tr th {\n",
       "        vertical-align: top;\n",
       "    }\n",
       "\n",
       "    .dataframe thead th {\n",
       "        text-align: right;\n",
       "    }\n",
       "</style>\n",
       "<table border=\"1\" class=\"dataframe\">\n",
       "  <thead>\n",
       "    <tr style=\"text-align: right;\">\n",
       "      <th></th>\n",
       "      <th>x_left</th>\n",
       "      <th>x_right</th>\n",
       "      <th>n_f</th>\n",
       "    </tr>\n",
       "  </thead>\n",
       "  <tbody>\n",
       "    <tr>\n",
       "      <th>0</th>\n",
       "      <td>51.790</td>\n",
       "      <td>53.747</td>\n",
       "      <td>3</td>\n",
       "    </tr>\n",
       "    <tr>\n",
       "      <th>1</th>\n",
       "      <td>53.747</td>\n",
       "      <td>55.704</td>\n",
       "      <td>7</td>\n",
       "    </tr>\n",
       "    <tr>\n",
       "      <th>2</th>\n",
       "      <td>55.704</td>\n",
       "      <td>57.661</td>\n",
       "      <td>15</td>\n",
       "    </tr>\n",
       "    <tr>\n",
       "      <th>3</th>\n",
       "      <td>57.661</td>\n",
       "      <td>59.619</td>\n",
       "      <td>32</td>\n",
       "    </tr>\n",
       "    <tr>\n",
       "      <th>4</th>\n",
       "      <td>59.619</td>\n",
       "      <td>61.576</td>\n",
       "      <td>25</td>\n",
       "    </tr>\n",
       "    <tr>\n",
       "      <th>5</th>\n",
       "      <td>61.576</td>\n",
       "      <td>63.533</td>\n",
       "      <td>31</td>\n",
       "    </tr>\n",
       "    <tr>\n",
       "      <th>6</th>\n",
       "      <td>63.533</td>\n",
       "      <td>65.490</td>\n",
       "      <td>12</td>\n",
       "    </tr>\n",
       "    <tr>\n",
       "      <th>7</th>\n",
       "      <td>65.490</td>\n",
       "      <td>67.448</td>\n",
       "      <td>3</td>\n",
       "    </tr>\n",
       "  </tbody>\n",
       "</table>\n",
       "</div>"
      ],
      "text/plain": [
       "   x_left  x_right  n_f\n",
       "0  51.790   53.747    3\n",
       "1  53.747   55.704    7\n",
       "2  55.704   57.661   15\n",
       "3  57.661   59.619   32\n",
       "4  59.619   61.576   25\n",
       "5  61.576   63.533   31\n",
       "6  63.533   65.490   12\n",
       "7  65.490   67.448    3"
      ]
     },
     "execution_count": 22,
     "metadata": {},
     "output_type": "execute_result"
    }
   ],
   "source": [
    "table_1 = pd.DataFrame({\"x_left\": [idx.left for idx in interval_counter.index],\n",
    "                        \"x_right\": [idx.right for idx in interval_counter.index],\n",
    "                        \"n_f\": list(interval_counter)})\n",
    "table_1"
   ]
  },
  {
   "cell_type": "markdown",
   "id": "a1cf46d3-bbbc-461a-80e6-4da175efee05",
   "metadata": {},
   "source": [
    "Добавим в эту таблицу новый столбец **\"p_f\"** (обратившись по несуществующему пока в таблице имени столбца - ```table_1[\"p_f\"]```) и сразу рассчитаем его значения:"
   ]
  },
  {
   "cell_type": "code",
   "execution_count": 23,
   "id": "5de77b86",
   "metadata": {},
   "outputs": [
    {
     "data": {
      "text/html": [
       "<div>\n",
       "<style scoped>\n",
       "    .dataframe tbody tr th:only-of-type {\n",
       "        vertical-align: middle;\n",
       "    }\n",
       "\n",
       "    .dataframe tbody tr th {\n",
       "        vertical-align: top;\n",
       "    }\n",
       "\n",
       "    .dataframe thead th {\n",
       "        text-align: right;\n",
       "    }\n",
       "</style>\n",
       "<table border=\"1\" class=\"dataframe\">\n",
       "  <thead>\n",
       "    <tr style=\"text-align: right;\">\n",
       "      <th></th>\n",
       "      <th>x_left</th>\n",
       "      <th>x_right</th>\n",
       "      <th>n_f</th>\n",
       "      <th>p_f</th>\n",
       "    </tr>\n",
       "  </thead>\n",
       "  <tbody>\n",
       "    <tr>\n",
       "      <th>0</th>\n",
       "      <td>51.790</td>\n",
       "      <td>53.747</td>\n",
       "      <td>3</td>\n",
       "      <td>0.023438</td>\n",
       "    </tr>\n",
       "    <tr>\n",
       "      <th>1</th>\n",
       "      <td>53.747</td>\n",
       "      <td>55.704</td>\n",
       "      <td>7</td>\n",
       "      <td>0.054688</td>\n",
       "    </tr>\n",
       "    <tr>\n",
       "      <th>2</th>\n",
       "      <td>55.704</td>\n",
       "      <td>57.661</td>\n",
       "      <td>15</td>\n",
       "      <td>0.117188</td>\n",
       "    </tr>\n",
       "    <tr>\n",
       "      <th>3</th>\n",
       "      <td>57.661</td>\n",
       "      <td>59.619</td>\n",
       "      <td>32</td>\n",
       "      <td>0.250000</td>\n",
       "    </tr>\n",
       "    <tr>\n",
       "      <th>4</th>\n",
       "      <td>59.619</td>\n",
       "      <td>61.576</td>\n",
       "      <td>25</td>\n",
       "      <td>0.195312</td>\n",
       "    </tr>\n",
       "    <tr>\n",
       "      <th>5</th>\n",
       "      <td>61.576</td>\n",
       "      <td>63.533</td>\n",
       "      <td>31</td>\n",
       "      <td>0.242188</td>\n",
       "    </tr>\n",
       "    <tr>\n",
       "      <th>6</th>\n",
       "      <td>63.533</td>\n",
       "      <td>65.490</td>\n",
       "      <td>12</td>\n",
       "      <td>0.093750</td>\n",
       "    </tr>\n",
       "    <tr>\n",
       "      <th>7</th>\n",
       "      <td>65.490</td>\n",
       "      <td>67.448</td>\n",
       "      <td>3</td>\n",
       "      <td>0.023438</td>\n",
       "    </tr>\n",
       "  </tbody>\n",
       "</table>\n",
       "</div>"
      ],
      "text/plain": [
       "   x_left  x_right  n_f       p_f\n",
       "0  51.790   53.747    3  0.023438\n",
       "1  53.747   55.704    7  0.054688\n",
       "2  55.704   57.661   15  0.117188\n",
       "3  57.661   59.619   32  0.250000\n",
       "4  59.619   61.576   25  0.195312\n",
       "5  61.576   63.533   31  0.242188\n",
       "6  63.533   65.490   12  0.093750\n",
       "7  65.490   67.448    3  0.023438"
      ]
     },
     "execution_count": 23,
     "metadata": {},
     "output_type": "execute_result"
    }
   ],
   "source": [
    "table_1[\"p_f\"] = table_1[\"n_f\"] / data_describe[\"count\"]\n",
    "table_1"
   ]
  },
  {
   "cell_type": "markdown",
   "id": "f0c570cf-2157-4160-ad48-56a66d94c6a0",
   "metadata": {},
   "source": [
    "Проверим правильность расчетов, определив контрольные суммы по столбцам:"
   ]
  },
  {
   "cell_type": "code",
   "execution_count": 24,
   "id": "9850f893",
   "metadata": {},
   "outputs": [
    {
     "data": {
      "text/plain": [
       "x_left     469.120\n",
       "x_right    484.778\n",
       "n_f        128.000\n",
       "p_f          1.000\n",
       "dtype: float64"
      ]
     },
     "execution_count": 24,
     "metadata": {},
     "output_type": "execute_result"
    }
   ],
   "source": [
    "table_1.sum()"
   ]
  },
  {
   "cell_type": "markdown",
   "id": "be30b5e6",
   "metadata": {},
   "source": [
    "Метод ```.sum()``` считает сумму значений по всем столбцам *DataFrame* и выдает в результате новый объект *Series*."
   ]
  },
  {
   "cell_type": "markdown",
   "id": "09342480-734a-45a8-9147-af4d78b35344",
   "metadata": {},
   "source": [
    "Аналогично создадим столбец **\"x_avr\"** и посчитаем значения середин интервалов:"
   ]
  },
  {
   "cell_type": "code",
   "execution_count": 25,
   "id": "b338a4c9",
   "metadata": {},
   "outputs": [
    {
     "data": {
      "text/html": [
       "<div>\n",
       "<style scoped>\n",
       "    .dataframe tbody tr th:only-of-type {\n",
       "        vertical-align: middle;\n",
       "    }\n",
       "\n",
       "    .dataframe tbody tr th {\n",
       "        vertical-align: top;\n",
       "    }\n",
       "\n",
       "    .dataframe thead th {\n",
       "        text-align: right;\n",
       "    }\n",
       "</style>\n",
       "<table border=\"1\" class=\"dataframe\">\n",
       "  <thead>\n",
       "    <tr style=\"text-align: right;\">\n",
       "      <th></th>\n",
       "      <th>x_left</th>\n",
       "      <th>x_right</th>\n",
       "      <th>n_f</th>\n",
       "      <th>p_f</th>\n",
       "      <th>x_avr</th>\n",
       "    </tr>\n",
       "  </thead>\n",
       "  <tbody>\n",
       "    <tr>\n",
       "      <th>0</th>\n",
       "      <td>51.790</td>\n",
       "      <td>53.747</td>\n",
       "      <td>3</td>\n",
       "      <td>0.023438</td>\n",
       "      <td>52.7685</td>\n",
       "    </tr>\n",
       "    <tr>\n",
       "      <th>1</th>\n",
       "      <td>53.747</td>\n",
       "      <td>55.704</td>\n",
       "      <td>7</td>\n",
       "      <td>0.054688</td>\n",
       "      <td>54.7255</td>\n",
       "    </tr>\n",
       "    <tr>\n",
       "      <th>2</th>\n",
       "      <td>55.704</td>\n",
       "      <td>57.661</td>\n",
       "      <td>15</td>\n",
       "      <td>0.117188</td>\n",
       "      <td>56.6825</td>\n",
       "    </tr>\n",
       "    <tr>\n",
       "      <th>3</th>\n",
       "      <td>57.661</td>\n",
       "      <td>59.619</td>\n",
       "      <td>32</td>\n",
       "      <td>0.250000</td>\n",
       "      <td>58.6400</td>\n",
       "    </tr>\n",
       "    <tr>\n",
       "      <th>4</th>\n",
       "      <td>59.619</td>\n",
       "      <td>61.576</td>\n",
       "      <td>25</td>\n",
       "      <td>0.195312</td>\n",
       "      <td>60.5975</td>\n",
       "    </tr>\n",
       "    <tr>\n",
       "      <th>5</th>\n",
       "      <td>61.576</td>\n",
       "      <td>63.533</td>\n",
       "      <td>31</td>\n",
       "      <td>0.242188</td>\n",
       "      <td>62.5545</td>\n",
       "    </tr>\n",
       "    <tr>\n",
       "      <th>6</th>\n",
       "      <td>63.533</td>\n",
       "      <td>65.490</td>\n",
       "      <td>12</td>\n",
       "      <td>0.093750</td>\n",
       "      <td>64.5115</td>\n",
       "    </tr>\n",
       "    <tr>\n",
       "      <th>7</th>\n",
       "      <td>65.490</td>\n",
       "      <td>67.448</td>\n",
       "      <td>3</td>\n",
       "      <td>0.023438</td>\n",
       "      <td>66.4690</td>\n",
       "    </tr>\n",
       "  </tbody>\n",
       "</table>\n",
       "</div>"
      ],
      "text/plain": [
       "   x_left  x_right  n_f       p_f    x_avr\n",
       "0  51.790   53.747    3  0.023438  52.7685\n",
       "1  53.747   55.704    7  0.054688  54.7255\n",
       "2  55.704   57.661   15  0.117188  56.6825\n",
       "3  57.661   59.619   32  0.250000  58.6400\n",
       "4  59.619   61.576   25  0.195312  60.5975\n",
       "5  61.576   63.533   31  0.242188  62.5545\n",
       "6  63.533   65.490   12  0.093750  64.5115\n",
       "7  65.490   67.448    3  0.023438  66.4690"
      ]
     },
     "execution_count": 25,
     "metadata": {},
     "output_type": "execute_result"
    }
   ],
   "source": [
    "table_1[\"x_avr\"] = (table_1[\"x_right\"] + table_1[\"x_left\"]) / 2\n",
    "table_1"
   ]
  },
  {
   "cell_type": "markdown",
   "id": "62b39213-4b54-40c7-885a-d8485ded7042",
   "metadata": {},
   "source": [
    "Изменить порядок столбцов или создать подтаблицу можно переопределив таблицу, передав список имен требуемых столбцов в нужном порядке:"
   ]
  },
  {
   "cell_type": "code",
   "execution_count": 26,
   "id": "2d35f7f0",
   "metadata": {},
   "outputs": [
    {
     "data": {
      "text/html": [
       "<div>\n",
       "<style scoped>\n",
       "    .dataframe tbody tr th:only-of-type {\n",
       "        vertical-align: middle;\n",
       "    }\n",
       "\n",
       "    .dataframe tbody tr th {\n",
       "        vertical-align: top;\n",
       "    }\n",
       "\n",
       "    .dataframe thead th {\n",
       "        text-align: right;\n",
       "    }\n",
       "</style>\n",
       "<table border=\"1\" class=\"dataframe\">\n",
       "  <thead>\n",
       "    <tr style=\"text-align: right;\">\n",
       "      <th></th>\n",
       "      <th>x_left</th>\n",
       "      <th>x_right</th>\n",
       "      <th>x_avr</th>\n",
       "      <th>n_f</th>\n",
       "      <th>p_f</th>\n",
       "    </tr>\n",
       "  </thead>\n",
       "  <tbody>\n",
       "    <tr>\n",
       "      <th>0</th>\n",
       "      <td>51.790</td>\n",
       "      <td>53.747</td>\n",
       "      <td>52.7685</td>\n",
       "      <td>3</td>\n",
       "      <td>0.023438</td>\n",
       "    </tr>\n",
       "    <tr>\n",
       "      <th>1</th>\n",
       "      <td>53.747</td>\n",
       "      <td>55.704</td>\n",
       "      <td>54.7255</td>\n",
       "      <td>7</td>\n",
       "      <td>0.054688</td>\n",
       "    </tr>\n",
       "    <tr>\n",
       "      <th>2</th>\n",
       "      <td>55.704</td>\n",
       "      <td>57.661</td>\n",
       "      <td>56.6825</td>\n",
       "      <td>15</td>\n",
       "      <td>0.117188</td>\n",
       "    </tr>\n",
       "    <tr>\n",
       "      <th>3</th>\n",
       "      <td>57.661</td>\n",
       "      <td>59.619</td>\n",
       "      <td>58.6400</td>\n",
       "      <td>32</td>\n",
       "      <td>0.250000</td>\n",
       "    </tr>\n",
       "    <tr>\n",
       "      <th>4</th>\n",
       "      <td>59.619</td>\n",
       "      <td>61.576</td>\n",
       "      <td>60.5975</td>\n",
       "      <td>25</td>\n",
       "      <td>0.195312</td>\n",
       "    </tr>\n",
       "    <tr>\n",
       "      <th>5</th>\n",
       "      <td>61.576</td>\n",
       "      <td>63.533</td>\n",
       "      <td>62.5545</td>\n",
       "      <td>31</td>\n",
       "      <td>0.242188</td>\n",
       "    </tr>\n",
       "    <tr>\n",
       "      <th>6</th>\n",
       "      <td>63.533</td>\n",
       "      <td>65.490</td>\n",
       "      <td>64.5115</td>\n",
       "      <td>12</td>\n",
       "      <td>0.093750</td>\n",
       "    </tr>\n",
       "    <tr>\n",
       "      <th>7</th>\n",
       "      <td>65.490</td>\n",
       "      <td>67.448</td>\n",
       "      <td>66.4690</td>\n",
       "      <td>3</td>\n",
       "      <td>0.023438</td>\n",
       "    </tr>\n",
       "  </tbody>\n",
       "</table>\n",
       "</div>"
      ],
      "text/plain": [
       "   x_left  x_right    x_avr  n_f       p_f\n",
       "0  51.790   53.747  52.7685    3  0.023438\n",
       "1  53.747   55.704  54.7255    7  0.054688\n",
       "2  55.704   57.661  56.6825   15  0.117188\n",
       "3  57.661   59.619  58.6400   32  0.250000\n",
       "4  59.619   61.576  60.5975   25  0.195312\n",
       "5  61.576   63.533  62.5545   31  0.242188\n",
       "6  63.533   65.490  64.5115   12  0.093750\n",
       "7  65.490   67.448  66.4690    3  0.023438"
      ]
     },
     "execution_count": 26,
     "metadata": {},
     "output_type": "execute_result"
    }
   ],
   "source": [
    "table_1 = table_1[[\"x_left\", \"x_right\", \"x_avr\", \"n_f\", \"p_f\"]]\n",
    "table_1"
   ]
  },
  {
   "cell_type": "markdown",
   "id": "dd5e687e-6903-4a5d-9940-c246db77f2e4",
   "metadata": {},
   "source": [
    "Выполним необходимые для вычисления мат. ожидания промежуточные расчеты: "
   ]
  },
  {
   "cell_type": "code",
   "execution_count": 27,
   "id": "16bde9e2",
   "metadata": {},
   "outputs": [
    {
     "data": {
      "text/html": [
       "<div>\n",
       "<style scoped>\n",
       "    .dataframe tbody tr th:only-of-type {\n",
       "        vertical-align: middle;\n",
       "    }\n",
       "\n",
       "    .dataframe tbody tr th {\n",
       "        vertical-align: top;\n",
       "    }\n",
       "\n",
       "    .dataframe thead th {\n",
       "        text-align: right;\n",
       "    }\n",
       "</style>\n",
       "<table border=\"1\" class=\"dataframe\">\n",
       "  <thead>\n",
       "    <tr style=\"text-align: right;\">\n",
       "      <th></th>\n",
       "      <th>x_left</th>\n",
       "      <th>x_right</th>\n",
       "      <th>x_avr</th>\n",
       "      <th>n_f</th>\n",
       "      <th>p_f</th>\n",
       "      <th>n_f * x_avr</th>\n",
       "      <th>p_f * x_avr</th>\n",
       "    </tr>\n",
       "  </thead>\n",
       "  <tbody>\n",
       "    <tr>\n",
       "      <th>0</th>\n",
       "      <td>51.790</td>\n",
       "      <td>53.747</td>\n",
       "      <td>52.7685</td>\n",
       "      <td>3</td>\n",
       "      <td>0.023438</td>\n",
       "      <td>158.3055</td>\n",
       "      <td>1.236762</td>\n",
       "    </tr>\n",
       "    <tr>\n",
       "      <th>1</th>\n",
       "      <td>53.747</td>\n",
       "      <td>55.704</td>\n",
       "      <td>54.7255</td>\n",
       "      <td>7</td>\n",
       "      <td>0.054688</td>\n",
       "      <td>383.0785</td>\n",
       "      <td>2.992801</td>\n",
       "    </tr>\n",
       "    <tr>\n",
       "      <th>2</th>\n",
       "      <td>55.704</td>\n",
       "      <td>57.661</td>\n",
       "      <td>56.6825</td>\n",
       "      <td>15</td>\n",
       "      <td>0.117188</td>\n",
       "      <td>850.2375</td>\n",
       "      <td>6.642480</td>\n",
       "    </tr>\n",
       "    <tr>\n",
       "      <th>3</th>\n",
       "      <td>57.661</td>\n",
       "      <td>59.619</td>\n",
       "      <td>58.6400</td>\n",
       "      <td>32</td>\n",
       "      <td>0.250000</td>\n",
       "      <td>1876.4800</td>\n",
       "      <td>14.660000</td>\n",
       "    </tr>\n",
       "    <tr>\n",
       "      <th>4</th>\n",
       "      <td>59.619</td>\n",
       "      <td>61.576</td>\n",
       "      <td>60.5975</td>\n",
       "      <td>25</td>\n",
       "      <td>0.195312</td>\n",
       "      <td>1514.9375</td>\n",
       "      <td>11.835449</td>\n",
       "    </tr>\n",
       "    <tr>\n",
       "      <th>5</th>\n",
       "      <td>61.576</td>\n",
       "      <td>63.533</td>\n",
       "      <td>62.5545</td>\n",
       "      <td>31</td>\n",
       "      <td>0.242188</td>\n",
       "      <td>1939.1895</td>\n",
       "      <td>15.149918</td>\n",
       "    </tr>\n",
       "    <tr>\n",
       "      <th>6</th>\n",
       "      <td>63.533</td>\n",
       "      <td>65.490</td>\n",
       "      <td>64.5115</td>\n",
       "      <td>12</td>\n",
       "      <td>0.093750</td>\n",
       "      <td>774.1380</td>\n",
       "      <td>6.047953</td>\n",
       "    </tr>\n",
       "    <tr>\n",
       "      <th>7</th>\n",
       "      <td>65.490</td>\n",
       "      <td>67.448</td>\n",
       "      <td>66.4690</td>\n",
       "      <td>3</td>\n",
       "      <td>0.023438</td>\n",
       "      <td>199.4070</td>\n",
       "      <td>1.557867</td>\n",
       "    </tr>\n",
       "  </tbody>\n",
       "</table>\n",
       "</div>"
      ],
      "text/plain": [
       "   x_left  x_right    x_avr  n_f       p_f  n_f * x_avr  p_f * x_avr\n",
       "0  51.790   53.747  52.7685    3  0.023438     158.3055     1.236762\n",
       "1  53.747   55.704  54.7255    7  0.054688     383.0785     2.992801\n",
       "2  55.704   57.661  56.6825   15  0.117188     850.2375     6.642480\n",
       "3  57.661   59.619  58.6400   32  0.250000    1876.4800    14.660000\n",
       "4  59.619   61.576  60.5975   25  0.195312    1514.9375    11.835449\n",
       "5  61.576   63.533  62.5545   31  0.242188    1939.1895    15.149918\n",
       "6  63.533   65.490  64.5115   12  0.093750     774.1380     6.047953\n",
       "7  65.490   67.448  66.4690    3  0.023438     199.4070     1.557867"
      ]
     },
     "execution_count": 27,
     "metadata": {},
     "output_type": "execute_result"
    }
   ],
   "source": [
    "table_1[\"n_f * x_avr\"] = table_1[\"n_f\"] * table_1[\"x_avr\"]\n",
    "table_1[\"p_f * x_avr\"] = table_1[\"p_f\"] * table_1[\"x_avr\"]\n",
    "table_1"
   ]
  },
  {
   "cell_type": "markdown",
   "id": "200e20b5",
   "metadata": {},
   "source": [
    "## Характеристики центра"
   ]
  },
  {
   "cell_type": "markdown",
   "id": "070a93d1",
   "metadata": {},
   "source": [
    "### Математическое ожидание (expected_value)"
   ]
  },
  {
   "cell_type": "markdown",
   "id": "efbcfee6",
   "metadata": {},
   "source": [
    "Рассчитаем мат. ожидание через частость $$ M(X) = \\sum_{i=1}^{N} p_i \\cdot \\overline{x}:$$"
   ]
  },
  {
   "cell_type": "code",
   "execution_count": 28,
   "id": "c76fdad3",
   "metadata": {},
   "outputs": [
    {
     "data": {
      "text/plain": [
       "60.12323046875001"
      ]
     },
     "execution_count": 28,
     "metadata": {},
     "output_type": "execute_result"
    }
   ],
   "source": [
    "expected_value_1 = table_1.sum()[\"p_f * x_avr\"]\n",
    "expected_value_1"
   ]
  },
  {
   "cell_type": "markdown",
   "id": "0d8bc4a8",
   "metadata": {},
   "source": [
    "и частоту\n",
    "    \n",
    "$$ M(X) = \\frac{1}{N} \\sum_{i=1}^{N} n_i \\cdot \\overline{x}:$$"
   ]
  },
  {
   "cell_type": "code",
   "execution_count": 29,
   "id": "4bf84cc3",
   "metadata": {},
   "outputs": [
    {
     "data": {
      "text/plain": [
       "60.12323046875001"
      ]
     },
     "execution_count": 29,
     "metadata": {},
     "output_type": "execute_result"
    }
   ],
   "source": [
    "expected_value_2 = table_1.sum()[\"n_f * x_avr\"] / data_describe[\"count\"]\n",
    "expected_value_2"
   ]
  },
  {
   "cell_type": "markdown",
   "id": "b6d57bdd-b707-4dd2-9409-1a009fb62d36",
   "metadata": {},
   "source": [
    "И сравним значения с рассчитанной по полной выборке величиной:"
   ]
  },
  {
   "cell_type": "code",
   "execution_count": 30,
   "id": "21b7c2ab",
   "metadata": {},
   "outputs": [
    {
     "data": {
      "text/plain": [
       "60.15678678539062"
      ]
     },
     "execution_count": 30,
     "metadata": {},
     "output_type": "execute_result"
    }
   ],
   "source": [
    "expected_value_3 = data_describe[\"mean\"]\n",
    "expected_value_3"
   ]
  },
  {
   "cell_type": "markdown",
   "id": "f6aa74a7",
   "metadata": {},
   "source": [
    "Математическое ожидание можно посчитать напрямую из исходной серии данных, применив к ней метод ```.mean()```:"
   ]
  },
  {
   "cell_type": "code",
   "execution_count": 31,
   "id": "d1da44b5",
   "metadata": {},
   "outputs": [
    {
     "data": {
      "text/plain": [
       "60.15678678539062"
      ]
     },
     "execution_count": 31,
     "metadata": {},
     "output_type": "execute_result"
    }
   ],
   "source": [
    "expected_value_4 = ds.mean()\n",
    "expected_value_4"
   ]
  },
  {
   "cell_type": "markdown",
   "id": "b95845e4",
   "metadata": {},
   "source": [
    "### Мода (mode)\n",
    "\n",
    "Рассчитаем моду выборки.\n",
    "\n",
    "Для этого сначала определим индекс модального интервала (интервала с наибольшей частотой $\\max(n_i)$ и частостью $\\max(p_i)$)."
   ]
  },
  {
   "cell_type": "markdown",
   "id": "6e42967a-1ae5-4d8f-bd72-0476ef3e2d76",
   "metadata": {},
   "source": [
    "Метод ```.idxmax()``` позволяет определить индексы строк, содержащие максимальные значения в столбце:"
   ]
  },
  {
   "cell_type": "code",
   "execution_count": 32,
   "id": "fd0ef59a-6c9c-4ba2-9763-9d1e71a797ad",
   "metadata": {},
   "outputs": [
    {
     "data": {
      "text/plain": [
       "x_left         7\n",
       "x_right        7\n",
       "x_avr          7\n",
       "n_f            3\n",
       "p_f            3\n",
       "n_f * x_avr    5\n",
       "p_f * x_avr    5\n",
       "dtype: int64"
      ]
     },
     "execution_count": 32,
     "metadata": {},
     "output_type": "execute_result"
    }
   ],
   "source": [
    "table_1.idxmax()"
   ]
  },
  {
   "cell_type": "markdown",
   "id": "02ce1906",
   "metadata": {},
   "source": [
    "Используем его для определения индекса модального интервала:"
   ]
  },
  {
   "cell_type": "code",
   "execution_count": 33,
   "id": "3dd3600c-1dc7-4000-bb12-b436ed697c5a",
   "metadata": {},
   "outputs": [
    {
     "data": {
      "text/plain": [
       "3"
      ]
     },
     "execution_count": 33,
     "metadata": {},
     "output_type": "execute_result"
    }
   ],
   "source": [
    "mo_int_idx = table_1.idxmax()[\"n_f\"]\n",
    "mo_int_idx"
   ]
  },
  {
   "cell_type": "markdown",
   "id": "6ea60c65-a0dd-4334-8971-7a44fa966faf",
   "metadata": {},
   "source": [
    "Рассчитаем моду через частоту во формуле \n",
    "\n",
    "$$ Mo(X) = x_{л_{Мо}} + h \\cdot \\frac{n_{Мо} - n_{Мо - 1}}{(n_{Мо} - n_{Мо - 1}) + (n_{Мо} - n_{Мо + 1})} :$$"
   ]
  },
  {
   "cell_type": "code",
   "execution_count": 34,
   "id": "b3dc3684",
   "metadata": {},
   "outputs": [
    {
     "data": {
      "text/plain": [
       "59.04736809116634"
      ]
     },
     "execution_count": 34,
     "metadata": {},
     "output_type": "execute_result"
    }
   ],
   "source": [
    "mo_x_1 = table_1[\"x_left\"][mo_int_idx] + h * (table_1[\"n_f\"][mo_int_idx] - table_1[\"n_f\"][mo_int_idx - 1]) / \\\n",
    "                                    ((table_1[\"n_f\"][mo_int_idx] - table_1[\"n_f\"][mo_int_idx - 1]) + \\\n",
    "                                     (table_1[\"n_f\"][mo_int_idx] - table_1[\"n_f\"][mo_int_idx + 1]))\n",
    "mo_x_1"
   ]
  },
  {
   "cell_type": "markdown",
   "id": "574421ee",
   "metadata": {},
   "source": [
    "Проверим результат через частость\n",
    "\n",
    "$$ Mo(X) = x_{л_{Мо}} + h \\cdot \\frac{p_{Мо} - p_{Мо - 1}}{(p_{Мо} - p_{Мо - 1}) + (p_{Мо} - p_{Мо + 1})} :$$"
   ]
  },
  {
   "cell_type": "code",
   "execution_count": 35,
   "id": "b3eaf289",
   "metadata": {},
   "outputs": [
    {
     "data": {
      "text/plain": [
       "59.04736809116634"
      ]
     },
     "execution_count": 35,
     "metadata": {},
     "output_type": "execute_result"
    }
   ],
   "source": [
    "mo_x_2 = table_1[\"x_left\"][mo_int_idx] + h * (table_1[\"p_f\"][mo_int_idx] - table_1[\"p_f\"][mo_int_idx - 1]) / \\\n",
    "                                    ((table_1[\"p_f\"][mo_int_idx] - table_1[\"p_f\"][mo_int_idx - 1]) + \\\n",
    "                                     (table_1[\"p_f\"][3] - table_1[\"p_f\"][mo_int_idx + 1]))\n",
    "mo_x_2"
   ]
  },
  {
   "cell_type": "markdown",
   "id": "492b32a6",
   "metadata": {},
   "source": [
    "### Медиана (median)"
   ]
  },
  {
   "cell_type": "markdown",
   "id": "5bb661fb-3df2-439e-be8d-7b7bd0ae3ce3",
   "metadata": {},
   "source": [
    "Для определения медианного интервала рассчитаем накопленные суммы частот (```table_1[\"n_f\"]```) и частостей (```table_1[\"p_f\"]```) через метод ```.cumsum()```:"
   ]
  },
  {
   "cell_type": "code",
   "execution_count": 36,
   "id": "a907add8",
   "metadata": {},
   "outputs": [
    {
     "data": {
      "text/html": [
       "<div>\n",
       "<style scoped>\n",
       "    .dataframe tbody tr th:only-of-type {\n",
       "        vertical-align: middle;\n",
       "    }\n",
       "\n",
       "    .dataframe tbody tr th {\n",
       "        vertical-align: top;\n",
       "    }\n",
       "\n",
       "    .dataframe thead th {\n",
       "        text-align: right;\n",
       "    }\n",
       "</style>\n",
       "<table border=\"1\" class=\"dataframe\">\n",
       "  <thead>\n",
       "    <tr style=\"text-align: right;\">\n",
       "      <th></th>\n",
       "      <th>x_left</th>\n",
       "      <th>x_right</th>\n",
       "      <th>x_avr</th>\n",
       "      <th>n_f</th>\n",
       "      <th>p_f</th>\n",
       "      <th>n_f * x_avr</th>\n",
       "      <th>p_f * x_avr</th>\n",
       "      <th>n_f_cum</th>\n",
       "      <th>p_f_cum</th>\n",
       "    </tr>\n",
       "  </thead>\n",
       "  <tbody>\n",
       "    <tr>\n",
       "      <th>0</th>\n",
       "      <td>51.790</td>\n",
       "      <td>53.747</td>\n",
       "      <td>52.7685</td>\n",
       "      <td>3</td>\n",
       "      <td>0.023438</td>\n",
       "      <td>158.3055</td>\n",
       "      <td>1.236762</td>\n",
       "      <td>3</td>\n",
       "      <td>0.023438</td>\n",
       "    </tr>\n",
       "    <tr>\n",
       "      <th>1</th>\n",
       "      <td>53.747</td>\n",
       "      <td>55.704</td>\n",
       "      <td>54.7255</td>\n",
       "      <td>7</td>\n",
       "      <td>0.054688</td>\n",
       "      <td>383.0785</td>\n",
       "      <td>2.992801</td>\n",
       "      <td>10</td>\n",
       "      <td>0.078125</td>\n",
       "    </tr>\n",
       "    <tr>\n",
       "      <th>2</th>\n",
       "      <td>55.704</td>\n",
       "      <td>57.661</td>\n",
       "      <td>56.6825</td>\n",
       "      <td>15</td>\n",
       "      <td>0.117188</td>\n",
       "      <td>850.2375</td>\n",
       "      <td>6.642480</td>\n",
       "      <td>25</td>\n",
       "      <td>0.195312</td>\n",
       "    </tr>\n",
       "    <tr>\n",
       "      <th>3</th>\n",
       "      <td>57.661</td>\n",
       "      <td>59.619</td>\n",
       "      <td>58.6400</td>\n",
       "      <td>32</td>\n",
       "      <td>0.250000</td>\n",
       "      <td>1876.4800</td>\n",
       "      <td>14.660000</td>\n",
       "      <td>57</td>\n",
       "      <td>0.445312</td>\n",
       "    </tr>\n",
       "    <tr>\n",
       "      <th>4</th>\n",
       "      <td>59.619</td>\n",
       "      <td>61.576</td>\n",
       "      <td>60.5975</td>\n",
       "      <td>25</td>\n",
       "      <td>0.195312</td>\n",
       "      <td>1514.9375</td>\n",
       "      <td>11.835449</td>\n",
       "      <td>82</td>\n",
       "      <td>0.640625</td>\n",
       "    </tr>\n",
       "    <tr>\n",
       "      <th>5</th>\n",
       "      <td>61.576</td>\n",
       "      <td>63.533</td>\n",
       "      <td>62.5545</td>\n",
       "      <td>31</td>\n",
       "      <td>0.242188</td>\n",
       "      <td>1939.1895</td>\n",
       "      <td>15.149918</td>\n",
       "      <td>113</td>\n",
       "      <td>0.882812</td>\n",
       "    </tr>\n",
       "    <tr>\n",
       "      <th>6</th>\n",
       "      <td>63.533</td>\n",
       "      <td>65.490</td>\n",
       "      <td>64.5115</td>\n",
       "      <td>12</td>\n",
       "      <td>0.093750</td>\n",
       "      <td>774.1380</td>\n",
       "      <td>6.047953</td>\n",
       "      <td>125</td>\n",
       "      <td>0.976562</td>\n",
       "    </tr>\n",
       "    <tr>\n",
       "      <th>7</th>\n",
       "      <td>65.490</td>\n",
       "      <td>67.448</td>\n",
       "      <td>66.4690</td>\n",
       "      <td>3</td>\n",
       "      <td>0.023438</td>\n",
       "      <td>199.4070</td>\n",
       "      <td>1.557867</td>\n",
       "      <td>128</td>\n",
       "      <td>1.000000</td>\n",
       "    </tr>\n",
       "  </tbody>\n",
       "</table>\n",
       "</div>"
      ],
      "text/plain": [
       "   x_left  x_right    x_avr  n_f       p_f  n_f * x_avr  p_f * x_avr  n_f_cum  \\\n",
       "0  51.790   53.747  52.7685    3  0.023438     158.3055     1.236762        3   \n",
       "1  53.747   55.704  54.7255    7  0.054688     383.0785     2.992801       10   \n",
       "2  55.704   57.661  56.6825   15  0.117188     850.2375     6.642480       25   \n",
       "3  57.661   59.619  58.6400   32  0.250000    1876.4800    14.660000       57   \n",
       "4  59.619   61.576  60.5975   25  0.195312    1514.9375    11.835449       82   \n",
       "5  61.576   63.533  62.5545   31  0.242188    1939.1895    15.149918      113   \n",
       "6  63.533   65.490  64.5115   12  0.093750     774.1380     6.047953      125   \n",
       "7  65.490   67.448  66.4690    3  0.023438     199.4070     1.557867      128   \n",
       "\n",
       "    p_f_cum  \n",
       "0  0.023438  \n",
       "1  0.078125  \n",
       "2  0.195312  \n",
       "3  0.445312  \n",
       "4  0.640625  \n",
       "5  0.882812  \n",
       "6  0.976562  \n",
       "7  1.000000  "
      ]
     },
     "execution_count": 36,
     "metadata": {},
     "output_type": "execute_result"
    }
   ],
   "source": [
    "table_1[\"n_f_cum\"] = table_1[\"n_f\"].cumsum()\n",
    "table_1[\"p_f_cum\"] = table_1[\"p_f\"].cumsum()\n",
    "table_1"
   ]
  },
  {
   "cell_type": "markdown",
   "id": "ec2a0c32-06af-4d53-b7fe-ea1bf2844df8",
   "metadata": {},
   "source": [
    "Для нахождения индекса медианного интервала (интервала первого накопившего частость свыше 0.5) создадим промежуточную серию **temp_tbl** состоящую из разности накопленных частостей ```table_1[\"p_f_cum\"]``` с числом 0.5"
   ]
  },
  {
   "cell_type": "code",
   "execution_count": 37,
   "id": "df0bdeaa-d13f-4973-b91a-7542269f2745",
   "metadata": {},
   "outputs": [
    {
     "data": {
      "text/plain": [
       "0   -0.476562\n",
       "1   -0.421875\n",
       "2   -0.304688\n",
       "3   -0.054688\n",
       "4    0.140625\n",
       "5    0.382812\n",
       "6    0.476562\n",
       "7    0.500000\n",
       "Name: p_f_cum, dtype: float64"
      ]
     },
     "execution_count": 37,
     "metadata": {},
     "output_type": "execute_result"
    }
   ],
   "source": [
    "temp_tbl = table_1[\"p_f_cum\"] - 0.5\n",
    "temp_tbl"
   ]
  },
  {
   "cell_type": "markdown",
   "id": "810b51e8",
   "metadata": {},
   "source": [
    "Создадим временный список **mask**, состоящий из булевых значений определяющих положительные и отрицательные значения в серии **temp_tbl**:"
   ]
  },
  {
   "cell_type": "code",
   "execution_count": 38,
   "id": "4c7153a7-7676-41d1-b98f-45e42cf81477",
   "metadata": {},
   "outputs": [
    {
     "data": {
      "text/plain": [
       "0    False\n",
       "1    False\n",
       "2    False\n",
       "3    False\n",
       "4     True\n",
       "5     True\n",
       "6     True\n",
       "7     True\n",
       "Name: p_f_cum, dtype: bool"
      ]
     },
     "execution_count": 38,
     "metadata": {},
     "output_type": "execute_result"
    }
   ],
   "source": [
    "mask = temp_tbl > 0\n",
    "mask"
   ]
  },
  {
   "cell_type": "markdown",
   "id": "3b2d82e3-c3ad-48f1-8467-7daa4e8ad36c",
   "metadata": {},
   "source": [
    "Отфильтруем по полученной маске **mask** значения в серии **temp_tbl**:"
   ]
  },
  {
   "cell_type": "code",
   "execution_count": 39,
   "id": "06cfd19c-3d73-4379-93f1-5a3491deb29b",
   "metadata": {},
   "outputs": [
    {
     "data": {
      "text/plain": [
       "4    0.140625\n",
       "5    0.382812\n",
       "6    0.476562\n",
       "7    0.500000\n",
       "Name: p_f_cum, dtype: float64"
      ]
     },
     "execution_count": 39,
     "metadata": {},
     "output_type": "execute_result"
    }
   ],
   "source": [
    "temp_tbl = temp_tbl[mask]\n",
    "temp_tbl"
   ]
  },
  {
   "cell_type": "markdown",
   "id": "e8e8a6f2-4f77-41c4-bbd6-489af95d4eb9",
   "metadata": {},
   "source": [
    "Аналогично поиску индекса строки с максимальным числом найдем индекс с минимальным (применив парный методу ```.idxmax()``` метод ```.idxmin()```):"
   ]
  },
  {
   "cell_type": "code",
   "execution_count": 40,
   "id": "c991760f-0164-47d0-9273-35f4d0d9681d",
   "metadata": {},
   "outputs": [
    {
     "data": {
      "text/plain": [
       "4"
      ]
     },
     "execution_count": 40,
     "metadata": {},
     "output_type": "execute_result"
    }
   ],
   "source": [
    "mе_int_idx = temp_tbl.idxmin()\n",
    "mе_int_idx"
   ]
  },
  {
   "cell_type": "markdown",
   "id": "b54a06d0-e995-4a14-be56-2fcaceff0ec7",
   "metadata": {},
   "source": [
    "Рассчитаем медиану по нашему ряду через частоту\n",
    "\n",
    "$$ Me(X) = x_{л_{Me}} + h \\cdot \\frac{0.5N - \\sum n_{Me - 1}}{n_{Me}}: $$"
   ]
  },
  {
   "cell_type": "code",
   "execution_count": 41,
   "id": "39954e87",
   "metadata": {},
   "outputs": [
    {
     "data": {
      "text/plain": [
       "60.167023151331634"
      ]
     },
     "execution_count": 41,
     "metadata": {},
     "output_type": "execute_result"
    }
   ],
   "source": [
    "me_x_1 = table_1[\"x_left\"][mе_int_idx] + h * (0.5 * data_describe[\"count\"] - table_1[\"n_f_cum\"][mе_int_idx - 1]) / \\\n",
    "                                                                                table_1[\"n_f\"][mе_int_idx]\n",
    "me_x_1"
   ]
  },
  {
   "cell_type": "markdown",
   "id": "57637401-b0b0-4ac2-b27b-6595ad7c221d",
   "metadata": {},
   "source": [
    "и частость\n",
    "\n",
    "$$ Me(X) = x_{л_{Me}} + h \\cdot \\frac{0.5 - \\sum p_{Me - 1}}{p_{Me}}: $$"
   ]
  },
  {
   "cell_type": "code",
   "execution_count": 42,
   "id": "4c02fae4",
   "metadata": {},
   "outputs": [
    {
     "data": {
      "text/plain": [
       "60.167023151331634"
      ]
     },
     "execution_count": 42,
     "metadata": {},
     "output_type": "execute_result"
    }
   ],
   "source": [
    "me_x_2 = table_1[\"x_left\"][mе_int_idx] + h * (0.5 - table_1[\"p_f_cum\"][mе_int_idx - 1]) / table_1[\"p_f\"][mе_int_idx]\n",
    "me_x_2"
   ]
  },
  {
   "cell_type": "markdown",
   "id": "90911037-97b1-4fe7-bc73-61f9bde79c83",
   "metadata": {},
   "source": [
    "Сравним полученное значение из общего описания данных (наша переменная **data_describe**) по 50% квартилю:"
   ]
  },
  {
   "cell_type": "code",
   "execution_count": 43,
   "id": "b6f0073c",
   "metadata": {},
   "outputs": [
    {
     "data": {
      "text/plain": [
       "60.190618955000005"
      ]
     },
     "execution_count": 43,
     "metadata": {},
     "output_type": "execute_result"
    }
   ],
   "source": [
    "me_x_3 = data_describe[\"50%\"]\n",
    "me_x_3"
   ]
  },
  {
   "cell_type": "markdown",
   "id": "7d30d09e",
   "metadata": {},
   "source": [
    "Или напрямую из исходной серии **ds**, применив к нему метод ```.median()```:"
   ]
  },
  {
   "cell_type": "code",
   "execution_count": 44,
   "id": "4a34405b",
   "metadata": {},
   "outputs": [
    {
     "data": {
      "text/plain": [
       "60.190618955000005"
      ]
     },
     "execution_count": 44,
     "metadata": {},
     "output_type": "execute_result"
    }
   ],
   "source": [
    "me_x_4 = ds.median()\n",
    "me_x_4"
   ]
  },
  {
   "cell_type": "markdown",
   "id": "0ad3d02a-2796-447b-97f8-fe9777a08893",
   "metadata": {},
   "source": [
    "И определим аналогичное значение через наши исходные данные:"
   ]
  },
  {
   "cell_type": "markdown",
   "id": "6834328d-72a1-4b9b-a838-c5ced741e376",
   "metadata": {},
   "source": [
    "Создадим копию наших данных в новую отсортированную серию:"
   ]
  },
  {
   "cell_type": "code",
   "execution_count": 45,
   "id": "196d3929-dfb2-4e12-b274-9e843c35090e",
   "metadata": {},
   "outputs": [
    {
     "data": {
      "text/plain": [
       "43     51.789754\n",
       "35     53.371319\n",
       "103    53.632930\n",
       "24     53.954021\n",
       "78     54.167908\n",
       "         ...    \n",
       "9      65.211240\n",
       "63     65.218526\n",
       "120    66.449405\n",
       "105    66.594009\n",
       "111    66.944692\n",
       "Name: 0, Length: 128, dtype: float64"
      ]
     },
     "execution_count": 45,
     "metadata": {},
     "output_type": "execute_result"
    }
   ],
   "source": [
    "ds_sort = ds.sort_values()\n",
    "ds_sort"
   ]
  },
  {
   "cell_type": "markdown",
   "id": "fd880ec5-11c4-490d-8382-3b9e2c87d4ed",
   "metadata": {},
   "source": [
    "Обнулим предыдущую индексацию в полученной серии и перепишем переменную **ds_sort**:"
   ]
  },
  {
   "cell_type": "code",
   "execution_count": 46,
   "id": "c427b5e2-a238-4c9b-befa-b89a10531383",
   "metadata": {},
   "outputs": [
    {
     "data": {
      "text/plain": [
       "0      51.789754\n",
       "1      53.371319\n",
       "2      53.632930\n",
       "3      53.954021\n",
       "4      54.167908\n",
       "         ...    \n",
       "123    65.211240\n",
       "124    65.218526\n",
       "125    66.449405\n",
       "126    66.594009\n",
       "127    66.944692\n",
       "Name: 0, Length: 128, dtype: float64"
      ]
     },
     "execution_count": 46,
     "metadata": {},
     "output_type": "execute_result"
    }
   ],
   "source": [
    "ds_sort = ds_sort.reset_index(drop=True)\n",
    "ds_sort"
   ]
  },
  {
   "cell_type": "markdown",
   "id": "0546bcb7",
   "metadata": {},
   "source": [
    "Напишем алгоритм вычисления медианы из отсортированного списка учитывающий четность или нечетность чисел в нашей выборке:"
   ]
  },
  {
   "cell_type": "code",
   "execution_count": 47,
   "id": "039cd662-fc9a-4576-a734-2946cc668a6e",
   "metadata": {},
   "outputs": [
    {
     "data": {
      "text/plain": [
       "60.190618955000005"
      ]
     },
     "execution_count": 47,
     "metadata": {},
     "output_type": "execute_result"
    }
   ],
   "source": [
    "count = data_describe[\"count\"]\n",
    "if count % 2 == 0:\n",
    "    idx_2 = int(count / 2)\n",
    "    idx_1 = idx_2 - 1\n",
    "    me_x_5 = (ds_sort[idx_1] + ds_sort[idx_2]) / 2\n",
    "else:\n",
    "    idx = int(count / 2)\n",
    "    me_x_5 = ds_sort[idx]\n",
    "me_x_5"
   ]
  },
  {
   "cell_type": "markdown",
   "id": "bb90ca98",
   "metadata": {},
   "source": [
    "> Полное изучение синтаксиса логических выражений пока выходит за пределы нашего курса."
   ]
  },
  {
   "cell_type": "markdown",
   "id": "a561dcbf",
   "metadata": {},
   "source": [
    "## Характеристики рассеивания"
   ]
  },
  {
   "cell_type": "markdown",
   "id": "2d7a485d-7030-4bcb-9c13-962ef0ce413c",
   "metadata": {},
   "source": [
    "Выполним промежуточные рассчеты, необходимые для вычисления центральных моментов первых четырех порядков\n",
    "\n",
    "$$ \\alpha_0^k(X) = M\\left((x - M(X))^k\\right) = \\sum_{i=1}^{n} p_i \\cdot (\\overline{x}_i - M(X))^k $$:"
   ]
  },
  {
   "cell_type": "code",
   "execution_count": 48,
   "id": "82a6a7df",
   "metadata": {},
   "outputs": [
    {
     "data": {
      "text/html": [
       "<div>\n",
       "<style scoped>\n",
       "    .dataframe tbody tr th:only-of-type {\n",
       "        vertical-align: middle;\n",
       "    }\n",
       "\n",
       "    .dataframe tbody tr th {\n",
       "        vertical-align: top;\n",
       "    }\n",
       "\n",
       "    .dataframe thead th {\n",
       "        text-align: right;\n",
       "    }\n",
       "</style>\n",
       "<table border=\"1\" class=\"dataframe\">\n",
       "  <thead>\n",
       "    <tr style=\"text-align: right;\">\n",
       "      <th></th>\n",
       "      <th>x_left</th>\n",
       "      <th>x_right</th>\n",
       "      <th>x_avr</th>\n",
       "      <th>n_f</th>\n",
       "      <th>p_f</th>\n",
       "      <th>n_f * x_avr</th>\n",
       "      <th>p_f * x_avr</th>\n",
       "      <th>n_f_cum</th>\n",
       "      <th>p_f_cum</th>\n",
       "      <th>p_f * (x_avr - M(X))^1</th>\n",
       "      <th>p_f * (x_avr - M(X))^2</th>\n",
       "      <th>p_f * (x_avr - M(X))^3</th>\n",
       "      <th>p_f * (x_avr - M(X))^4</th>\n",
       "    </tr>\n",
       "  </thead>\n",
       "  <tbody>\n",
       "    <tr>\n",
       "      <th>0</th>\n",
       "      <td>51.790</td>\n",
       "      <td>53.747</td>\n",
       "      <td>52.7685</td>\n",
       "      <td>3</td>\n",
       "      <td>0.023438</td>\n",
       "      <td>158.3055</td>\n",
       "      <td>1.236762</td>\n",
       "      <td>3</td>\n",
       "      <td>0.023438</td>\n",
       "      <td>-0.172376</td>\n",
       "      <td>1.267783</td>\n",
       "      <td>-9.324200</td>\n",
       "      <td>68.576976</td>\n",
       "    </tr>\n",
       "    <tr>\n",
       "      <th>1</th>\n",
       "      <td>53.747</td>\n",
       "      <td>55.704</td>\n",
       "      <td>54.7255</td>\n",
       "      <td>7</td>\n",
       "      <td>0.054688</td>\n",
       "      <td>383.0785</td>\n",
       "      <td>2.992801</td>\n",
       "      <td>10</td>\n",
       "      <td>0.078125</td>\n",
       "      <td>-0.295188</td>\n",
       "      <td>1.593347</td>\n",
       "      <td>-8.600459</td>\n",
       "      <td>46.422962</td>\n",
       "    </tr>\n",
       "    <tr>\n",
       "      <th>2</th>\n",
       "      <td>55.704</td>\n",
       "      <td>57.661</td>\n",
       "      <td>56.6825</td>\n",
       "      <td>15</td>\n",
       "      <td>0.117188</td>\n",
       "      <td>850.2375</td>\n",
       "      <td>6.642480</td>\n",
       "      <td>25</td>\n",
       "      <td>0.195312</td>\n",
       "      <td>-0.403211</td>\n",
       "      <td>1.387339</td>\n",
       "      <td>-4.773460</td>\n",
       "      <td>16.424188</td>\n",
       "    </tr>\n",
       "    <tr>\n",
       "      <th>3</th>\n",
       "      <td>57.661</td>\n",
       "      <td>59.619</td>\n",
       "      <td>58.6400</td>\n",
       "      <td>32</td>\n",
       "      <td>0.250000</td>\n",
       "      <td>1876.4800</td>\n",
       "      <td>14.660000</td>\n",
       "      <td>57</td>\n",
       "      <td>0.445312</td>\n",
       "      <td>-0.370808</td>\n",
       "      <td>0.549993</td>\n",
       "      <td>-0.815767</td>\n",
       "      <td>1.209970</td>\n",
       "    </tr>\n",
       "    <tr>\n",
       "      <th>4</th>\n",
       "      <td>59.619</td>\n",
       "      <td>61.576</td>\n",
       "      <td>60.5975</td>\n",
       "      <td>25</td>\n",
       "      <td>0.195312</td>\n",
       "      <td>1514.9375</td>\n",
       "      <td>11.835449</td>\n",
       "      <td>82</td>\n",
       "      <td>0.640625</td>\n",
       "      <td>0.092631</td>\n",
       "      <td>0.043932</td>\n",
       "      <td>0.020836</td>\n",
       "      <td>0.009882</td>\n",
       "    </tr>\n",
       "    <tr>\n",
       "      <th>5</th>\n",
       "      <td>61.576</td>\n",
       "      <td>63.533</td>\n",
       "      <td>62.5545</td>\n",
       "      <td>31</td>\n",
       "      <td>0.242188</td>\n",
       "      <td>1939.1895</td>\n",
       "      <td>15.149918</td>\n",
       "      <td>113</td>\n",
       "      <td>0.882812</td>\n",
       "      <td>0.588823</td>\n",
       "      <td>1.431588</td>\n",
       "      <td>3.480575</td>\n",
       "      <td>8.462217</td>\n",
       "    </tr>\n",
       "    <tr>\n",
       "      <th>6</th>\n",
       "      <td>63.533</td>\n",
       "      <td>65.490</td>\n",
       "      <td>64.5115</td>\n",
       "      <td>12</td>\n",
       "      <td>0.093750</td>\n",
       "      <td>774.1380</td>\n",
       "      <td>6.047953</td>\n",
       "      <td>125</td>\n",
       "      <td>0.976562</td>\n",
       "      <td>0.411400</td>\n",
       "      <td>1.805335</td>\n",
       "      <td>7.922298</td>\n",
       "      <td>34.765178</td>\n",
       "    </tr>\n",
       "    <tr>\n",
       "      <th>7</th>\n",
       "      <td>65.490</td>\n",
       "      <td>67.448</td>\n",
       "      <td>66.4690</td>\n",
       "      <td>3</td>\n",
       "      <td>0.023438</td>\n",
       "      <td>199.4070</td>\n",
       "      <td>1.557867</td>\n",
       "      <td>128</td>\n",
       "      <td>1.000000</td>\n",
       "      <td>0.148729</td>\n",
       "      <td>0.943800</td>\n",
       "      <td>5.989136</td>\n",
       "      <td>38.005676</td>\n",
       "    </tr>\n",
       "  </tbody>\n",
       "</table>\n",
       "</div>"
      ],
      "text/plain": [
       "   x_left  x_right    x_avr  n_f       p_f  n_f * x_avr  p_f * x_avr  n_f_cum  \\\n",
       "0  51.790   53.747  52.7685    3  0.023438     158.3055     1.236762        3   \n",
       "1  53.747   55.704  54.7255    7  0.054688     383.0785     2.992801       10   \n",
       "2  55.704   57.661  56.6825   15  0.117188     850.2375     6.642480       25   \n",
       "3  57.661   59.619  58.6400   32  0.250000    1876.4800    14.660000       57   \n",
       "4  59.619   61.576  60.5975   25  0.195312    1514.9375    11.835449       82   \n",
       "5  61.576   63.533  62.5545   31  0.242188    1939.1895    15.149918      113   \n",
       "6  63.533   65.490  64.5115   12  0.093750     774.1380     6.047953      125   \n",
       "7  65.490   67.448  66.4690    3  0.023438     199.4070     1.557867      128   \n",
       "\n",
       "    p_f_cum  p_f * (x_avr - M(X))^1  p_f * (x_avr - M(X))^2  \\\n",
       "0  0.023438               -0.172376                1.267783   \n",
       "1  0.078125               -0.295188                1.593347   \n",
       "2  0.195312               -0.403211                1.387339   \n",
       "3  0.445312               -0.370808                0.549993   \n",
       "4  0.640625                0.092631                0.043932   \n",
       "5  0.882812                0.588823                1.431588   \n",
       "6  0.976562                0.411400                1.805335   \n",
       "7  1.000000                0.148729                0.943800   \n",
       "\n",
       "   p_f * (x_avr - M(X))^3  p_f * (x_avr - M(X))^4  \n",
       "0               -9.324200               68.576976  \n",
       "1               -8.600459               46.422962  \n",
       "2               -4.773460               16.424188  \n",
       "3               -0.815767                1.209970  \n",
       "4                0.020836                0.009882  \n",
       "5                3.480575                8.462217  \n",
       "6                7.922298               34.765178  \n",
       "7                5.989136               38.005676  "
      ]
     },
     "execution_count": 48,
     "metadata": {},
     "output_type": "execute_result"
    }
   ],
   "source": [
    "table_1[\"p_f * (x_avr - M(X))^1\"] = table_1[\"p_f\"] * (table_1[\"x_avr\"] - expected_value_1)\n",
    "table_1[\"p_f * (x_avr - M(X))^2\"] = table_1[\"p_f\"] * (table_1[\"x_avr\"] - expected_value_1) ** 2\n",
    "table_1[\"p_f * (x_avr - M(X))^3\"] = table_1[\"p_f\"] * (table_1[\"x_avr\"] - expected_value_1) ** 3\n",
    "table_1[\"p_f * (x_avr - M(X))^4\"] = table_1[\"p_f\"] * (table_1[\"x_avr\"] - expected_value_1) ** 4\n",
    "table_1"
   ]
  },
  {
   "cell_type": "markdown",
   "id": "ffc082ea-3516-4978-bd56-53546590138c",
   "metadata": {},
   "source": [
    "Найдем сами искомые моменты как сумму значений по соответствующим столбцам:"
   ]
  },
  {
   "cell_type": "code",
   "execution_count": 49,
   "id": "15d5a244",
   "metadata": {},
   "outputs": [
    {
     "data": {
      "text/plain": [
       "(-8.215650382226158e-15,\n",
       " 9.023116800399778,\n",
       " -6.101040786684045,\n",
       " 213.87704879274017)"
      ]
     },
     "execution_count": 49,
     "metadata": {},
     "output_type": "execute_result"
    }
   ],
   "source": [
    "a0_1 = table_1.sum()[\"p_f * (x_avr - M(X))^1\"]\n",
    "a0_2 = table_1.sum()[\"p_f * (x_avr - M(X))^2\"]\n",
    "a0_3 = table_1.sum()[\"p_f * (x_avr - M(X))^3\"]\n",
    "a0_4 = table_1.sum()[\"p_f * (x_avr - M(X))^4\"]\n",
    "a0_1, a0_2, a0_3, a0_4"
   ]
  },
  {
   "cell_type": "markdown",
   "id": "fea6d374",
   "metadata": {},
   "source": [
    "### Дисперсия (variation)"
   ]
  },
  {
   "cell_type": "markdown",
   "id": "09daf3d8-7395-4de3-803c-e4c827bc43da",
   "metadata": {},
   "source": [
    "Дисперсия выборки равна центральному моменту второго порядка\n",
    "\n",
    "$$D(X) = \\alpha_0^2(X):$$"
   ]
  },
  {
   "cell_type": "code",
   "execution_count": 50,
   "id": "cb854c00",
   "metadata": {},
   "outputs": [
    {
     "data": {
      "text/plain": [
       "9.023116800399778"
      ]
     },
     "execution_count": 50,
     "metadata": {},
     "output_type": "execute_result"
    }
   ],
   "source": [
    "variation = a0_2\n",
    "variation"
   ]
  },
  {
   "cell_type": "markdown",
   "id": "a77b2f28",
   "metadata": {},
   "source": [
    "### Среднеквадратическое отклонение (standart deviation)"
   ]
  },
  {
   "cell_type": "markdown",
   "id": "aa399c43-1890-416d-bc19-914199774c75",
   "metadata": {},
   "source": [
    "А среднеквадратическое отклонение - корню из дисперсии\n",
    "\n",
    "$$ \\sigma(X) = \\sqrt{D(X)}:$$"
   ]
  },
  {
   "cell_type": "code",
   "execution_count": 51,
   "id": "32eab376",
   "metadata": {},
   "outputs": [
    {
     "data": {
      "text/plain": [
       "3.0038503292274363"
      ]
     },
     "execution_count": 51,
     "metadata": {},
     "output_type": "execute_result"
    }
   ],
   "source": [
    "std_dev = variation ** 0.5\n",
    "std_dev"
   ]
  },
  {
   "cell_type": "markdown",
   "id": "fbdf0d3b",
   "metadata": {},
   "source": [
    "### Ассиметрия (skewness)"
   ]
  },
  {
   "cell_type": "markdown",
   "id": "52e33bfc-fc52-40ea-8b55-2781995b79b3",
   "metadata": {},
   "source": [
    "Коэффициент ассиметрии может быть найден исходя из выражения\n",
    "\n",
    "$$ A = \\frac{\\alpha_0^3(X)}{\\sigma(X)^3}:$$"
   ]
  },
  {
   "cell_type": "code",
   "execution_count": 52,
   "id": "48facb74",
   "metadata": {},
   "outputs": [
    {
     "data": {
      "text/plain": [
       "-0.22509666448342824"
      ]
     },
     "execution_count": 52,
     "metadata": {},
     "output_type": "execute_result"
    }
   ],
   "source": [
    "skewness = a0_3 / std_dev ** 3\n",
    "skewness"
   ]
  },
  {
   "cell_type": "markdown",
   "id": "acf4ac74",
   "metadata": {},
   "source": [
    "Коффициент ассиметрии может быть также найден из исходной серии данных с помощью метода ```.skew()```:"
   ]
  },
  {
   "cell_type": "code",
   "execution_count": 53,
   "id": "8de8aec8",
   "metadata": {},
   "outputs": [
    {
     "data": {
      "text/plain": [
       "-0.2103783016788586"
      ]
     },
     "execution_count": 53,
     "metadata": {},
     "output_type": "execute_result"
    }
   ],
   "source": [
    "skewness_ds = ds.skew()\n",
    "skewness_ds"
   ]
  },
  {
   "cell_type": "markdown",
   "id": "9b55a241-0806-4883-a14a-4cf964419fd9",
   "metadata": {},
   "source": [
    "СКО коэффициента ассиметрии может быть приближенно оценена как\n",
    "\n",
    "$$ \\sigma_A \\approx \\sqrt{\\frac{6}{N}}: $$"
   ]
  },
  {
   "cell_type": "code",
   "execution_count": 54,
   "id": "83ad6f3e",
   "metadata": {},
   "outputs": [
    {
     "data": {
      "text/plain": [
       "0.21650635094610965"
      ]
     },
     "execution_count": 54,
     "metadata": {},
     "output_type": "execute_result"
    }
   ],
   "source": [
    "std_dev_of_skewness = (6 / data_describe[\"count\"]) ** 0.5\n",
    "std_dev_of_skewness"
   ]
  },
  {
   "cell_type": "markdown",
   "id": "4448a3ff-dc63-422e-880c-0ab9fdff2509",
   "metadata": {},
   "source": [
    "Существенность коэффициента ассиметрии может быть проверена невыполнением неравенства\n",
    "\n",
    "$$ | A | \\leq 3 \\cdot \\sigma_A: $$"
   ]
  },
  {
   "cell_type": "code",
   "execution_count": 55,
   "id": "59e97814",
   "metadata": {},
   "outputs": [
    {
     "data": {
      "text/plain": [
       "'Ассиметрия несущественна'"
      ]
     },
     "execution_count": 55,
     "metadata": {},
     "output_type": "execute_result"
    }
   ],
   "source": [
    "check_skewness = \"Ассиметрия несущественна\" if skewness < 3 * std_dev_of_skewness else \"Ассиметрия существенна\"\n",
    "check_skewness"
   ]
  },
  {
   "cell_type": "markdown",
   "id": "ed5ebdf9",
   "metadata": {},
   "source": [
    "### Эксцесс (kurtosis)"
   ]
  },
  {
   "cell_type": "markdown",
   "id": "3a25a0a9-8d4c-4113-ae3d-7c0da8a0813c",
   "metadata": {},
   "source": [
    "Коэффициент эксцесса может быть найден исходя из выражения\n",
    "\n",
    "$$ Э = \\frac{\\alpha_0^4(X)}{\\sigma(X)^4} - 3 :$$"
   ]
  },
  {
   "cell_type": "code",
   "execution_count": 56,
   "id": "ec2d2d11",
   "metadata": {},
   "outputs": [
    {
     "data": {
      "text/plain": [
       "-0.37305473161716707"
      ]
     },
     "execution_count": 56,
     "metadata": {},
     "output_type": "execute_result"
    }
   ],
   "source": [
    "kurtosis = a0_4 / std_dev ** 4 - 3\n",
    "kurtosis"
   ]
  },
  {
   "cell_type": "markdown",
   "id": "4b075147",
   "metadata": {},
   "source": [
    "Коффициент эксцесса может быть также найден из исходной серии данных с помощью метода ```.kurt()```:"
   ]
  },
  {
   "cell_type": "code",
   "execution_count": 57,
   "id": "b913903b",
   "metadata": {},
   "outputs": [
    {
     "data": {
      "text/plain": [
       "-0.2041510571289673"
      ]
     },
     "execution_count": 57,
     "metadata": {},
     "output_type": "execute_result"
    }
   ],
   "source": [
    "kurtosis_ds = ds.kurt()\n",
    "kurtosis_ds"
   ]
  },
  {
   "cell_type": "markdown",
   "id": "a713f263-07a4-4130-ae5a-3e4196d59b36",
   "metadata": {},
   "source": [
    "Аналогично ассиметрии СКО коэффициента эксцесса может быть приближенно оценен как\n",
    "\n",
    "$$ \\sigma_Э \\approx \\sqrt{\\frac{24}{N}}: $$"
   ]
  },
  {
   "cell_type": "code",
   "execution_count": 58,
   "id": "a154763e",
   "metadata": {},
   "outputs": [
    {
     "data": {
      "text/plain": [
       "0.4330127018922193"
      ]
     },
     "execution_count": 58,
     "metadata": {},
     "output_type": "execute_result"
    }
   ],
   "source": [
    "std_dev_of_kurtosis = (24 / data_describe[\"count\"]) ** 0.5\n",
    "std_dev_of_kurtosis"
   ]
  },
  {
   "cell_type": "markdown",
   "id": "26fb0b99",
   "metadata": {},
   "source": [
    "Аналогично существенность коэффициента эксцесса может быть проверена невыполнением неравенства\n",
    "\n",
    "$$ | Э | \\leq 3 \\cdot \\sigma_Э: $$"
   ]
  },
  {
   "cell_type": "code",
   "execution_count": 59,
   "id": "c4012ba1",
   "metadata": {},
   "outputs": [
    {
     "data": {
      "text/plain": [
       "'Эксцесс несуществен'"
      ]
     },
     "execution_count": 59,
     "metadata": {},
     "output_type": "execute_result"
    }
   ],
   "source": [
    "check_kurtosis = \"Эксцесс несуществен\" if skewness < 3 * std_dev_of_kurtosis else \"Эксцесс существен\"\n",
    "check_kurtosis"
   ]
  },
  {
   "cell_type": "markdown",
   "id": "7a269392-9ab4-4f1f-9674-212bb2ab7d0f",
   "metadata": {},
   "source": [
    "Сформируем рассчитанные значения статистик в результирующую серию **result**:"
   ]
  },
  {
   "cell_type": "code",
   "execution_count": 60,
   "id": "39fe1eb5",
   "metadata": {},
   "outputs": [
    {
     "data": {
      "text/plain": [
       "count         128.000000\n",
       "M(X)           60.123230\n",
       "Mo(X)          59.047368\n",
       "Me(X)          60.167023\n",
       "D(X)            9.023117\n",
       "Std_dev(X)      3.003850\n",
       "Skewness       -0.225097\n",
       "Kurtosis       -0.373055\n",
       "dtype: float64"
      ]
     },
     "execution_count": 60,
     "metadata": {},
     "output_type": "execute_result"
    }
   ],
   "source": [
    "result = pd.Series({\"count\": data_describe[\"count\"],\n",
    "                    \"M(X)\": expected_value_1,\n",
    "                    \"Mo(X)\": mo_x_1,\n",
    "                    \"Me(X)\": me_x_1,\n",
    "                    \"D(X)\": variation,\n",
    "                    \"Std_dev(X)\": std_dev,\n",
    "                    \"Skewness\": skewness,\n",
    "                    \"Kurtosis\": kurtosis,})\n",
    "result"
   ]
  },
  {
   "cell_type": "markdown",
   "id": "009cac40",
   "metadata": {},
   "source": [
    "***\n",
    "***\n",
    "\n",
    "## Сохранение полученных результатов"
   ]
  },
  {
   "cell_type": "markdown",
   "id": "c48f0749",
   "metadata": {},
   "source": [
    "Сохраним в файл **result_statistics** формате ```csv``` полученную ранее серию **result**:"
   ]
  },
  {
   "cell_type": "code",
   "execution_count": 61,
   "id": "19288092",
   "metadata": {},
   "outputs": [],
   "source": [
    "result.to_csv(r'.\\result_statistics.csv', index=True, header=False)"
   ]
  },
  {
   "cell_type": "markdown",
   "id": "5c8745ae",
   "metadata": {},
   "source": [
    "Создадим из *DataFrame* **table_1** заготовку для второй таблицы в *DataFrame* **table_2**:"
   ]
  },
  {
   "cell_type": "code",
   "execution_count": 62,
   "id": "5a564128",
   "metadata": {},
   "outputs": [
    {
     "data": {
      "text/html": [
       "<div>\n",
       "<style scoped>\n",
       "    .dataframe tbody tr th:only-of-type {\n",
       "        vertical-align: middle;\n",
       "    }\n",
       "\n",
       "    .dataframe tbody tr th {\n",
       "        vertical-align: top;\n",
       "    }\n",
       "\n",
       "    .dataframe thead th {\n",
       "        text-align: right;\n",
       "    }\n",
       "</style>\n",
       "<table border=\"1\" class=\"dataframe\">\n",
       "  <thead>\n",
       "    <tr style=\"text-align: right;\">\n",
       "      <th></th>\n",
       "      <th>x_left</th>\n",
       "      <th>x_right</th>\n",
       "      <th>x_avr</th>\n",
       "      <th>n_f</th>\n",
       "      <th>p_f</th>\n",
       "    </tr>\n",
       "  </thead>\n",
       "  <tbody>\n",
       "    <tr>\n",
       "      <th>0</th>\n",
       "      <td>51.790</td>\n",
       "      <td>53.747</td>\n",
       "      <td>52.7685</td>\n",
       "      <td>3</td>\n",
       "      <td>0.023438</td>\n",
       "    </tr>\n",
       "    <tr>\n",
       "      <th>1</th>\n",
       "      <td>53.747</td>\n",
       "      <td>55.704</td>\n",
       "      <td>54.7255</td>\n",
       "      <td>7</td>\n",
       "      <td>0.054688</td>\n",
       "    </tr>\n",
       "    <tr>\n",
       "      <th>2</th>\n",
       "      <td>55.704</td>\n",
       "      <td>57.661</td>\n",
       "      <td>56.6825</td>\n",
       "      <td>15</td>\n",
       "      <td>0.117188</td>\n",
       "    </tr>\n",
       "    <tr>\n",
       "      <th>3</th>\n",
       "      <td>57.661</td>\n",
       "      <td>59.619</td>\n",
       "      <td>58.6400</td>\n",
       "      <td>32</td>\n",
       "      <td>0.250000</td>\n",
       "    </tr>\n",
       "    <tr>\n",
       "      <th>4</th>\n",
       "      <td>59.619</td>\n",
       "      <td>61.576</td>\n",
       "      <td>60.5975</td>\n",
       "      <td>25</td>\n",
       "      <td>0.195312</td>\n",
       "    </tr>\n",
       "    <tr>\n",
       "      <th>5</th>\n",
       "      <td>61.576</td>\n",
       "      <td>63.533</td>\n",
       "      <td>62.5545</td>\n",
       "      <td>31</td>\n",
       "      <td>0.242188</td>\n",
       "    </tr>\n",
       "    <tr>\n",
       "      <th>6</th>\n",
       "      <td>63.533</td>\n",
       "      <td>65.490</td>\n",
       "      <td>64.5115</td>\n",
       "      <td>12</td>\n",
       "      <td>0.093750</td>\n",
       "    </tr>\n",
       "    <tr>\n",
       "      <th>7</th>\n",
       "      <td>65.490</td>\n",
       "      <td>67.448</td>\n",
       "      <td>66.4690</td>\n",
       "      <td>3</td>\n",
       "      <td>0.023438</td>\n",
       "    </tr>\n",
       "  </tbody>\n",
       "</table>\n",
       "</div>"
      ],
      "text/plain": [
       "   x_left  x_right    x_avr  n_f       p_f\n",
       "0  51.790   53.747  52.7685    3  0.023438\n",
       "1  53.747   55.704  54.7255    7  0.054688\n",
       "2  55.704   57.661  56.6825   15  0.117188\n",
       "3  57.661   59.619  58.6400   32  0.250000\n",
       "4  59.619   61.576  60.5975   25  0.195312\n",
       "5  61.576   63.533  62.5545   31  0.242188\n",
       "6  63.533   65.490  64.5115   12  0.093750\n",
       "7  65.490   67.448  66.4690    3  0.023438"
      ]
     },
     "execution_count": 62,
     "metadata": {},
     "output_type": "execute_result"
    }
   ],
   "source": [
    "table_2_df = table_1[[\"x_left\", \"x_right\", \"x_avr\", \"n_f\", \"p_f\"]]\n",
    "table_2_df"
   ]
  },
  {
   "cell_type": "markdown",
   "id": "1ffd232b",
   "metadata": {},
   "source": [
    "Сохраним полученный  *DataFrame* в файл **table_2.csv**:"
   ]
  },
  {
   "cell_type": "code",
   "execution_count": 63,
   "id": "c80a5ff8",
   "metadata": {},
   "outputs": [],
   "source": [
    "table_2_df.to_csv(r'.\\table_2.csv', index=True, header=True)"
   ]
  }
 ],
 "metadata": {
  "kernelspec": {
   "display_name": "Python 3 (ipykernel)",
   "language": "python",
   "name": "python3"
  },
  "language_info": {
   "codemirror_mode": {
    "name": "ipython",
    "version": 3
   },
   "file_extension": ".py",
   "mimetype": "text/x-python",
   "name": "python",
   "nbconvert_exporter": "python",
   "pygments_lexer": "ipython3",
   "version": "3.12.0"
  }
 },
 "nbformat": 4,
 "nbformat_minor": 5
}
