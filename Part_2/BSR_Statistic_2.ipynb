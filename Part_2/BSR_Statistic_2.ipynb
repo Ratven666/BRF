{
 "cells": [
  {
   "cell_type": "markdown",
   "id": "42a535a5",
   "metadata": {},
   "source": [
    "# Проверка гипотезы о нормальном распределении случайных величин"
   ]
  },
  {
   "cell_type": "markdown",
   "id": "13fce83a",
   "metadata": {},
   "source": [
    "Импорт необходимых библиотек"
   ]
  },
  {
   "cell_type": "code",
   "execution_count": 1,
   "id": "a6fba508",
   "metadata": {},
   "outputs": [],
   "source": [
    "import math\n",
    "import warnings\n",
    "\n",
    "import numpy as np\n",
    "import pandas as pd\n",
    "import matplotlib.pyplot as plt\n",
    "from scipy import stats\n",
    "\n",
    "pd.options.mode.copy_on_write = True\n",
    "warnings.filterwarnings(\"ignore\")"
   ]
  },
  {
   "cell_type": "markdown",
   "id": "7fd8fd88",
   "metadata": {},
   "source": [
    "## Чтение и загрузка исходных и сохраненных ранее данных"
   ]
  },
  {
   "cell_type": "markdown",
   "id": "99d76761",
   "metadata": {},
   "source": [
    "### Чтение исходных данных\n",
    "Загрузим наши исходные данные сразу в серию **ds**:"
   ]
  },
  {
   "cell_type": "code",
   "execution_count": 2,
   "id": "aa16029e",
   "metadata": {},
   "outputs": [
    {
     "data": {
      "text/plain": [
       "0      62.205030\n",
       "1      57.438075\n",
       "2      59.852134\n",
       "3      56.268755\n",
       "4      58.469126\n",
       "         ...    \n",
       "123    58.991015\n",
       "124    63.145081\n",
       "125    58.386862\n",
       "126    60.965588\n",
       "127    59.430169\n",
       "Name: 0, Length: 128, dtype: float64"
      ]
     },
     "execution_count": 2,
     "metadata": {},
     "output_type": "execute_result"
    }
   ],
   "source": [
    "ds = pd.read_csv(\"data.txt\", header=None)[0]\n",
    "ds"
   ]
  },
  {
   "cell_type": "markdown",
   "id": "e15f98f6",
   "metadata": {},
   "source": [
    "### Загрузка сохраненных результатов расчета\n",
    "\n",
    "Чтение файла ```\"result_statistics.csv\"```:"
   ]
  },
  {
   "cell_type": "code",
   "execution_count": 3,
   "id": "98efc4a0-e53c-4ce1-a691-0d6d31d7cc7f",
   "metadata": {},
   "outputs": [
    {
     "data": {
      "text/html": [
       "<div>\n",
       "<style scoped>\n",
       "    .dataframe tbody tr th:only-of-type {\n",
       "        vertical-align: middle;\n",
       "    }\n",
       "\n",
       "    .dataframe tbody tr th {\n",
       "        vertical-align: top;\n",
       "    }\n",
       "\n",
       "    .dataframe thead th {\n",
       "        text-align: right;\n",
       "    }\n",
       "</style>\n",
       "<table border=\"1\" class=\"dataframe\">\n",
       "  <thead>\n",
       "    <tr style=\"text-align: right;\">\n",
       "      <th></th>\n",
       "      <th>0</th>\n",
       "      <th>1</th>\n",
       "    </tr>\n",
       "  </thead>\n",
       "  <tbody>\n",
       "    <tr>\n",
       "      <th>0</th>\n",
       "      <td>count</td>\n",
       "      <td>128.000000</td>\n",
       "    </tr>\n",
       "    <tr>\n",
       "      <th>1</th>\n",
       "      <td>M(X)</td>\n",
       "      <td>60.123230</td>\n",
       "    </tr>\n",
       "    <tr>\n",
       "      <th>2</th>\n",
       "      <td>Mo(X)</td>\n",
       "      <td>59.047368</td>\n",
       "    </tr>\n",
       "    <tr>\n",
       "      <th>3</th>\n",
       "      <td>Me(X)</td>\n",
       "      <td>60.167023</td>\n",
       "    </tr>\n",
       "    <tr>\n",
       "      <th>4</th>\n",
       "      <td>D(X)</td>\n",
       "      <td>9.023117</td>\n",
       "    </tr>\n",
       "    <tr>\n",
       "      <th>5</th>\n",
       "      <td>Std_dev(X)</td>\n",
       "      <td>3.003850</td>\n",
       "    </tr>\n",
       "    <tr>\n",
       "      <th>6</th>\n",
       "      <td>Skewness</td>\n",
       "      <td>-0.225097</td>\n",
       "    </tr>\n",
       "    <tr>\n",
       "      <th>7</th>\n",
       "      <td>Kurtosis</td>\n",
       "      <td>-0.373055</td>\n",
       "    </tr>\n",
       "  </tbody>\n",
       "</table>\n",
       "</div>"
      ],
      "text/plain": [
       "            0           1\n",
       "0       count  128.000000\n",
       "1        M(X)   60.123230\n",
       "2       Mo(X)   59.047368\n",
       "3       Me(X)   60.167023\n",
       "4        D(X)    9.023117\n",
       "5  Std_dev(X)    3.003850\n",
       "6    Skewness   -0.225097\n",
       "7    Kurtosis   -0.373055"
      ]
     },
     "execution_count": 3,
     "metadata": {},
     "output_type": "execute_result"
    }
   ],
   "source": [
    "data = pd.read_csv(\"result_statistics.csv\", delimiter=\",\", header=None)\n",
    "data"
   ]
  },
  {
   "cell_type": "markdown",
   "id": "6678d456",
   "metadata": {},
   "source": [
    "Приведем полученный *DataFrame* к прежнему виду.\n",
    "\n",
    "Для этого пересохраним его столбец 1 как объект *Series*:"
   ]
  },
  {
   "cell_type": "code",
   "execution_count": 4,
   "id": "eadfe1d5-8c2b-444b-abbc-0c66ea7d4f4c",
   "metadata": {},
   "outputs": [
    {
     "data": {
      "text/plain": [
       "0    128.000000\n",
       "1     60.123230\n",
       "2     59.047368\n",
       "3     60.167023\n",
       "4      9.023117\n",
       "5      3.003850\n",
       "6     -0.225097\n",
       "7     -0.373055\n",
       "Name: 1, dtype: float64"
      ]
     },
     "execution_count": 4,
     "metadata": {},
     "output_type": "execute_result"
    }
   ],
   "source": [
    "result_statistics = pd.Series(data=data[1])\n",
    "result_statistics"
   ]
  },
  {
   "cell_type": "markdown",
   "id": "3bd62fb4",
   "metadata": {},
   "source": [
    "И перепишем в нем индексы согласно столбцу 0 исходного *DataFrame*:"
   ]
  },
  {
   "cell_type": "code",
   "execution_count": 5,
   "id": "fdb29df9-8cd7-43f2-8ed5-69edff66fd63",
   "metadata": {},
   "outputs": [
    {
     "data": {
      "text/plain": [
       "0\n",
       "count         128.000000\n",
       "M(X)           60.123230\n",
       "Mo(X)          59.047368\n",
       "Me(X)          60.167023\n",
       "D(X)            9.023117\n",
       "Std_dev(X)      3.003850\n",
       "Skewness       -0.225097\n",
       "Kurtosis       -0.373055\n",
       "Name: 1, dtype: float64"
      ]
     },
     "execution_count": 5,
     "metadata": {},
     "output_type": "execute_result"
    }
   ],
   "source": [
    "result_statistics.index = data[0]\n",
    "result_statistics"
   ]
  },
  {
   "cell_type": "markdown",
   "id": "a66f948d",
   "metadata": {},
   "source": [
    "### Загрузка таблицы с основой вариационного ряда"
   ]
  },
  {
   "cell_type": "code",
   "execution_count": 6,
   "id": "7696100a",
   "metadata": {},
   "outputs": [
    {
     "data": {
      "text/html": [
       "<div>\n",
       "<style scoped>\n",
       "    .dataframe tbody tr th:only-of-type {\n",
       "        vertical-align: middle;\n",
       "    }\n",
       "\n",
       "    .dataframe tbody tr th {\n",
       "        vertical-align: top;\n",
       "    }\n",
       "\n",
       "    .dataframe thead th {\n",
       "        text-align: right;\n",
       "    }\n",
       "</style>\n",
       "<table border=\"1\" class=\"dataframe\">\n",
       "  <thead>\n",
       "    <tr style=\"text-align: right;\">\n",
       "      <th></th>\n",
       "      <th>x_left</th>\n",
       "      <th>x_right</th>\n",
       "      <th>x_avr</th>\n",
       "      <th>n_f</th>\n",
       "      <th>p_f</th>\n",
       "    </tr>\n",
       "  </thead>\n",
       "  <tbody>\n",
       "    <tr>\n",
       "      <th>0</th>\n",
       "      <td>51.790</td>\n",
       "      <td>53.747</td>\n",
       "      <td>52.7685</td>\n",
       "      <td>3</td>\n",
       "      <td>0.023438</td>\n",
       "    </tr>\n",
       "    <tr>\n",
       "      <th>1</th>\n",
       "      <td>53.747</td>\n",
       "      <td>55.704</td>\n",
       "      <td>54.7255</td>\n",
       "      <td>7</td>\n",
       "      <td>0.054688</td>\n",
       "    </tr>\n",
       "    <tr>\n",
       "      <th>2</th>\n",
       "      <td>55.704</td>\n",
       "      <td>57.661</td>\n",
       "      <td>56.6825</td>\n",
       "      <td>15</td>\n",
       "      <td>0.117188</td>\n",
       "    </tr>\n",
       "    <tr>\n",
       "      <th>3</th>\n",
       "      <td>57.661</td>\n",
       "      <td>59.619</td>\n",
       "      <td>58.6400</td>\n",
       "      <td>32</td>\n",
       "      <td>0.250000</td>\n",
       "    </tr>\n",
       "    <tr>\n",
       "      <th>4</th>\n",
       "      <td>59.619</td>\n",
       "      <td>61.576</td>\n",
       "      <td>60.5975</td>\n",
       "      <td>25</td>\n",
       "      <td>0.195312</td>\n",
       "    </tr>\n",
       "    <tr>\n",
       "      <th>5</th>\n",
       "      <td>61.576</td>\n",
       "      <td>63.533</td>\n",
       "      <td>62.5545</td>\n",
       "      <td>31</td>\n",
       "      <td>0.242188</td>\n",
       "    </tr>\n",
       "    <tr>\n",
       "      <th>6</th>\n",
       "      <td>63.533</td>\n",
       "      <td>65.490</td>\n",
       "      <td>64.5115</td>\n",
       "      <td>12</td>\n",
       "      <td>0.093750</td>\n",
       "    </tr>\n",
       "    <tr>\n",
       "      <th>7</th>\n",
       "      <td>65.490</td>\n",
       "      <td>67.448</td>\n",
       "      <td>66.4690</td>\n",
       "      <td>3</td>\n",
       "      <td>0.023438</td>\n",
       "    </tr>\n",
       "  </tbody>\n",
       "</table>\n",
       "</div>"
      ],
      "text/plain": [
       "   x_left  x_right    x_avr  n_f       p_f\n",
       "0  51.790   53.747  52.7685    3  0.023438\n",
       "1  53.747   55.704  54.7255    7  0.054688\n",
       "2  55.704   57.661  56.6825   15  0.117188\n",
       "3  57.661   59.619  58.6400   32  0.250000\n",
       "4  59.619   61.576  60.5975   25  0.195312\n",
       "5  61.576   63.533  62.5545   31  0.242188\n",
       "6  63.533   65.490  64.5115   12  0.093750\n",
       "7  65.490   67.448  66.4690    3  0.023438"
      ]
     },
     "execution_count": 6,
     "metadata": {},
     "output_type": "execute_result"
    }
   ],
   "source": [
    "table_2 = pd.read_csv(\"table_2.csv\", delimiter=\",\", index_col=0)\n",
    "table_2"
   ]
  },
  {
   "cell_type": "markdown",
   "id": "03910f40",
   "metadata": {},
   "source": [
    "## Приведение вариационного ряда к стандартному нормальному виду"
   ]
  },
  {
   "cell_type": "markdown",
   "id": "f50f2a6b",
   "metadata": {},
   "source": [
    "Рассчитаем нормированные значения границ интервалов по формуле\n",
    "\n",
    "$$ t_i = \\frac{x_i - M(X)}{\\sigma(X)}: $$"
   ]
  },
  {
   "cell_type": "code",
   "execution_count": 7,
   "id": "cb9aeefe",
   "metadata": {},
   "outputs": [
    {
     "data": {
      "text/html": [
       "<div>\n",
       "<style scoped>\n",
       "    .dataframe tbody tr th:only-of-type {\n",
       "        vertical-align: middle;\n",
       "    }\n",
       "\n",
       "    .dataframe tbody tr th {\n",
       "        vertical-align: top;\n",
       "    }\n",
       "\n",
       "    .dataframe thead th {\n",
       "        text-align: right;\n",
       "    }\n",
       "</style>\n",
       "<table border=\"1\" class=\"dataframe\">\n",
       "  <thead>\n",
       "    <tr style=\"text-align: right;\">\n",
       "      <th></th>\n",
       "      <th>x_left</th>\n",
       "      <th>x_right</th>\n",
       "      <th>x_avr</th>\n",
       "      <th>n_f</th>\n",
       "      <th>p_f</th>\n",
       "      <th>t_left</th>\n",
       "      <th>t_right</th>\n",
       "    </tr>\n",
       "  </thead>\n",
       "  <tbody>\n",
       "    <tr>\n",
       "      <th>0</th>\n",
       "      <td>51.790</td>\n",
       "      <td>53.747</td>\n",
       "      <td>52.7685</td>\n",
       "      <td>3</td>\n",
       "      <td>0.023438</td>\n",
       "      <td>-2.774183</td>\n",
       "      <td>-2.122686</td>\n",
       "    </tr>\n",
       "    <tr>\n",
       "      <th>1</th>\n",
       "      <td>53.747</td>\n",
       "      <td>55.704</td>\n",
       "      <td>54.7255</td>\n",
       "      <td>7</td>\n",
       "      <td>0.054688</td>\n",
       "      <td>-2.122686</td>\n",
       "      <td>-1.471189</td>\n",
       "    </tr>\n",
       "    <tr>\n",
       "      <th>2</th>\n",
       "      <td>55.704</td>\n",
       "      <td>57.661</td>\n",
       "      <td>56.6825</td>\n",
       "      <td>15</td>\n",
       "      <td>0.117188</td>\n",
       "      <td>-1.471189</td>\n",
       "      <td>-0.819691</td>\n",
       "    </tr>\n",
       "    <tr>\n",
       "      <th>3</th>\n",
       "      <td>57.661</td>\n",
       "      <td>59.619</td>\n",
       "      <td>58.6400</td>\n",
       "      <td>32</td>\n",
       "      <td>0.250000</td>\n",
       "      <td>-0.819691</td>\n",
       "      <td>-0.167861</td>\n",
       "    </tr>\n",
       "    <tr>\n",
       "      <th>4</th>\n",
       "      <td>59.619</td>\n",
       "      <td>61.576</td>\n",
       "      <td>60.5975</td>\n",
       "      <td>25</td>\n",
       "      <td>0.195312</td>\n",
       "      <td>-0.167861</td>\n",
       "      <td>0.483636</td>\n",
       "    </tr>\n",
       "    <tr>\n",
       "      <th>5</th>\n",
       "      <td>61.576</td>\n",
       "      <td>63.533</td>\n",
       "      <td>62.5545</td>\n",
       "      <td>31</td>\n",
       "      <td>0.242188</td>\n",
       "      <td>0.483636</td>\n",
       "      <td>1.135133</td>\n",
       "    </tr>\n",
       "    <tr>\n",
       "      <th>6</th>\n",
       "      <td>63.533</td>\n",
       "      <td>65.490</td>\n",
       "      <td>64.5115</td>\n",
       "      <td>12</td>\n",
       "      <td>0.093750</td>\n",
       "      <td>1.135133</td>\n",
       "      <td>1.786630</td>\n",
       "    </tr>\n",
       "    <tr>\n",
       "      <th>7</th>\n",
       "      <td>65.490</td>\n",
       "      <td>67.448</td>\n",
       "      <td>66.4690</td>\n",
       "      <td>3</td>\n",
       "      <td>0.023438</td>\n",
       "      <td>1.786630</td>\n",
       "      <td>2.438460</td>\n",
       "    </tr>\n",
       "  </tbody>\n",
       "</table>\n",
       "</div>"
      ],
      "text/plain": [
       "   x_left  x_right    x_avr  n_f       p_f    t_left   t_right\n",
       "0  51.790   53.747  52.7685    3  0.023438 -2.774183 -2.122686\n",
       "1  53.747   55.704  54.7255    7  0.054688 -2.122686 -1.471189\n",
       "2  55.704   57.661  56.6825   15  0.117188 -1.471189 -0.819691\n",
       "3  57.661   59.619  58.6400   32  0.250000 -0.819691 -0.167861\n",
       "4  59.619   61.576  60.5975   25  0.195312 -0.167861  0.483636\n",
       "5  61.576   63.533  62.5545   31  0.242188  0.483636  1.135133\n",
       "6  63.533   65.490  64.5115   12  0.093750  1.135133  1.786630\n",
       "7  65.490   67.448  66.4690    3  0.023438  1.786630  2.438460"
      ]
     },
     "execution_count": 7,
     "metadata": {},
     "output_type": "execute_result"
    }
   ],
   "source": [
    "table_2[\"t_left\"] = (table_2[\"x_left\"] - result_statistics[\"M(X)\"]) / result_statistics[\"Std_dev(X)\"]\n",
    "table_2[\"t_right\"] = (table_2[\"x_right\"] - result_statistics[\"M(X)\"]) / result_statistics[\"Std_dev(X)\"]\n",
    "table_2"
   ]
  },
  {
   "cell_type": "markdown",
   "id": "72a375ed",
   "metadata": {},
   "source": [
    "Заменим внешние границы крайних интервалов на $ -\\infty $ и $ +\\infty $ :"
   ]
  },
  {
   "cell_type": "code",
   "execution_count": 8,
   "id": "39f6c1c7",
   "metadata": {},
   "outputs": [
    {
     "data": {
      "text/html": [
       "<div>\n",
       "<style scoped>\n",
       "    .dataframe tbody tr th:only-of-type {\n",
       "        vertical-align: middle;\n",
       "    }\n",
       "\n",
       "    .dataframe tbody tr th {\n",
       "        vertical-align: top;\n",
       "    }\n",
       "\n",
       "    .dataframe thead th {\n",
       "        text-align: right;\n",
       "    }\n",
       "</style>\n",
       "<table border=\"1\" class=\"dataframe\">\n",
       "  <thead>\n",
       "    <tr style=\"text-align: right;\">\n",
       "      <th></th>\n",
       "      <th>x_left</th>\n",
       "      <th>x_right</th>\n",
       "      <th>x_avr</th>\n",
       "      <th>n_f</th>\n",
       "      <th>p_f</th>\n",
       "      <th>t_left</th>\n",
       "      <th>t_right</th>\n",
       "    </tr>\n",
       "  </thead>\n",
       "  <tbody>\n",
       "    <tr>\n",
       "      <th>0</th>\n",
       "      <td>51.790</td>\n",
       "      <td>53.747</td>\n",
       "      <td>52.7685</td>\n",
       "      <td>3</td>\n",
       "      <td>0.023438</td>\n",
       "      <td>-inf</td>\n",
       "      <td>-2.122686</td>\n",
       "    </tr>\n",
       "    <tr>\n",
       "      <th>1</th>\n",
       "      <td>53.747</td>\n",
       "      <td>55.704</td>\n",
       "      <td>54.7255</td>\n",
       "      <td>7</td>\n",
       "      <td>0.054688</td>\n",
       "      <td>-2.122686</td>\n",
       "      <td>-1.471189</td>\n",
       "    </tr>\n",
       "    <tr>\n",
       "      <th>2</th>\n",
       "      <td>55.704</td>\n",
       "      <td>57.661</td>\n",
       "      <td>56.6825</td>\n",
       "      <td>15</td>\n",
       "      <td>0.117188</td>\n",
       "      <td>-1.471189</td>\n",
       "      <td>-0.819691</td>\n",
       "    </tr>\n",
       "    <tr>\n",
       "      <th>3</th>\n",
       "      <td>57.661</td>\n",
       "      <td>59.619</td>\n",
       "      <td>58.6400</td>\n",
       "      <td>32</td>\n",
       "      <td>0.250000</td>\n",
       "      <td>-0.819691</td>\n",
       "      <td>-0.167861</td>\n",
       "    </tr>\n",
       "    <tr>\n",
       "      <th>4</th>\n",
       "      <td>59.619</td>\n",
       "      <td>61.576</td>\n",
       "      <td>60.5975</td>\n",
       "      <td>25</td>\n",
       "      <td>0.195312</td>\n",
       "      <td>-0.167861</td>\n",
       "      <td>0.483636</td>\n",
       "    </tr>\n",
       "    <tr>\n",
       "      <th>5</th>\n",
       "      <td>61.576</td>\n",
       "      <td>63.533</td>\n",
       "      <td>62.5545</td>\n",
       "      <td>31</td>\n",
       "      <td>0.242188</td>\n",
       "      <td>0.483636</td>\n",
       "      <td>1.135133</td>\n",
       "    </tr>\n",
       "    <tr>\n",
       "      <th>6</th>\n",
       "      <td>63.533</td>\n",
       "      <td>65.490</td>\n",
       "      <td>64.5115</td>\n",
       "      <td>12</td>\n",
       "      <td>0.093750</td>\n",
       "      <td>1.135133</td>\n",
       "      <td>1.786630</td>\n",
       "    </tr>\n",
       "    <tr>\n",
       "      <th>7</th>\n",
       "      <td>65.490</td>\n",
       "      <td>67.448</td>\n",
       "      <td>66.4690</td>\n",
       "      <td>3</td>\n",
       "      <td>0.023438</td>\n",
       "      <td>1.786630</td>\n",
       "      <td>inf</td>\n",
       "    </tr>\n",
       "  </tbody>\n",
       "</table>\n",
       "</div>"
      ],
      "text/plain": [
       "   x_left  x_right    x_avr  n_f       p_f    t_left   t_right\n",
       "0  51.790   53.747  52.7685    3  0.023438      -inf -2.122686\n",
       "1  53.747   55.704  54.7255    7  0.054688 -2.122686 -1.471189\n",
       "2  55.704   57.661  56.6825   15  0.117188 -1.471189 -0.819691\n",
       "3  57.661   59.619  58.6400   32  0.250000 -0.819691 -0.167861\n",
       "4  59.619   61.576  60.5975   25  0.195312 -0.167861  0.483636\n",
       "5  61.576   63.533  62.5545   31  0.242188  0.483636  1.135133\n",
       "6  63.533   65.490  64.5115   12  0.093750  1.135133  1.786630\n",
       "7  65.490   67.448  66.4690    3  0.023438  1.786630       inf"
      ]
     },
     "execution_count": 8,
     "metadata": {},
     "output_type": "execute_result"
    }
   ],
   "source": [
    "table_2.loc[min(table_2.index), \"t_left\"] = -float(\"inf\")\n",
    "table_2.loc[max(table_2.index), \"t_right\"] = float(\"inf\")\n",
    "table_2"
   ]
  },
  {
   "cell_type": "markdown",
   "id": "828c794a",
   "metadata": {},
   "source": [
    "### Создание объекта \"нормального распределения\"\n",
    "\n",
    "Создадим из пакета ```stats``` библиотеки ```scipy``` объект стандартного нормального распределения с параметрами $M(X) = 0$ и $\\sigma(X) = 1$."
   ]
  },
  {
   "cell_type": "markdown",
   "id": "4a391131-2461-4c63-9f5e-5c7c08e25147",
   "metadata": {},
   "source": [
    "Функция ```stats.norm(loc, scale)``` принимает две переменных:\n",
    "* **loc** - Математическое ожидание;\n",
    "* **scale** - Среднеквадратическое отклонение."
   ]
  },
  {
   "cell_type": "code",
   "execution_count": 9,
   "id": "e41831cb",
   "metadata": {},
   "outputs": [
    {
     "data": {
      "text/plain": [
       "<scipy.stats._distn_infrastructure.rv_continuous_frozen at 0x12abdddf0>"
      ]
     },
     "execution_count": 9,
     "metadata": {},
     "output_type": "execute_result"
    }
   ],
   "source": [
    "expected_value = 0\n",
    "std_dev = 1\n",
    "\n",
    "norm_distribution = stats.norm(loc=expected_value, scale=std_dev)\n",
    "norm_distribution"
   ]
  },
  {
   "cell_type": "markdown",
   "id": "b18de026",
   "metadata": {},
   "source": [
    "Сохраненный в переменной ```norm_distribution``` объект позволяет:\n",
    "* ```.rvs(size=1, random_state=None)``` генерировать выборки случайных величин из полученного закона;\n",
    "* ```.pdf(x)``` получать значения функции плотности распределения $f(x)$;\n",
    "* ```.cdf(x)``` получать значения функции распределения $F(x)$;\n",
    "* ```.ppf(k)``` получать процентную точку распределения по вероятности (обратно методу ```.cdf(x)```)."
   ]
  },
  {
   "cell_type": "markdown",
   "id": "992fa863-1a6b-4685-8520-59b2f097976c",
   "metadata": {},
   "source": [
    "Сгенерируем для примера массив из 10 случайных величин, подчиняющихся созданному нами нормальному закону распределения:"
   ]
  },
  {
   "cell_type": "code",
   "execution_count": 10,
   "id": "428ddad1-604b-4a0d-8a17-d664a75ecdf4",
   "metadata": {},
   "outputs": [
    {
     "data": {
      "text/plain": [
       "array([ 0.292504  , -0.1855669 , -0.23231709, -0.52191113, -2.16810111,\n",
       "       -0.67940628,  0.02043205,  0.22552905, -0.9646147 ,  0.34745631])"
      ]
     },
     "execution_count": 10,
     "metadata": {},
     "output_type": "execute_result"
    }
   ],
   "source": [
    "n = 10\n",
    "norm_distribution.rvs(size=n)"
   ]
  },
  {
   "cell_type": "markdown",
   "id": "27c5afb6-b3b2-44e2-8d44-223b8ebddb16",
   "metadata": {},
   "source": [
    "При перезапуске предыдущей ячейки мы каждый раз будем получать новые значения. Для того, чтобы этого избежать, необходимо указать значение дополнительной переменной **random_state**, фиксирующей начальную точку работы генератора случайных чисел:"
   ]
  },
  {
   "cell_type": "code",
   "execution_count": 11,
   "id": "f42448e9-1669-4583-aaa3-c6a780b071d3",
   "metadata": {},
   "outputs": [
    {
     "data": {
      "text/plain": [
       "array([ 0.49671415, -0.1382643 ,  0.64768854,  1.52302986, -0.23415337,\n",
       "       -0.23413696,  1.57921282,  0.76743473, -0.46947439,  0.54256004])"
      ]
     },
     "execution_count": 11,
     "metadata": {},
     "output_type": "execute_result"
    }
   ],
   "source": [
    "n = 10\n",
    "norm_distribution.rvs(size=n, random_state=42)"
   ]
  },
  {
   "cell_type": "markdown",
   "id": "3126f2f0",
   "metadata": {},
   "source": [
    "#### Построим графики функции распределения $F(x)$ и плотности распределения $f(x)$ для стандартного нормального закона:"
   ]
  },
  {
   "cell_type": "markdown",
   "id": "7b6a2b6b",
   "metadata": {},
   "source": [
    "Определим область построения графика по оси $x$ ограничив значения аргументов вероятностью попадания случайной величины в пределах от $ P_0 = (0.001 \\dots 0.999) $ :"
   ]
  },
  {
   "cell_type": "code",
   "execution_count": 12,
   "id": "eeb9d7cb",
   "metadata": {},
   "outputs": [
    {
     "data": {
      "text/plain": [
       "(-3.090232306167813, 3.090232306167813)"
      ]
     },
     "execution_count": 12,
     "metadata": {},
     "output_type": "execute_result"
    }
   ],
   "source": [
    "norm_distribution.ppf(0.001), norm_distribution.ppf(0.999)"
   ]
  },
  {
   "cell_type": "markdown",
   "id": "d30196ee",
   "metadata": {},
   "source": [
    "Разобьем этот отрезок на один массив с шагом $0.1$:"
   ]
  },
  {
   "cell_type": "code",
   "execution_count": 13,
   "id": "a5b687b5",
   "metadata": {},
   "outputs": [
    {
     "data": {
      "text/plain": [
       "array([-3.09023231, -2.99023231, -2.89023231, -2.79023231, -2.69023231,\n",
       "       -2.59023231, -2.49023231, -2.39023231, -2.29023231, -2.19023231,\n",
       "       -2.09023231, -1.99023231, -1.89023231, -1.79023231, -1.69023231,\n",
       "       -1.59023231, -1.49023231, -1.39023231, -1.29023231, -1.19023231,\n",
       "       -1.09023231, -0.99023231, -0.89023231, -0.79023231, -0.69023231,\n",
       "       -0.59023231, -0.49023231, -0.39023231, -0.29023231, -0.19023231,\n",
       "       -0.09023231,  0.00976769,  0.10976769,  0.20976769,  0.30976769,\n",
       "        0.40976769,  0.50976769,  0.60976769,  0.70976769,  0.80976769,\n",
       "        0.90976769,  1.00976769,  1.10976769,  1.20976769,  1.30976769,\n",
       "        1.40976769,  1.50976769,  1.60976769,  1.70976769,  1.80976769,\n",
       "        1.90976769,  2.00976769,  2.10976769,  2.20976769,  2.30976769,\n",
       "        2.40976769,  2.50976769,  2.60976769,  2.70976769,  2.80976769,\n",
       "        2.90976769,  3.00976769])"
      ]
     },
     "execution_count": 13,
     "metadata": {},
     "output_type": "execute_result"
    }
   ],
   "source": [
    "step = 0.1\n",
    "x = np.arange(norm_distribution.ppf(0.001), norm_distribution.ppf(0.999), step)\n",
    "x"
   ]
  },
  {
   "cell_type": "markdown",
   "id": "d46e3ba7",
   "metadata": {},
   "source": [
    "Построим сам график функции плотности распределения функции $f(x)$ и  функции распределения $F(x)$ применив функционал библиотеки   ```matplotlib```:"
   ]
  },
  {
   "cell_type": "markdown",
   "id": "deea5f12-25bb-4dd8-aecf-16e343af581f",
   "metadata": {},
   "source": [
    "* Создадим область построения графика:"
   ]
  },
  {
   "cell_type": "code",
   "execution_count": 14,
   "id": "632f17d3",
   "metadata": {},
   "outputs": [
    {
     "data": {
      "image/png": "[encoded data removed]",
      "text/plain": [
       "<Figure size 640x480 with 1 Axes>"
      ]
     },
     "metadata": {},
     "output_type": "display_data"
    }
   ],
   "source": [
    "fig, ax = plt.subplots()\n",
    "plt.show()"
   ]
  },
  {
   "cell_type": "markdown",
   "id": "3fdfedc3",
   "metadata": {},
   "source": [
    "* Построим график функции плотности распределения функции $f(x)$:"
   ]
  },
  {
   "cell_type": "markdown",
   "id": "2f3d7bbd-6c0f-4ffe-98a2-b1cc5d44eb2d",
   "metadata": {},
   "source": [
    "> Функция ```.pdf(x)``` рассчитает значения функции плотности распределения $f(x)$ во всех точках массива $x$:"
   ]
  },
  {
   "cell_type": "code",
   "execution_count": 15,
   "id": "c44e6356-4290-4ca5-a9eb-e3cc40faeaa5",
   "metadata": {},
   "outputs": [
    {
     "data": {
      "text/plain": [
       "array([0.00336709, 0.00456342, 0.00612326, 0.00813454, 0.01069891,\n",
       "       0.01393168, 0.01796074, 0.02292462, 0.02896924, 0.03624342,\n",
       "       0.04489297, 0.05505344, 0.06684173, 0.08034669, 0.09561925,\n",
       "       0.11266258, 0.13142293, 0.15178178, 0.17355023, 0.19646617,\n",
       "       0.220195  , 0.24433415, 0.26842189, 0.29195019, 0.31438125,\n",
       "       0.33516725, 0.35377209, 0.36969418, 0.38248879, 0.39178867,\n",
       "       0.39732151, 0.39892325, 0.39654609, 0.39026091, 0.38025373,\n",
       "       0.36681659, 0.35033337, 0.33126161, 0.31011142, 0.28742297,\n",
       "       0.26374378, 0.2396073 , 0.21551372, 0.19191409, 0.16919824,\n",
       "       0.14768687, 0.12762771, 0.1091956 , 0.09249587, 0.0775705 ,\n",
       "       0.06440623, 0.05294394, 0.04308853, 0.03471876, 0.02769643,\n",
       "       0.02187461, 0.01710464, 0.01324173, 0.01014921, 0.00770153,\n",
       "       0.00578601, 0.00430366])"
      ]
     },
     "execution_count": 15,
     "metadata": {},
     "output_type": "execute_result"
    }
   ],
   "source": [
    "# Создадим массив аргументов для функции\n",
    "x = np.arange(norm_distribution.ppf(0.001), norm_distribution.ppf(0.999), 0.1)\n",
    "# Рассчитаем значения функции плотности распределения вероятностей  f(X)\n",
    "norm_distribution.pdf(x)"
   ]
  },
  {
   "cell_type": "markdown",
   "id": "ff08d1bc-e657-4f40-9e91-f4f4bed54d3b",
   "metadata": {},
   "source": [
    "* Подставим необходимые значения в функции построения графика:"
   ]
  },
  {
   "cell_type": "code",
   "execution_count": 16,
   "id": "eed4aafc",
   "metadata": {},
   "outputs": [
    {
     "data": {
      "image/png": "[encoded data removed]",
      "text/plain": [
       "<Figure size 640x480 with 1 Axes>"
      ]
     },
     "metadata": {},
     "output_type": "display_data"
    }
   ],
   "source": [
    "fig, ax = plt.subplots()\n",
    "# Создание списка аргументов для функций\n",
    "x = np.arange(norm_distribution.ppf(0.001), norm_distribution.ppf(0.999), 0.1)\n",
    "# Построение графика функции плотности распределения функции f(x) на оси ax\n",
    "ax.plot(x, norm_distribution.pdf(x), label=\"Функция плотности распределения $f(X)$\", lw=2)\n",
    "plt.show()"
   ]
  },
  {
   "cell_type": "markdown",
   "id": "a451e4a1",
   "metadata": {},
   "source": [
    "* Добавим к графику \"легенду\" и сетку:"
   ]
  },
  {
   "cell_type": "code",
   "execution_count": 17,
   "id": "a1e2328d",
   "metadata": {},
   "outputs": [
    {
     "data": {
      "image/png": "[encoded data removed]",
      "text/plain": [
       "<Figure size 640x480 with 1 Axes>"
      ]
     },
     "metadata": {},
     "output_type": "display_data"
    }
   ],
   "source": [
    "fig, ax = plt.subplots()\n",
    "# Создание списка аргументов для функций\n",
    "x = np.arange(norm_distribution.ppf(0.001), norm_distribution.ppf(0.999), 0.1)\n",
    "# Построение графика функции плотности распределения функции f(x) на оси ax\n",
    "ax.plot(x, norm_distribution.pdf(x), label=\"Функция плотности распределения $f(X)$\", lw=2)\n",
    "# Вывод сетки на график\n",
    "ax.grid()\n",
    "# Вывод легенды графика\n",
    "ax.legend()\n",
    "plt.show()"
   ]
  },
  {
   "cell_type": "markdown",
   "id": "84e7e857",
   "metadata": {},
   "source": [
    "* Добавим график функции распределения функции $F(x)$:\n",
    "\n",
    "> Функция ```.cdf(x)``` работает аналогично функции ```.pdf(x)``` только рассчитывает значения функции распределения $F(x)$:"
   ]
  },
  {
   "cell_type": "code",
   "execution_count": 18,
   "id": "49c5729e-03df-458b-ab8b-194f86b9d9d8",
   "metadata": {},
   "outputs": [
    {
     "data": {
      "image/png": "[encoded data removed]",
      "text/plain": [
       "<Figure size 640x480 with 1 Axes>"
      ]
     },
     "metadata": {},
     "output_type": "display_data"
    }
   ],
   "source": [
    "# Создание области построения графика\n",
    "fig, ax = plt.subplots()\n",
    "\n",
    "# Создание списка аргументов для функций\n",
    "x = np.arange(norm_distribution.ppf(0.001), norm_distribution.ppf(0.999), 0.1)\n",
    "# Построение графика функции плотности распределения функции f(x) на оси ax\n",
    "ax.plot(x, norm_distribution.pdf(x), label=\"Функция плотности \\nраспределения $f(X)$\", lw=2)\n",
    "# Построение графика функции распределения F(x) на оси ax\n",
    "ax.plot(x, norm_distribution.cdf(x), label=\"Функция распределения $F(X)$\", lw=2)\n",
    "# Вывод сетки на график\n",
    "ax.grid()\n",
    "# Вывод легенды графика\n",
    "ax.legend(loc=\"upper left\")\n",
    "# Показ графика\n",
    "plt.show()"
   ]
  },
  {
   "cell_type": "markdown",
   "id": "d5a2de1b",
   "metadata": {},
   "source": [
    "## Проверка гипотезы о нормальности распределения по критерию $\\chi^2$ Пирсона"
   ]
  },
  {
   "cell_type": "markdown",
   "id": "751fddc4",
   "metadata": {},
   "source": [
    "### Найдем теоретические частости $p_т$ и частоты $n_т$ попадания в интервалы\n",
    "\n",
    "Рассчитаем значения $\\frac{1}{2}Ф(t_i)$ эквивалентные полученным ранее значением из таблицы интеграла вероятности"
   ]
  },
  {
   "cell_type": "code",
   "execution_count": 19,
   "id": "56def267",
   "metadata": {},
   "outputs": [
    {
     "data": {
      "text/html": [
       "<div>\n",
       "<style scoped>\n",
       "    .dataframe tbody tr th:only-of-type {\n",
       "        vertical-align: middle;\n",
       "    }\n",
       "\n",
       "    .dataframe tbody tr th {\n",
       "        vertical-align: top;\n",
       "    }\n",
       "\n",
       "    .dataframe thead th {\n",
       "        text-align: right;\n",
       "    }\n",
       "</style>\n",
       "<table border=\"1\" class=\"dataframe\">\n",
       "  <thead>\n",
       "    <tr style=\"text-align: right;\">\n",
       "      <th></th>\n",
       "      <th>x_left</th>\n",
       "      <th>x_right</th>\n",
       "      <th>x_avr</th>\n",
       "      <th>n_f</th>\n",
       "      <th>p_f</th>\n",
       "      <th>t_left</th>\n",
       "      <th>t_right</th>\n",
       "      <th>1/2Ф(t_л)</th>\n",
       "      <th>1/2Ф(t_пр)</th>\n",
       "    </tr>\n",
       "  </thead>\n",
       "  <tbody>\n",
       "    <tr>\n",
       "      <th>0</th>\n",
       "      <td>51.790</td>\n",
       "      <td>53.747</td>\n",
       "      <td>52.7685</td>\n",
       "      <td>3</td>\n",
       "      <td>0.023438</td>\n",
       "      <td>-inf</td>\n",
       "      <td>-2.122686</td>\n",
       "      <td>-0.500000</td>\n",
       "      <td>-0.483110</td>\n",
       "    </tr>\n",
       "    <tr>\n",
       "      <th>1</th>\n",
       "      <td>53.747</td>\n",
       "      <td>55.704</td>\n",
       "      <td>54.7255</td>\n",
       "      <td>7</td>\n",
       "      <td>0.054688</td>\n",
       "      <td>-2.122686</td>\n",
       "      <td>-1.471189</td>\n",
       "      <td>-0.483110</td>\n",
       "      <td>-0.429380</td>\n",
       "    </tr>\n",
       "    <tr>\n",
       "      <th>2</th>\n",
       "      <td>55.704</td>\n",
       "      <td>57.661</td>\n",
       "      <td>56.6825</td>\n",
       "      <td>15</td>\n",
       "      <td>0.117188</td>\n",
       "      <td>-1.471189</td>\n",
       "      <td>-0.819691</td>\n",
       "      <td>-0.429380</td>\n",
       "      <td>-0.293804</td>\n",
       "    </tr>\n",
       "    <tr>\n",
       "      <th>3</th>\n",
       "      <td>57.661</td>\n",
       "      <td>59.619</td>\n",
       "      <td>58.6400</td>\n",
       "      <td>32</td>\n",
       "      <td>0.250000</td>\n",
       "      <td>-0.819691</td>\n",
       "      <td>-0.167861</td>\n",
       "      <td>-0.293804</td>\n",
       "      <td>-0.066654</td>\n",
       "    </tr>\n",
       "    <tr>\n",
       "      <th>4</th>\n",
       "      <td>59.619</td>\n",
       "      <td>61.576</td>\n",
       "      <td>60.5975</td>\n",
       "      <td>25</td>\n",
       "      <td>0.195312</td>\n",
       "      <td>-0.167861</td>\n",
       "      <td>0.483636</td>\n",
       "      <td>-0.066654</td>\n",
       "      <td>0.185678</td>\n",
       "    </tr>\n",
       "    <tr>\n",
       "      <th>5</th>\n",
       "      <td>61.576</td>\n",
       "      <td>63.533</td>\n",
       "      <td>62.5545</td>\n",
       "      <td>31</td>\n",
       "      <td>0.242188</td>\n",
       "      <td>0.483636</td>\n",
       "      <td>1.135133</td>\n",
       "      <td>0.185678</td>\n",
       "      <td>0.371840</td>\n",
       "    </tr>\n",
       "    <tr>\n",
       "      <th>6</th>\n",
       "      <td>63.533</td>\n",
       "      <td>65.490</td>\n",
       "      <td>64.5115</td>\n",
       "      <td>12</td>\n",
       "      <td>0.093750</td>\n",
       "      <td>1.135133</td>\n",
       "      <td>1.786630</td>\n",
       "      <td>0.371840</td>\n",
       "      <td>0.463001</td>\n",
       "    </tr>\n",
       "    <tr>\n",
       "      <th>7</th>\n",
       "      <td>65.490</td>\n",
       "      <td>67.448</td>\n",
       "      <td>66.4690</td>\n",
       "      <td>3</td>\n",
       "      <td>0.023438</td>\n",
       "      <td>1.786630</td>\n",
       "      <td>inf</td>\n",
       "      <td>0.463001</td>\n",
       "      <td>0.500000</td>\n",
       "    </tr>\n",
       "  </tbody>\n",
       "</table>\n",
       "</div>"
      ],
      "text/plain": [
       "   x_left  x_right    x_avr  n_f       p_f    t_left   t_right  1/2Ф(t_л)  \\\n",
       "0  51.790   53.747  52.7685    3  0.023438      -inf -2.122686  -0.500000   \n",
       "1  53.747   55.704  54.7255    7  0.054688 -2.122686 -1.471189  -0.483110   \n",
       "2  55.704   57.661  56.6825   15  0.117188 -1.471189 -0.819691  -0.429380   \n",
       "3  57.661   59.619  58.6400   32  0.250000 -0.819691 -0.167861  -0.293804   \n",
       "4  59.619   61.576  60.5975   25  0.195312 -0.167861  0.483636  -0.066654   \n",
       "5  61.576   63.533  62.5545   31  0.242188  0.483636  1.135133   0.185678   \n",
       "6  63.533   65.490  64.5115   12  0.093750  1.135133  1.786630   0.371840   \n",
       "7  65.490   67.448  66.4690    3  0.023438  1.786630       inf   0.463001   \n",
       "\n",
       "   1/2Ф(t_пр)  \n",
       "0   -0.483110  \n",
       "1   -0.429380  \n",
       "2   -0.293804  \n",
       "3   -0.066654  \n",
       "4    0.185678  \n",
       "5    0.371840  \n",
       "6    0.463001  \n",
       "7    0.500000  "
      ]
     },
     "execution_count": 19,
     "metadata": {},
     "output_type": "execute_result"
    }
   ],
   "source": [
    "table_2[\"1/2Ф(t_л)\"] = 0.5 * (norm_distribution.cdf(table_2[\"t_left\"]) - norm_distribution.cdf(-table_2[\"t_left\"]))\n",
    "table_2[\"1/2Ф(t_пр)\"] = 0.5 * (norm_distribution.cdf(table_2[\"t_right\"]) - norm_distribution.cdf(-table_2[\"t_right\"]))\n",
    "table_2"
   ]
  },
  {
   "cell_type": "markdown",
   "id": "14db28b9",
   "metadata": {},
   "source": [
    "Найдем теоретические частости \n",
    "$$ p_т = \\frac12 Ф(t_{пр}) - \\frac12 Ф(t_{л})   :$$"
   ]
  },
  {
   "cell_type": "code",
   "execution_count": 20,
   "id": "49dda785",
   "metadata": {},
   "outputs": [
    {
     "data": {
      "text/html": [
       "<div>\n",
       "<style scoped>\n",
       "    .dataframe tbody tr th:only-of-type {\n",
       "        vertical-align: middle;\n",
       "    }\n",
       "\n",
       "    .dataframe tbody tr th {\n",
       "        vertical-align: top;\n",
       "    }\n",
       "\n",
       "    .dataframe thead th {\n",
       "        text-align: right;\n",
       "    }\n",
       "</style>\n",
       "<table border=\"1\" class=\"dataframe\">\n",
       "  <thead>\n",
       "    <tr style=\"text-align: right;\">\n",
       "      <th></th>\n",
       "      <th>x_left</th>\n",
       "      <th>x_right</th>\n",
       "      <th>x_avr</th>\n",
       "      <th>n_f</th>\n",
       "      <th>p_f</th>\n",
       "      <th>t_left</th>\n",
       "      <th>t_right</th>\n",
       "      <th>1/2Ф(t_л)</th>\n",
       "      <th>1/2Ф(t_пр)</th>\n",
       "      <th>p_t</th>\n",
       "    </tr>\n",
       "  </thead>\n",
       "  <tbody>\n",
       "    <tr>\n",
       "      <th>0</th>\n",
       "      <td>51.790</td>\n",
       "      <td>53.747</td>\n",
       "      <td>52.7685</td>\n",
       "      <td>3</td>\n",
       "      <td>0.023438</td>\n",
       "      <td>-inf</td>\n",
       "      <td>-2.122686</td>\n",
       "      <td>-0.500000</td>\n",
       "      <td>-0.483110</td>\n",
       "      <td>0.016890</td>\n",
       "    </tr>\n",
       "    <tr>\n",
       "      <th>1</th>\n",
       "      <td>53.747</td>\n",
       "      <td>55.704</td>\n",
       "      <td>54.7255</td>\n",
       "      <td>7</td>\n",
       "      <td>0.054688</td>\n",
       "      <td>-2.122686</td>\n",
       "      <td>-1.471189</td>\n",
       "      <td>-0.483110</td>\n",
       "      <td>-0.429380</td>\n",
       "      <td>0.053730</td>\n",
       "    </tr>\n",
       "    <tr>\n",
       "      <th>2</th>\n",
       "      <td>55.704</td>\n",
       "      <td>57.661</td>\n",
       "      <td>56.6825</td>\n",
       "      <td>15</td>\n",
       "      <td>0.117188</td>\n",
       "      <td>-1.471189</td>\n",
       "      <td>-0.819691</td>\n",
       "      <td>-0.429380</td>\n",
       "      <td>-0.293804</td>\n",
       "      <td>0.135576</td>\n",
       "    </tr>\n",
       "    <tr>\n",
       "      <th>3</th>\n",
       "      <td>57.661</td>\n",
       "      <td>59.619</td>\n",
       "      <td>58.6400</td>\n",
       "      <td>32</td>\n",
       "      <td>0.250000</td>\n",
       "      <td>-0.819691</td>\n",
       "      <td>-0.167861</td>\n",
       "      <td>-0.293804</td>\n",
       "      <td>-0.066654</td>\n",
       "      <td>0.227150</td>\n",
       "    </tr>\n",
       "    <tr>\n",
       "      <th>4</th>\n",
       "      <td>59.619</td>\n",
       "      <td>61.576</td>\n",
       "      <td>60.5975</td>\n",
       "      <td>25</td>\n",
       "      <td>0.195312</td>\n",
       "      <td>-0.167861</td>\n",
       "      <td>0.483636</td>\n",
       "      <td>-0.066654</td>\n",
       "      <td>0.185678</td>\n",
       "      <td>0.252332</td>\n",
       "    </tr>\n",
       "    <tr>\n",
       "      <th>5</th>\n",
       "      <td>61.576</td>\n",
       "      <td>63.533</td>\n",
       "      <td>62.5545</td>\n",
       "      <td>31</td>\n",
       "      <td>0.242188</td>\n",
       "      <td>0.483636</td>\n",
       "      <td>1.135133</td>\n",
       "      <td>0.185678</td>\n",
       "      <td>0.371840</td>\n",
       "      <td>0.186162</td>\n",
       "    </tr>\n",
       "    <tr>\n",
       "      <th>6</th>\n",
       "      <td>63.533</td>\n",
       "      <td>65.490</td>\n",
       "      <td>64.5115</td>\n",
       "      <td>12</td>\n",
       "      <td>0.093750</td>\n",
       "      <td>1.135133</td>\n",
       "      <td>1.786630</td>\n",
       "      <td>0.371840</td>\n",
       "      <td>0.463001</td>\n",
       "      <td>0.091161</td>\n",
       "    </tr>\n",
       "    <tr>\n",
       "      <th>7</th>\n",
       "      <td>65.490</td>\n",
       "      <td>67.448</td>\n",
       "      <td>66.4690</td>\n",
       "      <td>3</td>\n",
       "      <td>0.023438</td>\n",
       "      <td>1.786630</td>\n",
       "      <td>inf</td>\n",
       "      <td>0.463001</td>\n",
       "      <td>0.500000</td>\n",
       "      <td>0.036999</td>\n",
       "    </tr>\n",
       "  </tbody>\n",
       "</table>\n",
       "</div>"
      ],
      "text/plain": [
       "   x_left  x_right    x_avr  n_f       p_f    t_left   t_right  1/2Ф(t_л)  \\\n",
       "0  51.790   53.747  52.7685    3  0.023438      -inf -2.122686  -0.500000   \n",
       "1  53.747   55.704  54.7255    7  0.054688 -2.122686 -1.471189  -0.483110   \n",
       "2  55.704   57.661  56.6825   15  0.117188 -1.471189 -0.819691  -0.429380   \n",
       "3  57.661   59.619  58.6400   32  0.250000 -0.819691 -0.167861  -0.293804   \n",
       "4  59.619   61.576  60.5975   25  0.195312 -0.167861  0.483636  -0.066654   \n",
       "5  61.576   63.533  62.5545   31  0.242188  0.483636  1.135133   0.185678   \n",
       "6  63.533   65.490  64.5115   12  0.093750  1.135133  1.786630   0.371840   \n",
       "7  65.490   67.448  66.4690    3  0.023438  1.786630       inf   0.463001   \n",
       "\n",
       "   1/2Ф(t_пр)       p_t  \n",
       "0   -0.483110  0.016890  \n",
       "1   -0.429380  0.053730  \n",
       "2   -0.293804  0.135576  \n",
       "3   -0.066654  0.227150  \n",
       "4    0.185678  0.252332  \n",
       "5    0.371840  0.186162  \n",
       "6    0.463001  0.091161  \n",
       "7    0.500000  0.036999  "
      ]
     },
     "execution_count": 20,
     "metadata": {},
     "output_type": "execute_result"
    }
   ],
   "source": [
    "table_2[\"p_t\"] = table_2[\"1/2Ф(t_пр)\"] - table_2[\"1/2Ф(t_л)\"]\n",
    "table_2"
   ]
  },
  {
   "cell_type": "markdown",
   "id": "53bdcb90",
   "metadata": {},
   "source": [
    "Проверим, что сумма полученных частостей $p_т$ равна единице:"
   ]
  },
  {
   "cell_type": "code",
   "execution_count": 21,
   "id": "fb09391a",
   "metadata": {},
   "outputs": [
    {
     "data": {
      "text/plain": [
       "1.0"
      ]
     },
     "execution_count": 21,
     "metadata": {},
     "output_type": "execute_result"
    }
   ],
   "source": [
    "table_2.sum()[\"p_t\"]"
   ]
  },
  {
   "cell_type": "markdown",
   "id": "4632af73",
   "metadata": {},
   "source": [
    "Рассчитаем теоретические частоты \n",
    "\n",
    "$$ n_т = p_т \\cdot N : $$"
   ]
  },
  {
   "cell_type": "code",
   "execution_count": 22,
   "id": "6af4a320",
   "metadata": {},
   "outputs": [
    {
     "data": {
      "text/html": [
       "<div>\n",
       "<style scoped>\n",
       "    .dataframe tbody tr th:only-of-type {\n",
       "        vertical-align: middle;\n",
       "    }\n",
       "\n",
       "    .dataframe tbody tr th {\n",
       "        vertical-align: top;\n",
       "    }\n",
       "\n",
       "    .dataframe thead th {\n",
       "        text-align: right;\n",
       "    }\n",
       "</style>\n",
       "<table border=\"1\" class=\"dataframe\">\n",
       "  <thead>\n",
       "    <tr style=\"text-align: right;\">\n",
       "      <th></th>\n",
       "      <th>x_left</th>\n",
       "      <th>x_right</th>\n",
       "      <th>x_avr</th>\n",
       "      <th>n_f</th>\n",
       "      <th>p_f</th>\n",
       "      <th>t_left</th>\n",
       "      <th>t_right</th>\n",
       "      <th>1/2Ф(t_л)</th>\n",
       "      <th>1/2Ф(t_пр)</th>\n",
       "      <th>p_t</th>\n",
       "      <th>n_t</th>\n",
       "    </tr>\n",
       "  </thead>\n",
       "  <tbody>\n",
       "    <tr>\n",
       "      <th>0</th>\n",
       "      <td>51.790</td>\n",
       "      <td>53.747</td>\n",
       "      <td>52.7685</td>\n",
       "      <td>3</td>\n",
       "      <td>0.023438</td>\n",
       "      <td>-inf</td>\n",
       "      <td>-2.122686</td>\n",
       "      <td>-0.500000</td>\n",
       "      <td>-0.483110</td>\n",
       "      <td>0.016890</td>\n",
       "      <td>2.161932</td>\n",
       "    </tr>\n",
       "    <tr>\n",
       "      <th>1</th>\n",
       "      <td>53.747</td>\n",
       "      <td>55.704</td>\n",
       "      <td>54.7255</td>\n",
       "      <td>7</td>\n",
       "      <td>0.054688</td>\n",
       "      <td>-2.122686</td>\n",
       "      <td>-1.471189</td>\n",
       "      <td>-0.483110</td>\n",
       "      <td>-0.429380</td>\n",
       "      <td>0.053730</td>\n",
       "      <td>6.877435</td>\n",
       "    </tr>\n",
       "    <tr>\n",
       "      <th>2</th>\n",
       "      <td>55.704</td>\n",
       "      <td>57.661</td>\n",
       "      <td>56.6825</td>\n",
       "      <td>15</td>\n",
       "      <td>0.117188</td>\n",
       "      <td>-1.471189</td>\n",
       "      <td>-0.819691</td>\n",
       "      <td>-0.429380</td>\n",
       "      <td>-0.293804</td>\n",
       "      <td>0.135576</td>\n",
       "      <td>17.353722</td>\n",
       "    </tr>\n",
       "    <tr>\n",
       "      <th>3</th>\n",
       "      <td>57.661</td>\n",
       "      <td>59.619</td>\n",
       "      <td>58.6400</td>\n",
       "      <td>32</td>\n",
       "      <td>0.250000</td>\n",
       "      <td>-0.819691</td>\n",
       "      <td>-0.167861</td>\n",
       "      <td>-0.293804</td>\n",
       "      <td>-0.066654</td>\n",
       "      <td>0.227150</td>\n",
       "      <td>29.075220</td>\n",
       "    </tr>\n",
       "    <tr>\n",
       "      <th>4</th>\n",
       "      <td>59.619</td>\n",
       "      <td>61.576</td>\n",
       "      <td>60.5975</td>\n",
       "      <td>25</td>\n",
       "      <td>0.195312</td>\n",
       "      <td>-0.167861</td>\n",
       "      <td>0.483636</td>\n",
       "      <td>-0.066654</td>\n",
       "      <td>0.185678</td>\n",
       "      <td>0.252332</td>\n",
       "      <td>32.298451</td>\n",
       "    </tr>\n",
       "    <tr>\n",
       "      <th>5</th>\n",
       "      <td>61.576</td>\n",
       "      <td>63.533</td>\n",
       "      <td>62.5545</td>\n",
       "      <td>31</td>\n",
       "      <td>0.242188</td>\n",
       "      <td>0.483636</td>\n",
       "      <td>1.135133</td>\n",
       "      <td>0.185678</td>\n",
       "      <td>0.371840</td>\n",
       "      <td>0.186162</td>\n",
       "      <td>23.828785</td>\n",
       "    </tr>\n",
       "    <tr>\n",
       "      <th>6</th>\n",
       "      <td>63.533</td>\n",
       "      <td>65.490</td>\n",
       "      <td>64.5115</td>\n",
       "      <td>12</td>\n",
       "      <td>0.093750</td>\n",
       "      <td>1.135133</td>\n",
       "      <td>1.786630</td>\n",
       "      <td>0.371840</td>\n",
       "      <td>0.463001</td>\n",
       "      <td>0.091161</td>\n",
       "      <td>11.668629</td>\n",
       "    </tr>\n",
       "    <tr>\n",
       "      <th>7</th>\n",
       "      <td>65.490</td>\n",
       "      <td>67.448</td>\n",
       "      <td>66.4690</td>\n",
       "      <td>3</td>\n",
       "      <td>0.023438</td>\n",
       "      <td>1.786630</td>\n",
       "      <td>inf</td>\n",
       "      <td>0.463001</td>\n",
       "      <td>0.500000</td>\n",
       "      <td>0.036999</td>\n",
       "      <td>4.735826</td>\n",
       "    </tr>\n",
       "  </tbody>\n",
       "</table>\n",
       "</div>"
      ],
      "text/plain": [
       "   x_left  x_right    x_avr  n_f       p_f    t_left   t_right  1/2Ф(t_л)  \\\n",
       "0  51.790   53.747  52.7685    3  0.023438      -inf -2.122686  -0.500000   \n",
       "1  53.747   55.704  54.7255    7  0.054688 -2.122686 -1.471189  -0.483110   \n",
       "2  55.704   57.661  56.6825   15  0.117188 -1.471189 -0.819691  -0.429380   \n",
       "3  57.661   59.619  58.6400   32  0.250000 -0.819691 -0.167861  -0.293804   \n",
       "4  59.619   61.576  60.5975   25  0.195312 -0.167861  0.483636  -0.066654   \n",
       "5  61.576   63.533  62.5545   31  0.242188  0.483636  1.135133   0.185678   \n",
       "6  63.533   65.490  64.5115   12  0.093750  1.135133  1.786630   0.371840   \n",
       "7  65.490   67.448  66.4690    3  0.023438  1.786630       inf   0.463001   \n",
       "\n",
       "   1/2Ф(t_пр)       p_t        n_t  \n",
       "0   -0.483110  0.016890   2.161932  \n",
       "1   -0.429380  0.053730   6.877435  \n",
       "2   -0.293804  0.135576  17.353722  \n",
       "3   -0.066654  0.227150  29.075220  \n",
       "4    0.185678  0.252332  32.298451  \n",
       "5    0.371840  0.186162  23.828785  \n",
       "6    0.463001  0.091161  11.668629  \n",
       "7    0.500000  0.036999   4.735826  "
      ]
     },
     "execution_count": 22,
     "metadata": {},
     "output_type": "execute_result"
    }
   ],
   "source": [
    "table_2[\"n_t\"] = table_2[\"p_t\"] * result_statistics[\"count\"]\n",
    "table_2"
   ]
  },
  {
   "cell_type": "markdown",
   "id": "e62f46d7",
   "metadata": {},
   "source": [
    "Проверим, что $\\sum n_т = N $:"
   ]
  },
  {
   "cell_type": "code",
   "execution_count": 23,
   "id": "37d254c4",
   "metadata": {},
   "outputs": [
    {
     "data": {
      "text/plain": [
       "128.0"
      ]
     },
     "execution_count": 23,
     "metadata": {},
     "output_type": "execute_result"
    }
   ],
   "source": [
    "table_2.sum()[\"n_t\"]"
   ]
  },
  {
   "cell_type": "markdown",
   "id": "89b9197e",
   "metadata": {},
   "source": [
    "Вычислим $\\chi^2$-расстояние для каждого интервала\n",
    "\n",
    "\n",
    "$$ \\frac{(n_{ф_i} - n_{т_i})^2}{n_{т_i}} :$$"
   ]
  },
  {
   "cell_type": "code",
   "execution_count": 24,
   "id": "0323a9df",
   "metadata": {},
   "outputs": [
    {
     "data": {
      "text/html": [
       "<div>\n",
       "<style scoped>\n",
       "    .dataframe tbody tr th:only-of-type {\n",
       "        vertical-align: middle;\n",
       "    }\n",
       "\n",
       "    .dataframe tbody tr th {\n",
       "        vertical-align: top;\n",
       "    }\n",
       "\n",
       "    .dataframe thead th {\n",
       "        text-align: right;\n",
       "    }\n",
       "</style>\n",
       "<table border=\"1\" class=\"dataframe\">\n",
       "  <thead>\n",
       "    <tr style=\"text-align: right;\">\n",
       "      <th></th>\n",
       "      <th>x_left</th>\n",
       "      <th>x_right</th>\n",
       "      <th>x_avr</th>\n",
       "      <th>n_f</th>\n",
       "      <th>p_f</th>\n",
       "      <th>t_left</th>\n",
       "      <th>t_right</th>\n",
       "      <th>1/2Ф(t_л)</th>\n",
       "      <th>1/2Ф(t_пр)</th>\n",
       "      <th>p_t</th>\n",
       "      <th>n_t</th>\n",
       "      <th>(n_f-n_t)^2 / n_t</th>\n",
       "    </tr>\n",
       "  </thead>\n",
       "  <tbody>\n",
       "    <tr>\n",
       "      <th>0</th>\n",
       "      <td>51.790</td>\n",
       "      <td>53.747</td>\n",
       "      <td>52.7685</td>\n",
       "      <td>3</td>\n",
       "      <td>0.023438</td>\n",
       "      <td>-inf</td>\n",
       "      <td>-2.122686</td>\n",
       "      <td>-0.500000</td>\n",
       "      <td>-0.483110</td>\n",
       "      <td>0.016890</td>\n",
       "      <td>2.161932</td>\n",
       "      <td>0.324875</td>\n",
       "    </tr>\n",
       "    <tr>\n",
       "      <th>1</th>\n",
       "      <td>53.747</td>\n",
       "      <td>55.704</td>\n",
       "      <td>54.7255</td>\n",
       "      <td>7</td>\n",
       "      <td>0.054688</td>\n",
       "      <td>-2.122686</td>\n",
       "      <td>-1.471189</td>\n",
       "      <td>-0.483110</td>\n",
       "      <td>-0.429380</td>\n",
       "      <td>0.053730</td>\n",
       "      <td>6.877435</td>\n",
       "      <td>0.002184</td>\n",
       "    </tr>\n",
       "    <tr>\n",
       "      <th>2</th>\n",
       "      <td>55.704</td>\n",
       "      <td>57.661</td>\n",
       "      <td>56.6825</td>\n",
       "      <td>15</td>\n",
       "      <td>0.117188</td>\n",
       "      <td>-1.471189</td>\n",
       "      <td>-0.819691</td>\n",
       "      <td>-0.429380</td>\n",
       "      <td>-0.293804</td>\n",
       "      <td>0.135576</td>\n",
       "      <td>17.353722</td>\n",
       "      <td>0.319240</td>\n",
       "    </tr>\n",
       "    <tr>\n",
       "      <th>3</th>\n",
       "      <td>57.661</td>\n",
       "      <td>59.619</td>\n",
       "      <td>58.6400</td>\n",
       "      <td>32</td>\n",
       "      <td>0.250000</td>\n",
       "      <td>-0.819691</td>\n",
       "      <td>-0.167861</td>\n",
       "      <td>-0.293804</td>\n",
       "      <td>-0.066654</td>\n",
       "      <td>0.227150</td>\n",
       "      <td>29.075220</td>\n",
       "      <td>0.294214</td>\n",
       "    </tr>\n",
       "    <tr>\n",
       "      <th>4</th>\n",
       "      <td>59.619</td>\n",
       "      <td>61.576</td>\n",
       "      <td>60.5975</td>\n",
       "      <td>25</td>\n",
       "      <td>0.195312</td>\n",
       "      <td>-0.167861</td>\n",
       "      <td>0.483636</td>\n",
       "      <td>-0.066654</td>\n",
       "      <td>0.185678</td>\n",
       "      <td>0.252332</td>\n",
       "      <td>32.298451</td>\n",
       "      <td>1.649224</td>\n",
       "    </tr>\n",
       "    <tr>\n",
       "      <th>5</th>\n",
       "      <td>61.576</td>\n",
       "      <td>63.533</td>\n",
       "      <td>62.5545</td>\n",
       "      <td>31</td>\n",
       "      <td>0.242188</td>\n",
       "      <td>0.483636</td>\n",
       "      <td>1.135133</td>\n",
       "      <td>0.185678</td>\n",
       "      <td>0.371840</td>\n",
       "      <td>0.186162</td>\n",
       "      <td>23.828785</td>\n",
       "      <td>2.158160</td>\n",
       "    </tr>\n",
       "    <tr>\n",
       "      <th>6</th>\n",
       "      <td>63.533</td>\n",
       "      <td>65.490</td>\n",
       "      <td>64.5115</td>\n",
       "      <td>12</td>\n",
       "      <td>0.093750</td>\n",
       "      <td>1.135133</td>\n",
       "      <td>1.786630</td>\n",
       "      <td>0.371840</td>\n",
       "      <td>0.463001</td>\n",
       "      <td>0.091161</td>\n",
       "      <td>11.668629</td>\n",
       "      <td>0.009410</td>\n",
       "    </tr>\n",
       "    <tr>\n",
       "      <th>7</th>\n",
       "      <td>65.490</td>\n",
       "      <td>67.448</td>\n",
       "      <td>66.4690</td>\n",
       "      <td>3</td>\n",
       "      <td>0.023438</td>\n",
       "      <td>1.786630</td>\n",
       "      <td>inf</td>\n",
       "      <td>0.463001</td>\n",
       "      <td>0.500000</td>\n",
       "      <td>0.036999</td>\n",
       "      <td>4.735826</td>\n",
       "      <td>0.636234</td>\n",
       "    </tr>\n",
       "  </tbody>\n",
       "</table>\n",
       "</div>"
      ],
      "text/plain": [
       "   x_left  x_right    x_avr  n_f       p_f    t_left   t_right  1/2Ф(t_л)  \\\n",
       "0  51.790   53.747  52.7685    3  0.023438      -inf -2.122686  -0.500000   \n",
       "1  53.747   55.704  54.7255    7  0.054688 -2.122686 -1.471189  -0.483110   \n",
       "2  55.704   57.661  56.6825   15  0.117188 -1.471189 -0.819691  -0.429380   \n",
       "3  57.661   59.619  58.6400   32  0.250000 -0.819691 -0.167861  -0.293804   \n",
       "4  59.619   61.576  60.5975   25  0.195312 -0.167861  0.483636  -0.066654   \n",
       "5  61.576   63.533  62.5545   31  0.242188  0.483636  1.135133   0.185678   \n",
       "6  63.533   65.490  64.5115   12  0.093750  1.135133  1.786630   0.371840   \n",
       "7  65.490   67.448  66.4690    3  0.023438  1.786630       inf   0.463001   \n",
       "\n",
       "   1/2Ф(t_пр)       p_t        n_t  (n_f-n_t)^2 / n_t  \n",
       "0   -0.483110  0.016890   2.161932           0.324875  \n",
       "1   -0.429380  0.053730   6.877435           0.002184  \n",
       "2   -0.293804  0.135576  17.353722           0.319240  \n",
       "3   -0.066654  0.227150  29.075220           0.294214  \n",
       "4    0.185678  0.252332  32.298451           1.649224  \n",
       "5    0.371840  0.186162  23.828785           2.158160  \n",
       "6    0.463001  0.091161  11.668629           0.009410  \n",
       "7    0.500000  0.036999   4.735826           0.636234  "
      ]
     },
     "execution_count": 24,
     "metadata": {},
     "output_type": "execute_result"
    }
   ],
   "source": [
    "table_2[\"(n_f-n_t)^2 / n_t\"] = ((table_2[\"n_f\"] - table_2[\"n_t\"]) ** 2 ) / table_2[\"n_t\"]\n",
    "table_2"
   ]
  },
  {
   "cell_type": "markdown",
   "id": "16ee7165",
   "metadata": {},
   "source": [
    "Тогда фактическое значение $\\chi^2_f$ будет равно:\n",
    "\n",
    "$$ \\chi^2_f = \\sum_{i=1}^{n} \\frac{(n_{ф_i} - n_{т_i})^2}{n_{т_i}} $$"
   ]
  },
  {
   "cell_type": "code",
   "execution_count": 25,
   "id": "e1e70bf9",
   "metadata": {},
   "outputs": [
    {
     "data": {
      "text/plain": [
       "5.393542387781168"
      ]
     },
     "execution_count": 25,
     "metadata": {},
     "output_type": "execute_result"
    }
   ],
   "source": [
    "chi_square_fact = table_2.sum()[\"(n_f-n_t)^2 / n_t\"]\n",
    "chi_square_fact"
   ]
  },
  {
   "cell_type": "markdown",
   "id": "05f98a7c",
   "metadata": {},
   "source": [
    "### Создание объекта \"$\\chi^2$ распределения Пирсона\""
   ]
  },
  {
   "cell_type": "markdown",
   "id": "885638e8-9e47-4945-a2ee-d569f8f88918",
   "metadata": {},
   "source": [
    "Функция ```stats.chi2(df)``` принимает одну переменную:\n",
    "* **df** - Количество степеней свобод.\n",
    "\n",
    "Для примера построим на одном графике несколько $\\chi^2$ распределений при степенях свобод от **start_df** до **end_df**:"
   ]
  },
  {
   "cell_type": "code",
   "execution_count": 26,
   "id": "d084d3c9-e13f-4bb2-bb43-6fb690834f6c",
   "metadata": {},
   "outputs": [
    {
     "data": {
      "image/png": "[encoded data removed]",
      "text/plain": [
       "<Figure size 640x480 with 1 Axes>"
      ]
     },
     "metadata": {},
     "output_type": "display_data"
    }
   ],
   "source": [
    "start_df = 1\n",
    "end_df = 10\n",
    "\n",
    "fig, ax = plt.subplots()\n",
    "\n",
    "for df in range(start_df, end_df + 1):\n",
    "    chi2_distribution = stats.chi2(df=df)\n",
    "    x = np.arange(chi2_distribution.ppf(0), chi2_distribution.ppf(0.999), 0.1)\n",
    "    ax.plot(x, chi2_distribution.pdf(x), label=f\"$\\chi^2$ распределение при df: {df}\")\n",
    "\n",
    "plt.legend()\n",
    "plt.show()"
   ]
  },
  {
   "cell_type": "markdown",
   "id": "ec59eae8",
   "metadata": {},
   "source": [
    "В контексте нашей задачи дельта степеней свобод (delta degrees of freedom) равна 2, тогда в общем случае у нашего распределения останется:\n",
    "$$ r = n - 1 - ddof $$\n",
    "степеней свобод."
   ]
  },
  {
   "cell_type": "code",
   "execution_count": 27,
   "id": "9ed4bc19",
   "metadata": {},
   "outputs": [
    {
     "data": {
      "text/plain": [
       "5"
      ]
     },
     "execution_count": 27,
     "metadata": {},
     "output_type": "execute_result"
    }
   ],
   "source": [
    "ddof = 2\n",
    "\n",
    "degrees_of_freedom = len(table_2) - 1 - ddof\n",
    "degrees_of_freedom"
   ]
  },
  {
   "cell_type": "markdown",
   "id": "ae00bd80",
   "metadata": {},
   "source": [
    "Создадим сам объект $\\chi^2$ распределения Пирсона:"
   ]
  },
  {
   "cell_type": "code",
   "execution_count": 28,
   "id": "dfc18cdf",
   "metadata": {},
   "outputs": [],
   "source": [
    "chi2_distribution = stats.chi2(df=degrees_of_freedom)"
   ]
  },
  {
   "cell_type": "markdown",
   "id": "721ab581",
   "metadata": {},
   "source": [
    "Используем метод ```.ppf(p_0)``` для нахождения критического значения $\\chi^2$ для доверительной вероятности $p_0$:"
   ]
  },
  {
   "cell_type": "code",
   "execution_count": 29,
   "id": "609040f1",
   "metadata": {},
   "outputs": [
    {
     "data": {
      "text/plain": [
       "11.070497693516351"
      ]
     },
     "execution_count": 29,
     "metadata": {},
     "output_type": "execute_result"
    }
   ],
   "source": [
    "p_0 = 0.95\n",
    "\n",
    "chi2_critical = chi2_distribution.ppf(p_0)\n",
    "chi2_critical"
   ]
  },
  {
   "cell_type": "markdown",
   "id": "e400cdf7",
   "metadata": {},
   "source": [
    "Проверим нашу гипотезу по критерию Пирсона:\n",
    "\n",
    "$$ \\chi_{fact}^2 \\le \\chi_{p_0}^2 $$"
   ]
  },
  {
   "cell_type": "code",
   "execution_count": 30,
   "id": "be1e3c9d",
   "metadata": {},
   "outputs": [
    {
     "data": {
      "text/plain": [
       "'Гипотеза не отвергается'"
      ]
     },
     "execution_count": 30,
     "metadata": {},
     "output_type": "execute_result"
    }
   ],
   "source": [
    "\"Гипотеза не отвергается\" if chi_square_fact <= chi2_critical else \"Гипотеза отвергается\""
   ]
  },
  {
   "cell_type": "markdown",
   "id": "7081fa83",
   "metadata": {},
   "source": [
    "### Построим график $\\chi^2$ распределения"
   ]
  },
  {
   "cell_type": "markdown",
   "id": "c8dd813c",
   "metadata": {},
   "source": [
    "* Построим функцию плотности ранее полученного $\\chi^2$ распределения **chi2_distribution**:"
   ]
  },
  {
   "cell_type": "code",
   "execution_count": 31,
   "id": "9be9ad1e",
   "metadata": {},
   "outputs": [
    {
     "data": {
      "image/png": "[encoded data removed]",
      "text/plain": [
       "<Figure size 640x480 with 1 Axes>"
      ]
     },
     "metadata": {},
     "output_type": "display_data"
    }
   ],
   "source": [
    "fig, ax = plt.subplots()\n",
    "x = np.arange(chi2_distribution.ppf(0), chi2_distribution.ppf(0.999), 0.1)\n",
    "ax.plot(x, chi2_distribution.pdf(x), label=f\"$\\chi^2$ распределение при df: {degrees_of_freedom}\")\n",
    "plt.legend()\n",
    "plt.show()"
   ]
  },
  {
   "cell_type": "markdown",
   "id": "b1300858",
   "metadata": {},
   "source": [
    "* Отметим на графике область принятия и отрицания гипотезы:"
   ]
  },
  {
   "cell_type": "code",
   "execution_count": 32,
   "id": "71a40dd3",
   "metadata": {},
   "outputs": [
    {
     "data": {
      "image/png": "[encoded data removed]",
      "text/plain": [
       "<Figure size 640x480 with 1 Axes>"
      ]
     },
     "metadata": {},
     "output_type": "display_data"
    }
   ],
   "source": [
    "fig, ax = plt.subplots()\n",
    "x = np.arange(chi2_distribution.ppf(0), chi2_distribution.ppf(0.999), 0.1)\n",
    "\n",
    "ax.plot(x, chi2_distribution.pdf(x), label=f\"$\\chi^2$ распределение при df: {degrees_of_freedom}\")\n",
    "\n",
    "# Выбор аргументов из x попадающих в промежуток x < chi2_critical\n",
    "x_gr = x[x < chi2_critical]\n",
    "# Заливка области принятия гипотезы\n",
    "ax.fill_between(x_gr, \n",
    "                chi2_distribution.pdf(x[x < chi2_critical]), \n",
    "                color=\"g\", alpha=0.5, label=\"Область принятия гипотезы\")\n",
    "\n",
    "# Выбор аргументов из x попадающих в промежуток chi2_critical < x < x_max\n",
    "x_red = x[(x>chi2_critical) & (x< max(x))]\n",
    "# Заливка области отрицания гипотезы\n",
    "ax.fill_between(x_red, \n",
    "                chi2_distribution.pdf(x_red), \n",
    "                alpha=0.3, color=\"r\", label=\"Область отрицания гипотезы\")\n",
    "\n",
    "# Построение линий разделяющих области \n",
    "ax.hlines(0, 0, max(x), lw=1, color=\"black\") # Горизонтальная линия от точки (0, 0) длиной max(x)\n",
    "# Вертикальная линия от точки (chi2_critical, 0) высотой f(chi2_critical)\n",
    "ax.vlines(chi2_critical, 0, chi2_distribution.pdf(chi2_critical), color=\"black\", lw=1)\n",
    "\n",
    "plt.legend()\n",
    "plt.show()"
   ]
  },
  {
   "cell_type": "markdown",
   "id": "7b0f3f30",
   "metadata": {},
   "source": [
    "* Добавим на график наше фактическое значение $\\chi^2$:"
   ]
  },
  {
   "cell_type": "code",
   "execution_count": 33,
   "id": "d12ff32b",
   "metadata": {},
   "outputs": [
    {
     "data": {
      "image/png": "[encoded data removed]",
      "text/plain": [
       "<Figure size 640x480 with 1 Axes>"
      ]
     },
     "metadata": {},
     "output_type": "display_data"
    }
   ],
   "source": [
    "fig, ax = plt.subplots()\n",
    "x = np.arange(chi2_distribution.ppf(0), chi2_distribution.ppf(0.999), 0.1)\n",
    "\n",
    "ax.plot(x, chi2_distribution.pdf(x), label=f\"$\\chi^2$ распределение при df: {degrees_of_freedom}\")\n",
    "\n",
    "# Выбор аргументов из x попадающих в промежуток x < chi2_critical\n",
    "x_gr = x[x < chi2_critical]\n",
    "# Заливка области принятия гипотезы\n",
    "ax.fill_between(x_gr, \n",
    "                chi2_distribution.pdf(x[x < chi2_critical]), \n",
    "                color=\"g\", alpha=0.5, label=\"Область принятия гипотезы\")\n",
    "\n",
    "# Выбор аргументов из x попадающих в промежуток chi2_critical < x < x_max\n",
    "x_red = x[(x>chi2_critical) & (x< max(x))] # & (x<z)\n",
    "# Заливка области отрицания гипотезы\n",
    "ax.fill_between(x_red, \n",
    "                chi2_distribution.pdf(x_red), \n",
    "                alpha=0.3, color=\"r\", label=\"Область отрицания гипотезы\")\n",
    "\n",
    "# Построение линий, разделяющих области \n",
    "ax.hlines(0, 0, max(x), lw=1, color=\"black\") # Горизонтильная линия от точки (0, 0) длиной max(x)\n",
    "# Вертикальная линия от точки (chi2_critical, 0) высотой f(chi2_critical)\n",
    "ax.vlines(chi2_critical, 0, chi2_distribution.pdf(chi2_critical), color=\"black\", lw=1)\n",
    "\n",
    "# Заливка области фактической доверительной вероятности\n",
    "ax.fill_between(x[x < chi_square_fact], \n",
    "                chi2_distribution.pdf(x[x < chi_square_fact]), \n",
    "                color=\"b\", alpha=0.3, label=\"Фактическая доверительная \\nвероятность\")\n",
    "\n",
    "# Построение вертикальной границы в точке chi_square_fact\n",
    "ax.vlines(chi_square_fact, 0, chi2_distribution.pdf(chi_square_fact), color=\"black\", lw=1)\n",
    "\n",
    "plt.legend()\n",
    "# Сохраним полeченный график в файл \"f(x)_graf.png\"\n",
    "plt.savefig(\"Pirson_test.png\")\n",
    "\n",
    "plt.show()"
   ]
  },
  {
   "cell_type": "markdown",
   "id": "5cf62fda",
   "metadata": {},
   "source": [
    "### Проверка гипотезы по критерию Пирсона стандартными средствами\n",
    "\n",
    "Используем функцию ```stats.chisquare(f_obs, f_exp, ddof)``` из библиотеки ```scipy```\n",
    "\n",
    "Переменные:\n",
    "* **f_obs** - список фактических частот $n_f$, попавших в интервалы;\n",
    "* **f_exp** - список ожидаемых теоретических частот $n_t$;\n",
    "* **ddof** - дельта степеней свобод (в нашем случае 2 (переменная **ddof** была определена ранее))."
   ]
  },
  {
   "cell_type": "code",
   "execution_count": 34,
   "id": "521fccd9",
   "metadata": {},
   "outputs": [
    {
     "data": {
      "text/plain": [
       "Power_divergenceResult(statistic=5.393542387781168, pvalue=0.3697605854969096)"
      ]
     },
     "execution_count": 34,
     "metadata": {},
     "output_type": "execute_result"
    }
   ],
   "source": [
    "ddof = 2\n",
    "chi_test_scipy = stats.chisquare(f_obs=table_2[\"n_f\"], f_exp=table_2[\"n_t\"], ddof=ddof)\n",
    "chi_test_scipy"
   ]
  },
  {
   "cell_type": "markdown",
   "id": "0b941df9",
   "metadata": {},
   "source": [
    "В результате создания объекта мы видим рассчитанное значение **chi_square_fact** и значение pvalue равное:\n",
    "\n",
    "$$ pvalue = 1 - P_{0_{fact}} $$\n",
    "\n",
    "Cравним эти значения с теми, что мы получили ранее:"
   ]
  },
  {
   "cell_type": "code",
   "execution_count": 35,
   "id": "10db76a4",
   "metadata": {},
   "outputs": [
    {
     "data": {
      "text/plain": [
       "(5.393542387781168, 0.3697605854969096)"
      ]
     },
     "execution_count": 35,
     "metadata": {},
     "output_type": "execute_result"
    }
   ],
   "source": [
    "p_val = 1 - chi2_distribution.cdf(chi_square_fact)\n",
    "chi_square_fact, p_val"
   ]
  },
  {
   "cell_type": "markdown",
   "id": "21d3f241",
   "metadata": {},
   "source": [
    "Получить сами значения из объекта $\\chi^2$ теста можно обратившись к атрибутам объекта напрямую:"
   ]
  },
  {
   "cell_type": "code",
   "execution_count": 36,
   "id": "5d120f44",
   "metadata": {},
   "outputs": [
    {
     "data": {
      "text/plain": [
       "(5.393542387781168, 0.3697605854969096)"
      ]
     },
     "execution_count": 36,
     "metadata": {},
     "output_type": "execute_result"
    }
   ],
   "source": [
    "chi_square_fact_scipy = chi_test_scipy.statistic\n",
    "p_val_scipy = chi_test_scipy.pvalue\n",
    "\n",
    "chi_square_fact_scipy, p_val_scipy"
   ]
  },
  {
   "cell_type": "markdown",
   "id": "582fc194-bf72-45f5-9fc3-f0ef36f61768",
   "metadata": {},
   "source": [
    "### Альтернативный расчет значений теоретической частоты $n_т$"
   ]
  },
  {
   "cell_type": "markdown",
   "id": "06e50a7d-9139-406b-b9d9-1932fa33edcd",
   "metadata": {},
   "source": [
    "Создадим новую подтаблицу **table_3** из таблицы **table_2**"
   ]
  },
  {
   "cell_type": "code",
   "execution_count": 37,
   "id": "39880272-20c7-47a7-8f55-b24f20762112",
   "metadata": {},
   "outputs": [
    {
     "data": {
      "text/html": [
       "<div>\n",
       "<style scoped>\n",
       "    .dataframe tbody tr th:only-of-type {\n",
       "        vertical-align: middle;\n",
       "    }\n",
       "\n",
       "    .dataframe tbody tr th {\n",
       "        vertical-align: top;\n",
       "    }\n",
       "\n",
       "    .dataframe thead th {\n",
       "        text-align: right;\n",
       "    }\n",
       "</style>\n",
       "<table border=\"1\" class=\"dataframe\">\n",
       "  <thead>\n",
       "    <tr style=\"text-align: right;\">\n",
       "      <th></th>\n",
       "      <th>x_left</th>\n",
       "      <th>x_right</th>\n",
       "      <th>n_f</th>\n",
       "    </tr>\n",
       "  </thead>\n",
       "  <tbody>\n",
       "    <tr>\n",
       "      <th>0</th>\n",
       "      <td>51.790</td>\n",
       "      <td>53.747</td>\n",
       "      <td>3</td>\n",
       "    </tr>\n",
       "    <tr>\n",
       "      <th>1</th>\n",
       "      <td>53.747</td>\n",
       "      <td>55.704</td>\n",
       "      <td>7</td>\n",
       "    </tr>\n",
       "    <tr>\n",
       "      <th>2</th>\n",
       "      <td>55.704</td>\n",
       "      <td>57.661</td>\n",
       "      <td>15</td>\n",
       "    </tr>\n",
       "    <tr>\n",
       "      <th>3</th>\n",
       "      <td>57.661</td>\n",
       "      <td>59.619</td>\n",
       "      <td>32</td>\n",
       "    </tr>\n",
       "    <tr>\n",
       "      <th>4</th>\n",
       "      <td>59.619</td>\n",
       "      <td>61.576</td>\n",
       "      <td>25</td>\n",
       "    </tr>\n",
       "    <tr>\n",
       "      <th>5</th>\n",
       "      <td>61.576</td>\n",
       "      <td>63.533</td>\n",
       "      <td>31</td>\n",
       "    </tr>\n",
       "    <tr>\n",
       "      <th>6</th>\n",
       "      <td>63.533</td>\n",
       "      <td>65.490</td>\n",
       "      <td>12</td>\n",
       "    </tr>\n",
       "    <tr>\n",
       "      <th>7</th>\n",
       "      <td>65.490</td>\n",
       "      <td>67.448</td>\n",
       "      <td>3</td>\n",
       "    </tr>\n",
       "  </tbody>\n",
       "</table>\n",
       "</div>"
      ],
      "text/plain": [
       "   x_left  x_right  n_f\n",
       "0  51.790   53.747    3\n",
       "1  53.747   55.704    7\n",
       "2  55.704   57.661   15\n",
       "3  57.661   59.619   32\n",
       "4  59.619   61.576   25\n",
       "5  61.576   63.533   31\n",
       "6  63.533   65.490   12\n",
       "7  65.490   67.448    3"
      ]
     },
     "execution_count": 37,
     "metadata": {},
     "output_type": "execute_result"
    }
   ],
   "source": [
    "table_3 = table_2[[\"x_left\", \"x_right\", \"n_f\"]]\n",
    "table_3"
   ]
  },
  {
   "cell_type": "markdown",
   "id": "44fb46c7-7509-47fa-8ecb-cdde8e59bad4",
   "metadata": {},
   "source": [
    "Заменим крайние значения интервалов на $\\pm \\infty$:"
   ]
  },
  {
   "cell_type": "code",
   "execution_count": 38,
   "id": "6b43cca3-ca7f-4ae2-b5b1-a7a88e1737e1",
   "metadata": {},
   "outputs": [
    {
     "data": {
      "text/html": [
       "<div>\n",
       "<style scoped>\n",
       "    .dataframe tbody tr th:only-of-type {\n",
       "        vertical-align: middle;\n",
       "    }\n",
       "\n",
       "    .dataframe tbody tr th {\n",
       "        vertical-align: top;\n",
       "    }\n",
       "\n",
       "    .dataframe thead th {\n",
       "        text-align: right;\n",
       "    }\n",
       "</style>\n",
       "<table border=\"1\" class=\"dataframe\">\n",
       "  <thead>\n",
       "    <tr style=\"text-align: right;\">\n",
       "      <th></th>\n",
       "      <th>x_left</th>\n",
       "      <th>x_right</th>\n",
       "      <th>n_f</th>\n",
       "    </tr>\n",
       "  </thead>\n",
       "  <tbody>\n",
       "    <tr>\n",
       "      <th>0</th>\n",
       "      <td>-inf</td>\n",
       "      <td>53.747</td>\n",
       "      <td>3</td>\n",
       "    </tr>\n",
       "    <tr>\n",
       "      <th>1</th>\n",
       "      <td>53.747</td>\n",
       "      <td>55.704</td>\n",
       "      <td>7</td>\n",
       "    </tr>\n",
       "    <tr>\n",
       "      <th>2</th>\n",
       "      <td>55.704</td>\n",
       "      <td>57.661</td>\n",
       "      <td>15</td>\n",
       "    </tr>\n",
       "    <tr>\n",
       "      <th>3</th>\n",
       "      <td>57.661</td>\n",
       "      <td>59.619</td>\n",
       "      <td>32</td>\n",
       "    </tr>\n",
       "    <tr>\n",
       "      <th>4</th>\n",
       "      <td>59.619</td>\n",
       "      <td>61.576</td>\n",
       "      <td>25</td>\n",
       "    </tr>\n",
       "    <tr>\n",
       "      <th>5</th>\n",
       "      <td>61.576</td>\n",
       "      <td>63.533</td>\n",
       "      <td>31</td>\n",
       "    </tr>\n",
       "    <tr>\n",
       "      <th>6</th>\n",
       "      <td>63.533</td>\n",
       "      <td>65.490</td>\n",
       "      <td>12</td>\n",
       "    </tr>\n",
       "    <tr>\n",
       "      <th>7</th>\n",
       "      <td>65.490</td>\n",
       "      <td>inf</td>\n",
       "      <td>3</td>\n",
       "    </tr>\n",
       "  </tbody>\n",
       "</table>\n",
       "</div>"
      ],
      "text/plain": [
       "   x_left  x_right  n_f\n",
       "0    -inf   53.747    3\n",
       "1  53.747   55.704    7\n",
       "2  55.704   57.661   15\n",
       "3  57.661   59.619   32\n",
       "4  59.619   61.576   25\n",
       "5  61.576   63.533   31\n",
       "6  63.533   65.490   12\n",
       "7  65.490      inf    3"
      ]
     },
     "execution_count": 38,
     "metadata": {},
     "output_type": "execute_result"
    }
   ],
   "source": [
    "table_3.loc[min(table_3.index), \"x_left\"] = -float(\"inf\")\n",
    "table_3.loc[max(table_3.index), \"x_right\"] = float(\"inf\")\n",
    "table_3"
   ]
  },
  {
   "cell_type": "markdown",
   "id": "47bfa6c5-4f29-4b21-a396-b0f057328de9",
   "metadata": {},
   "source": [
    "Создадим объект нормального распределения с нашими параметрами $M(x)$ и $\\sigma(x)$:"
   ]
  },
  {
   "cell_type": "code",
   "execution_count": 39,
   "id": "b9155a48-897d-4348-9a75-b521ea740559",
   "metadata": {},
   "outputs": [],
   "source": [
    "custom_norm_distr = stats.norm(loc=result_statistics[\"M(X)\"], scale=result_statistics[\"Std_dev(X)\"])"
   ]
  },
  {
   "cell_type": "markdown",
   "id": "2d32127b-97b4-4265-80a1-19c8aad87259",
   "metadata": {},
   "source": [
    "Рассчитаем значения теоретических вероятностей $p_t$ как разность значений функции распределения\n",
    "\n",
    "$$ p_{t_i} = F(x_{пр_i}) - F(x_{л_i})$$\n"
   ]
  },
  {
   "cell_type": "code",
   "execution_count": 40,
   "id": "1d457eab-ac65-406a-9bc2-164cb4442bea",
   "metadata": {},
   "outputs": [
    {
     "data": {
      "text/html": [
       "<div>\n",
       "<style scoped>\n",
       "    .dataframe tbody tr th:only-of-type {\n",
       "        vertical-align: middle;\n",
       "    }\n",
       "\n",
       "    .dataframe tbody tr th {\n",
       "        vertical-align: top;\n",
       "    }\n",
       "\n",
       "    .dataframe thead th {\n",
       "        text-align: right;\n",
       "    }\n",
       "</style>\n",
       "<table border=\"1\" class=\"dataframe\">\n",
       "  <thead>\n",
       "    <tr style=\"text-align: right;\">\n",
       "      <th></th>\n",
       "      <th>x_left</th>\n",
       "      <th>x_right</th>\n",
       "      <th>n_f</th>\n",
       "      <th>p_t</th>\n",
       "    </tr>\n",
       "  </thead>\n",
       "  <tbody>\n",
       "    <tr>\n",
       "      <th>0</th>\n",
       "      <td>-inf</td>\n",
       "      <td>53.747</td>\n",
       "      <td>3</td>\n",
       "      <td>0.016890</td>\n",
       "    </tr>\n",
       "    <tr>\n",
       "      <th>1</th>\n",
       "      <td>53.747</td>\n",
       "      <td>55.704</td>\n",
       "      <td>7</td>\n",
       "      <td>0.053730</td>\n",
       "    </tr>\n",
       "    <tr>\n",
       "      <th>2</th>\n",
       "      <td>55.704</td>\n",
       "      <td>57.661</td>\n",
       "      <td>15</td>\n",
       "      <td>0.135576</td>\n",
       "    </tr>\n",
       "    <tr>\n",
       "      <th>3</th>\n",
       "      <td>57.661</td>\n",
       "      <td>59.619</td>\n",
       "      <td>32</td>\n",
       "      <td>0.227150</td>\n",
       "    </tr>\n",
       "    <tr>\n",
       "      <th>4</th>\n",
       "      <td>59.619</td>\n",
       "      <td>61.576</td>\n",
       "      <td>25</td>\n",
       "      <td>0.252332</td>\n",
       "    </tr>\n",
       "    <tr>\n",
       "      <th>5</th>\n",
       "      <td>61.576</td>\n",
       "      <td>63.533</td>\n",
       "      <td>31</td>\n",
       "      <td>0.186162</td>\n",
       "    </tr>\n",
       "    <tr>\n",
       "      <th>6</th>\n",
       "      <td>63.533</td>\n",
       "      <td>65.490</td>\n",
       "      <td>12</td>\n",
       "      <td>0.091161</td>\n",
       "    </tr>\n",
       "    <tr>\n",
       "      <th>7</th>\n",
       "      <td>65.490</td>\n",
       "      <td>inf</td>\n",
       "      <td>3</td>\n",
       "      <td>0.036999</td>\n",
       "    </tr>\n",
       "  </tbody>\n",
       "</table>\n",
       "</div>"
      ],
      "text/plain": [
       "   x_left  x_right  n_f       p_t\n",
       "0    -inf   53.747    3  0.016890\n",
       "1  53.747   55.704    7  0.053730\n",
       "2  55.704   57.661   15  0.135576\n",
       "3  57.661   59.619   32  0.227150\n",
       "4  59.619   61.576   25  0.252332\n",
       "5  61.576   63.533   31  0.186162\n",
       "6  63.533   65.490   12  0.091161\n",
       "7  65.490      inf    3  0.036999"
      ]
     },
     "execution_count": 40,
     "metadata": {},
     "output_type": "execute_result"
    }
   ],
   "source": [
    "table_3[\"p_t\"] = custom_norm_distr.cdf(table_3[\"x_right\"]) - custom_norm_distr.cdf(table_3[\"x_left\"])\n",
    "table_3"
   ]
  },
  {
   "cell_type": "markdown",
   "id": "a4dc3153-9009-45f9-80fc-171bd797b4f8",
   "metadata": {},
   "source": [
    "Проверим, что $ \\sum p_t = 1 $:"
   ]
  },
  {
   "cell_type": "code",
   "execution_count": 41,
   "id": "4465a5db-bec8-4b4e-bc20-2fc2d8f26bfc",
   "metadata": {},
   "outputs": [
    {
     "data": {
      "text/plain": [
       "1.0"
      ]
     },
     "execution_count": 41,
     "metadata": {},
     "output_type": "execute_result"
    }
   ],
   "source": [
    "table_3.sum()[\"p_t\"]"
   ]
  },
  {
   "cell_type": "markdown",
   "id": "46dd3e0f-3c6d-4fd6-ab4f-1ad15a810bed",
   "metadata": {},
   "source": [
    "Рассчитаем теоретические частоты $ n_t $ как $ p_t \\cdot N $:"
   ]
  },
  {
   "cell_type": "code",
   "execution_count": 42,
   "id": "8192344f-34ff-4d7f-a3fa-f46a25ba06aa",
   "metadata": {},
   "outputs": [
    {
     "data": {
      "text/html": [
       "<div>\n",
       "<style scoped>\n",
       "    .dataframe tbody tr th:only-of-type {\n",
       "        vertical-align: middle;\n",
       "    }\n",
       "\n",
       "    .dataframe tbody tr th {\n",
       "        vertical-align: top;\n",
       "    }\n",
       "\n",
       "    .dataframe thead th {\n",
       "        text-align: right;\n",
       "    }\n",
       "</style>\n",
       "<table border=\"1\" class=\"dataframe\">\n",
       "  <thead>\n",
       "    <tr style=\"text-align: right;\">\n",
       "      <th></th>\n",
       "      <th>x_left</th>\n",
       "      <th>x_right</th>\n",
       "      <th>n_f</th>\n",
       "      <th>p_t</th>\n",
       "      <th>n_t</th>\n",
       "    </tr>\n",
       "  </thead>\n",
       "  <tbody>\n",
       "    <tr>\n",
       "      <th>0</th>\n",
       "      <td>-inf</td>\n",
       "      <td>53.747</td>\n",
       "      <td>3</td>\n",
       "      <td>0.016890</td>\n",
       "      <td>2.161932</td>\n",
       "    </tr>\n",
       "    <tr>\n",
       "      <th>1</th>\n",
       "      <td>53.747</td>\n",
       "      <td>55.704</td>\n",
       "      <td>7</td>\n",
       "      <td>0.053730</td>\n",
       "      <td>6.877435</td>\n",
       "    </tr>\n",
       "    <tr>\n",
       "      <th>2</th>\n",
       "      <td>55.704</td>\n",
       "      <td>57.661</td>\n",
       "      <td>15</td>\n",
       "      <td>0.135576</td>\n",
       "      <td>17.353722</td>\n",
       "    </tr>\n",
       "    <tr>\n",
       "      <th>3</th>\n",
       "      <td>57.661</td>\n",
       "      <td>59.619</td>\n",
       "      <td>32</td>\n",
       "      <td>0.227150</td>\n",
       "      <td>29.075220</td>\n",
       "    </tr>\n",
       "    <tr>\n",
       "      <th>4</th>\n",
       "      <td>59.619</td>\n",
       "      <td>61.576</td>\n",
       "      <td>25</td>\n",
       "      <td>0.252332</td>\n",
       "      <td>32.298451</td>\n",
       "    </tr>\n",
       "    <tr>\n",
       "      <th>5</th>\n",
       "      <td>61.576</td>\n",
       "      <td>63.533</td>\n",
       "      <td>31</td>\n",
       "      <td>0.186162</td>\n",
       "      <td>23.828785</td>\n",
       "    </tr>\n",
       "    <tr>\n",
       "      <th>6</th>\n",
       "      <td>63.533</td>\n",
       "      <td>65.490</td>\n",
       "      <td>12</td>\n",
       "      <td>0.091161</td>\n",
       "      <td>11.668629</td>\n",
       "    </tr>\n",
       "    <tr>\n",
       "      <th>7</th>\n",
       "      <td>65.490</td>\n",
       "      <td>inf</td>\n",
       "      <td>3</td>\n",
       "      <td>0.036999</td>\n",
       "      <td>4.735826</td>\n",
       "    </tr>\n",
       "  </tbody>\n",
       "</table>\n",
       "</div>"
      ],
      "text/plain": [
       "   x_left  x_right  n_f       p_t        n_t\n",
       "0    -inf   53.747    3  0.016890   2.161932\n",
       "1  53.747   55.704    7  0.053730   6.877435\n",
       "2  55.704   57.661   15  0.135576  17.353722\n",
       "3  57.661   59.619   32  0.227150  29.075220\n",
       "4  59.619   61.576   25  0.252332  32.298451\n",
       "5  61.576   63.533   31  0.186162  23.828785\n",
       "6  63.533   65.490   12  0.091161  11.668629\n",
       "7  65.490      inf    3  0.036999   4.735826"
      ]
     },
     "execution_count": 42,
     "metadata": {},
     "output_type": "execute_result"
    }
   ],
   "source": [
    "table_3[\"n_t\"] = table_3[\"p_t\"] * result_statistics[\"count\"]\n",
    "table_3"
   ]
  },
  {
   "cell_type": "markdown",
   "id": "b7defaaf-7293-4cfb-b9d9-b860fc16d0c8",
   "metadata": {},
   "source": [
    "Проверим, что $ \\sum n_t = N $:"
   ]
  },
  {
   "cell_type": "code",
   "execution_count": 43,
   "id": "e2df24ce-8340-4cf7-840f-8ff5a5054d42",
   "metadata": {},
   "outputs": [
    {
     "data": {
      "text/plain": [
       "128.0"
      ]
     },
     "execution_count": 43,
     "metadata": {},
     "output_type": "execute_result"
    }
   ],
   "source": [
    "table_3.sum()[\"n_t\"]"
   ]
  },
  {
   "cell_type": "markdown",
   "id": "5c06b7e6-f9fe-4d04-b9d0-2e99ad705d6b",
   "metadata": {},
   "source": [
    "Сравним полученные значения с **table_2**: "
   ]
  },
  {
   "cell_type": "code",
   "execution_count": 44,
   "id": "20a55e97-1860-443b-adad-da4f2fb05b0a",
   "metadata": {},
   "outputs": [
    {
     "data": {
      "text/html": [
       "<div>\n",
       "<style scoped>\n",
       "    .dataframe tbody tr th:only-of-type {\n",
       "        vertical-align: middle;\n",
       "    }\n",
       "\n",
       "    .dataframe tbody tr th {\n",
       "        vertical-align: top;\n",
       "    }\n",
       "\n",
       "    .dataframe thead th {\n",
       "        text-align: right;\n",
       "    }\n",
       "</style>\n",
       "<table border=\"1\" class=\"dataframe\">\n",
       "  <thead>\n",
       "    <tr style=\"text-align: right;\">\n",
       "      <th></th>\n",
       "      <th>x_left</th>\n",
       "      <th>x_right</th>\n",
       "      <th>n_f</th>\n",
       "      <th>p_t</th>\n",
       "      <th>n_t</th>\n",
       "    </tr>\n",
       "  </thead>\n",
       "  <tbody>\n",
       "    <tr>\n",
       "      <th>0</th>\n",
       "      <td>51.790</td>\n",
       "      <td>53.747</td>\n",
       "      <td>3</td>\n",
       "      <td>0.016890</td>\n",
       "      <td>2.161932</td>\n",
       "    </tr>\n",
       "    <tr>\n",
       "      <th>1</th>\n",
       "      <td>53.747</td>\n",
       "      <td>55.704</td>\n",
       "      <td>7</td>\n",
       "      <td>0.053730</td>\n",
       "      <td>6.877435</td>\n",
       "    </tr>\n",
       "    <tr>\n",
       "      <th>2</th>\n",
       "      <td>55.704</td>\n",
       "      <td>57.661</td>\n",
       "      <td>15</td>\n",
       "      <td>0.135576</td>\n",
       "      <td>17.353722</td>\n",
       "    </tr>\n",
       "    <tr>\n",
       "      <th>3</th>\n",
       "      <td>57.661</td>\n",
       "      <td>59.619</td>\n",
       "      <td>32</td>\n",
       "      <td>0.227150</td>\n",
       "      <td>29.075220</td>\n",
       "    </tr>\n",
       "    <tr>\n",
       "      <th>4</th>\n",
       "      <td>59.619</td>\n",
       "      <td>61.576</td>\n",
       "      <td>25</td>\n",
       "      <td>0.252332</td>\n",
       "      <td>32.298451</td>\n",
       "    </tr>\n",
       "    <tr>\n",
       "      <th>5</th>\n",
       "      <td>61.576</td>\n",
       "      <td>63.533</td>\n",
       "      <td>31</td>\n",
       "      <td>0.186162</td>\n",
       "      <td>23.828785</td>\n",
       "    </tr>\n",
       "    <tr>\n",
       "      <th>6</th>\n",
       "      <td>63.533</td>\n",
       "      <td>65.490</td>\n",
       "      <td>12</td>\n",
       "      <td>0.091161</td>\n",
       "      <td>11.668629</td>\n",
       "    </tr>\n",
       "    <tr>\n",
       "      <th>7</th>\n",
       "      <td>65.490</td>\n",
       "      <td>67.448</td>\n",
       "      <td>3</td>\n",
       "      <td>0.036999</td>\n",
       "      <td>4.735826</td>\n",
       "    </tr>\n",
       "  </tbody>\n",
       "</table>\n",
       "</div>"
      ],
      "text/plain": [
       "   x_left  x_right  n_f       p_t        n_t\n",
       "0  51.790   53.747    3  0.016890   2.161932\n",
       "1  53.747   55.704    7  0.053730   6.877435\n",
       "2  55.704   57.661   15  0.135576  17.353722\n",
       "3  57.661   59.619   32  0.227150  29.075220\n",
       "4  59.619   61.576   25  0.252332  32.298451\n",
       "5  61.576   63.533   31  0.186162  23.828785\n",
       "6  63.533   65.490   12  0.091161  11.668629\n",
       "7  65.490   67.448    3  0.036999   4.735826"
      ]
     },
     "execution_count": 44,
     "metadata": {},
     "output_type": "execute_result"
    }
   ],
   "source": [
    "table_2[[\"x_left\", \"x_right\", \"n_f\", \"p_t\", \"n_t\"]]"
   ]
  },
  {
   "cell_type": "markdown",
   "id": "51a8dd83",
   "metadata": {},
   "source": [
    "## Критерий Колмогорова-Смирнова"
   ]
  },
  {
   "cell_type": "markdown",
   "id": "95ffc819",
   "metadata": {},
   "source": [
    "Для проверки гипотезы о нормальности распределения по критерию Колмогорова-Смирнова рассчитаем накопленные фактические $p_ф$ и теоретические $p_т$ частоты: "
   ]
  },
  {
   "cell_type": "code",
   "execution_count": 45,
   "id": "daa5f814",
   "metadata": {},
   "outputs": [
    {
     "data": {
      "text/html": [
       "<div>\n",
       "<style scoped>\n",
       "    .dataframe tbody tr th:only-of-type {\n",
       "        vertical-align: middle;\n",
       "    }\n",
       "\n",
       "    .dataframe tbody tr th {\n",
       "        vertical-align: top;\n",
       "    }\n",
       "\n",
       "    .dataframe thead th {\n",
       "        text-align: right;\n",
       "    }\n",
       "</style>\n",
       "<table border=\"1\" class=\"dataframe\">\n",
       "  <thead>\n",
       "    <tr style=\"text-align: right;\">\n",
       "      <th></th>\n",
       "      <th>x_left</th>\n",
       "      <th>x_right</th>\n",
       "      <th>x_avr</th>\n",
       "      <th>n_f</th>\n",
       "      <th>p_f</th>\n",
       "      <th>p_t</th>\n",
       "      <th>n_t</th>\n",
       "      <th>p_f_cum</th>\n",
       "      <th>p_t_cum</th>\n",
       "    </tr>\n",
       "  </thead>\n",
       "  <tbody>\n",
       "    <tr>\n",
       "      <th>0</th>\n",
       "      <td>51.790</td>\n",
       "      <td>53.747</td>\n",
       "      <td>52.7685</td>\n",
       "      <td>3</td>\n",
       "      <td>0.023438</td>\n",
       "      <td>0.016890</td>\n",
       "      <td>2.161932</td>\n",
       "      <td>0.023438</td>\n",
       "      <td>0.016890</td>\n",
       "    </tr>\n",
       "    <tr>\n",
       "      <th>1</th>\n",
       "      <td>53.747</td>\n",
       "      <td>55.704</td>\n",
       "      <td>54.7255</td>\n",
       "      <td>7</td>\n",
       "      <td>0.054688</td>\n",
       "      <td>0.053730</td>\n",
       "      <td>6.877435</td>\n",
       "      <td>0.078125</td>\n",
       "      <td>0.070620</td>\n",
       "    </tr>\n",
       "    <tr>\n",
       "      <th>2</th>\n",
       "      <td>55.704</td>\n",
       "      <td>57.661</td>\n",
       "      <td>56.6825</td>\n",
       "      <td>15</td>\n",
       "      <td>0.117188</td>\n",
       "      <td>0.135576</td>\n",
       "      <td>17.353722</td>\n",
       "      <td>0.195312</td>\n",
       "      <td>0.206196</td>\n",
       "    </tr>\n",
       "    <tr>\n",
       "      <th>3</th>\n",
       "      <td>57.661</td>\n",
       "      <td>59.619</td>\n",
       "      <td>58.6400</td>\n",
       "      <td>32</td>\n",
       "      <td>0.250000</td>\n",
       "      <td>0.227150</td>\n",
       "      <td>29.075220</td>\n",
       "      <td>0.445312</td>\n",
       "      <td>0.433346</td>\n",
       "    </tr>\n",
       "    <tr>\n",
       "      <th>4</th>\n",
       "      <td>59.619</td>\n",
       "      <td>61.576</td>\n",
       "      <td>60.5975</td>\n",
       "      <td>25</td>\n",
       "      <td>0.195312</td>\n",
       "      <td>0.252332</td>\n",
       "      <td>32.298451</td>\n",
       "      <td>0.640625</td>\n",
       "      <td>0.685678</td>\n",
       "    </tr>\n",
       "    <tr>\n",
       "      <th>5</th>\n",
       "      <td>61.576</td>\n",
       "      <td>63.533</td>\n",
       "      <td>62.5545</td>\n",
       "      <td>31</td>\n",
       "      <td>0.242188</td>\n",
       "      <td>0.186162</td>\n",
       "      <td>23.828785</td>\n",
       "      <td>0.882812</td>\n",
       "      <td>0.871840</td>\n",
       "    </tr>\n",
       "    <tr>\n",
       "      <th>6</th>\n",
       "      <td>63.533</td>\n",
       "      <td>65.490</td>\n",
       "      <td>64.5115</td>\n",
       "      <td>12</td>\n",
       "      <td>0.093750</td>\n",
       "      <td>0.091161</td>\n",
       "      <td>11.668629</td>\n",
       "      <td>0.976562</td>\n",
       "      <td>0.963001</td>\n",
       "    </tr>\n",
       "    <tr>\n",
       "      <th>7</th>\n",
       "      <td>65.490</td>\n",
       "      <td>67.448</td>\n",
       "      <td>66.4690</td>\n",
       "      <td>3</td>\n",
       "      <td>0.023438</td>\n",
       "      <td>0.036999</td>\n",
       "      <td>4.735826</td>\n",
       "      <td>1.000000</td>\n",
       "      <td>1.000000</td>\n",
       "    </tr>\n",
       "  </tbody>\n",
       "</table>\n",
       "</div>"
      ],
      "text/plain": [
       "   x_left  x_right    x_avr  n_f       p_f       p_t        n_t   p_f_cum  \\\n",
       "0  51.790   53.747  52.7685    3  0.023438  0.016890   2.161932  0.023438   \n",
       "1  53.747   55.704  54.7255    7  0.054688  0.053730   6.877435  0.078125   \n",
       "2  55.704   57.661  56.6825   15  0.117188  0.135576  17.353722  0.195312   \n",
       "3  57.661   59.619  58.6400   32  0.250000  0.227150  29.075220  0.445312   \n",
       "4  59.619   61.576  60.5975   25  0.195312  0.252332  32.298451  0.640625   \n",
       "5  61.576   63.533  62.5545   31  0.242188  0.186162  23.828785  0.882812   \n",
       "6  63.533   65.490  64.5115   12  0.093750  0.091161  11.668629  0.976562   \n",
       "7  65.490   67.448  66.4690    3  0.023438  0.036999   4.735826  1.000000   \n",
       "\n",
       "    p_t_cum  \n",
       "0  0.016890  \n",
       "1  0.070620  \n",
       "2  0.206196  \n",
       "3  0.433346  \n",
       "4  0.685678  \n",
       "5  0.871840  \n",
       "6  0.963001  \n",
       "7  1.000000  "
      ]
     },
     "execution_count": 45,
     "metadata": {},
     "output_type": "execute_result"
    }
   ],
   "source": [
    "table_2[\"p_f_cum\"] = table_2[\"p_f\"].cumsum()\n",
    "table_2[\"p_t_cum\"] = table_2[\"p_t\"].cumsum()\n",
    "table_2[[\"x_left\", \"x_right\", \"x_avr\", \"n_f\", \"p_f\", \"p_t\", \"n_t\", \"p_f_cum\", \"p_t_cum\"]]"
   ]
  },
  {
   "cell_type": "markdown",
   "id": "5f1ddca9",
   "metadata": {},
   "source": [
    "Найдем абсолютную разность $D$ между фактической $p_ф$ и теоретической $p_т$ частотью:\n",
    "\n",
    "$$ D = |\\sum p_ф - \\sum p_т | $$"
   ]
  },
  {
   "cell_type": "code",
   "execution_count": 46,
   "id": "043fb8bb",
   "metadata": {},
   "outputs": [
    {
     "data": {
      "text/html": [
       "<div>\n",
       "<style scoped>\n",
       "    .dataframe tbody tr th:only-of-type {\n",
       "        vertical-align: middle;\n",
       "    }\n",
       "\n",
       "    .dataframe tbody tr th {\n",
       "        vertical-align: top;\n",
       "    }\n",
       "\n",
       "    .dataframe thead th {\n",
       "        text-align: right;\n",
       "    }\n",
       "</style>\n",
       "<table border=\"1\" class=\"dataframe\">\n",
       "  <thead>\n",
       "    <tr style=\"text-align: right;\">\n",
       "      <th></th>\n",
       "      <th>x_left</th>\n",
       "      <th>x_right</th>\n",
       "      <th>x_avr</th>\n",
       "      <th>n_f</th>\n",
       "      <th>p_f</th>\n",
       "      <th>p_t</th>\n",
       "      <th>n_t</th>\n",
       "      <th>p_f_cum</th>\n",
       "      <th>p_t_cum</th>\n",
       "      <th>D</th>\n",
       "    </tr>\n",
       "  </thead>\n",
       "  <tbody>\n",
       "    <tr>\n",
       "      <th>0</th>\n",
       "      <td>51.790</td>\n",
       "      <td>53.747</td>\n",
       "      <td>52.7685</td>\n",
       "      <td>3</td>\n",
       "      <td>0.023438</td>\n",
       "      <td>0.016890</td>\n",
       "      <td>2.161932</td>\n",
       "      <td>0.023438</td>\n",
       "      <td>0.016890</td>\n",
       "      <td>0.006547</td>\n",
       "    </tr>\n",
       "    <tr>\n",
       "      <th>1</th>\n",
       "      <td>53.747</td>\n",
       "      <td>55.704</td>\n",
       "      <td>54.7255</td>\n",
       "      <td>7</td>\n",
       "      <td>0.054688</td>\n",
       "      <td>0.053730</td>\n",
       "      <td>6.877435</td>\n",
       "      <td>0.078125</td>\n",
       "      <td>0.070620</td>\n",
       "      <td>0.007505</td>\n",
       "    </tr>\n",
       "    <tr>\n",
       "      <th>2</th>\n",
       "      <td>55.704</td>\n",
       "      <td>57.661</td>\n",
       "      <td>56.6825</td>\n",
       "      <td>15</td>\n",
       "      <td>0.117188</td>\n",
       "      <td>0.135576</td>\n",
       "      <td>17.353722</td>\n",
       "      <td>0.195312</td>\n",
       "      <td>0.206196</td>\n",
       "      <td>0.010884</td>\n",
       "    </tr>\n",
       "    <tr>\n",
       "      <th>3</th>\n",
       "      <td>57.661</td>\n",
       "      <td>59.619</td>\n",
       "      <td>58.6400</td>\n",
       "      <td>32</td>\n",
       "      <td>0.250000</td>\n",
       "      <td>0.227150</td>\n",
       "      <td>29.075220</td>\n",
       "      <td>0.445312</td>\n",
       "      <td>0.433346</td>\n",
       "      <td>0.011966</td>\n",
       "    </tr>\n",
       "    <tr>\n",
       "      <th>4</th>\n",
       "      <td>59.619</td>\n",
       "      <td>61.576</td>\n",
       "      <td>60.5975</td>\n",
       "      <td>25</td>\n",
       "      <td>0.195312</td>\n",
       "      <td>0.252332</td>\n",
       "      <td>32.298451</td>\n",
       "      <td>0.640625</td>\n",
       "      <td>0.685678</td>\n",
       "      <td>0.045053</td>\n",
       "    </tr>\n",
       "    <tr>\n",
       "      <th>5</th>\n",
       "      <td>61.576</td>\n",
       "      <td>63.533</td>\n",
       "      <td>62.5545</td>\n",
       "      <td>31</td>\n",
       "      <td>0.242188</td>\n",
       "      <td>0.186162</td>\n",
       "      <td>23.828785</td>\n",
       "      <td>0.882812</td>\n",
       "      <td>0.871840</td>\n",
       "      <td>0.010972</td>\n",
       "    </tr>\n",
       "    <tr>\n",
       "      <th>6</th>\n",
       "      <td>63.533</td>\n",
       "      <td>65.490</td>\n",
       "      <td>64.5115</td>\n",
       "      <td>12</td>\n",
       "      <td>0.093750</td>\n",
       "      <td>0.091161</td>\n",
       "      <td>11.668629</td>\n",
       "      <td>0.976562</td>\n",
       "      <td>0.963001</td>\n",
       "      <td>0.013561</td>\n",
       "    </tr>\n",
       "    <tr>\n",
       "      <th>7</th>\n",
       "      <td>65.490</td>\n",
       "      <td>67.448</td>\n",
       "      <td>66.4690</td>\n",
       "      <td>3</td>\n",
       "      <td>0.023438</td>\n",
       "      <td>0.036999</td>\n",
       "      <td>4.735826</td>\n",
       "      <td>1.000000</td>\n",
       "      <td>1.000000</td>\n",
       "      <td>0.000000</td>\n",
       "    </tr>\n",
       "  </tbody>\n",
       "</table>\n",
       "</div>"
      ],
      "text/plain": [
       "   x_left  x_right    x_avr  n_f       p_f       p_t        n_t   p_f_cum  \\\n",
       "0  51.790   53.747  52.7685    3  0.023438  0.016890   2.161932  0.023438   \n",
       "1  53.747   55.704  54.7255    7  0.054688  0.053730   6.877435  0.078125   \n",
       "2  55.704   57.661  56.6825   15  0.117188  0.135576  17.353722  0.195312   \n",
       "3  57.661   59.619  58.6400   32  0.250000  0.227150  29.075220  0.445312   \n",
       "4  59.619   61.576  60.5975   25  0.195312  0.252332  32.298451  0.640625   \n",
       "5  61.576   63.533  62.5545   31  0.242188  0.186162  23.828785  0.882812   \n",
       "6  63.533   65.490  64.5115   12  0.093750  0.091161  11.668629  0.976562   \n",
       "7  65.490   67.448  66.4690    3  0.023438  0.036999   4.735826  1.000000   \n",
       "\n",
       "    p_t_cum         D  \n",
       "0  0.016890  0.006547  \n",
       "1  0.070620  0.007505  \n",
       "2  0.206196  0.010884  \n",
       "3  0.433346  0.011966  \n",
       "4  0.685678  0.045053  \n",
       "5  0.871840  0.010972  \n",
       "6  0.963001  0.013561  \n",
       "7  1.000000  0.000000  "
      ]
     },
     "execution_count": 46,
     "metadata": {},
     "output_type": "execute_result"
    }
   ],
   "source": [
    "table_2[\"D\"] = abs(table_2[\"p_f_cum\"] - table_2[\"p_t_cum\"])\n",
    "table_2[[\"x_left\", \"x_right\", \"x_avr\", \"n_f\", \"p_f\", \"p_t\", \"n_t\", \"p_f_cum\", \"p_t_cum\", \"D\"]]"
   ]
  },
  {
   "cell_type": "markdown",
   "id": "ba080684",
   "metadata": {},
   "source": [
    "Найдем максимальную разность $D$:"
   ]
  },
  {
   "cell_type": "code",
   "execution_count": 47,
   "id": "c790be86",
   "metadata": {},
   "outputs": [
    {
     "data": {
      "text/plain": [
       "0.04505281546172535"
      ]
     },
     "execution_count": 47,
     "metadata": {},
     "output_type": "execute_result"
    }
   ],
   "source": [
    "d_max = max(table_2[\"D\"])\n",
    "d_max"
   ]
  },
  {
   "cell_type": "markdown",
   "id": "8cc94617",
   "metadata": {},
   "source": [
    "Фактическое значение статистики $\\lambda$ может быть найдено по формуле:\n",
    "\n",
    "$$\\lambda_{f} = D_{\\max} \\cdot \\sqrt{N} $$"
   ]
  },
  {
   "cell_type": "code",
   "execution_count": 48,
   "id": "3b937c9d",
   "metadata": {},
   "outputs": [
    {
     "data": {
      "text/plain": [
       "0.5097144211925141"
      ]
     },
     "execution_count": 48,
     "metadata": {},
     "output_type": "execute_result"
    }
   ],
   "source": [
    "lambda_fact = d_max * result_statistics[\"count\"] ** 0.5\n",
    "lambda_fact"
   ]
  },
  {
   "cell_type": "markdown",
   "id": "8f65d383",
   "metadata": {},
   "source": [
    "Критеческое значение $\\lambda$ для доверительной вероятности $P_0$ при $P_0 \\approx 1$ может быть найдено по формуле:\n",
    "\n",
    "$$ \\lambda_{P_0} \\approx \\sqrt{-\\frac{1}{2}\\ln \\frac{1-P_0}{2}} $$"
   ]
  },
  {
   "cell_type": "code",
   "execution_count": 49,
   "id": "7ffa398c",
   "metadata": {},
   "outputs": [
    {
     "data": {
      "text/plain": [
       "1.3581015157406193"
      ]
     },
     "execution_count": 49,
     "metadata": {},
     "output_type": "execute_result"
    }
   ],
   "source": [
    "p_0 = 0.95\n",
    "\n",
    "lambda_critical = (-0.5 * math.log((1 - p_0) / 2, math.e)) ** 0.5\n",
    "lambda_critical"
   ]
  },
  {
   "cell_type": "markdown",
   "id": "86c3b812",
   "metadata": {},
   "source": [
    "Проверим нашу гипотезу по критерию Колмогорова-Смирнова:\n",
    "\n",
    "$$ \\lambda_{fact} \\le \\lambda_{p_0} $$"
   ]
  },
  {
   "cell_type": "code",
   "execution_count": 50,
   "id": "86b6106d",
   "metadata": {},
   "outputs": [
    {
     "data": {
      "text/plain": [
       "'Гипотеза не отвергается'"
      ]
     },
     "execution_count": 50,
     "metadata": {},
     "output_type": "execute_result"
    }
   ],
   "source": [
    "\"Гипотеза не отвергается\" if lambda_fact <= lambda_critical else \"Гипотеза отвергается\""
   ]
  },
  {
   "cell_type": "markdown",
   "id": "22f78638-817b-4fc5-bd63-815f53e3ad9a",
   "metadata": {},
   "source": [
    "### Проверка гипотезы по критерию Колмогорова-Смирнова стандартными средствами\n",
    "\n",
    "Используем функцию ```stats.kstest(rvs, cdf, args)``` из библиотеки ```scipy```\n",
    "\n",
    "Переменные:\n",
    "* **rvs** - выборка значений, для которой выполняется проверка;\n",
    "* **cdf** - функция плотности распределения $F(x)$ проверяемого закона распределения;\n",
    "* **args** - необходимые параметры для расчета функции плотности распределения $F(x)$ (могут быть определены при создании объекта закона распределения)."
   ]
  },
  {
   "cell_type": "markdown",
   "id": "54a4b2a3-f6c3-4ea3-b4e6-fc405bd114f4",
   "metadata": {},
   "source": [
    "Выполним проверку по критерию Колмогорова-Смирнова для исходного набора данных из нашей серии **ds** с параметрами нормального распределения расчитанными из вариационного ряда:"
   ]
  },
  {
   "cell_type": "code",
   "execution_count": 51,
   "id": "a0388fa3",
   "metadata": {},
   "outputs": [
    {
     "data": {
      "text/plain": [
       "KstestResult(statistic=0.06097804188320988, pvalue=0.7045976411793098, statistic_location=61.9900174, statistic_sign=-1)"
      ]
     },
     "execution_count": 51,
     "metadata": {},
     "output_type": "execute_result"
    }
   ],
   "source": [
    "stats.kstest(rvs=ds, cdf=stats.norm.cdf, args=(result_statistics[\"M(X)\"], result_statistics[\"Std_dev(X)\"]))"
   ]
  },
  {
   "cell_type": "markdown",
   "id": "daa1a29f-9739-4a4c-81ee-adc366596ac5",
   "metadata": {},
   "source": [
    "Аналогичный результат может быть получен с помощью явной передачи параметров нормального закона при создании объекта распределения:"
   ]
  },
  {
   "cell_type": "code",
   "execution_count": 52,
   "id": "db7fa701",
   "metadata": {},
   "outputs": [
    {
     "data": {
      "text/plain": [
       "KstestResult(statistic=0.06097804188320988, pvalue=0.7045976411793098, statistic_location=61.9900174, statistic_sign=-1)"
      ]
     },
     "execution_count": 52,
     "metadata": {},
     "output_type": "execute_result"
    }
   ],
   "source": [
    "stats.kstest(rvs=ds, cdf=stats.norm(loc=result_statistics[\"M(X)\"], scale=result_statistics[\"Std_dev(X)\"]).cdf)"
   ]
  },
  {
   "cell_type": "markdown",
   "id": "aaf4a9be-acd4-45e4-bbcd-e1e56c6af46a",
   "metadata": {},
   "source": [
    "***\n",
    "\n",
    "Мы можем напрямую рассчитать необходимые нам параметры нормального закона, применив к исходной серии **ds** методы ```.mean()``` и ```std()```:"
   ]
  },
  {
   "cell_type": "code",
   "execution_count": 53,
   "id": "4f6e019f",
   "metadata": {},
   "outputs": [
    {
     "data": {
      "text/plain": [
       "KstestResult(statistic=0.05767973852919028, pvalue=0.7658616608701084, statistic_location=61.9900174, statistic_sign=-1)"
      ]
     },
     "execution_count": 53,
     "metadata": {},
     "output_type": "execute_result"
    }
   ],
   "source": [
    "stats.kstest(ds, stats.norm(loc=ds.mean(), scale=ds.std()).cdf)"
   ]
  },
  {
   "cell_type": "markdown",
   "id": "05dcb642-621d-4a96-859f-645cd8208cb0",
   "metadata": {},
   "source": [
    "отметим, что в последнем случае мы получили меньшее значение статистики $D$ (атрибут statistic полученного объекта KstestResult), что объясняется более точными значениями $M(x)$ и $\\sigma(x)$, получаемыми из исходной серии данных **ds** напрямую."
   ]
  },
  {
   "cell_type": "markdown",
   "id": "a3ee397b-481f-487c-a718-e1e238d8b745",
   "metadata": {},
   "source": [
    "## Построим графики функции плотности распределения $f(x)$ и функции распределения $F(x)$ "
   ]
  },
  {
   "cell_type": "markdown",
   "id": "9a504845-4b47-4284-9188-25d9f504eec2",
   "metadata": {},
   "source": [
    "### График функции плотности распределения $f(x)$"
   ]
  },
  {
   "cell_type": "markdown",
   "id": "b3d335e4-60a2-4e50-827c-4c354fc927da",
   "metadata": {},
   "source": [
    "Создадим список с границами интервалов из вариационного ряда: "
   ]
  },
  {
   "cell_type": "code",
   "execution_count": 54,
   "id": "9990eaa0",
   "metadata": {},
   "outputs": [
    {
     "data": {
      "text/plain": [
       "[51.79, 53.747, 55.704, 57.661, 59.619, 61.576, 63.533, 65.49, 67.448]"
      ]
     },
     "execution_count": 54,
     "metadata": {},
     "output_type": "execute_result"
    }
   ],
   "source": [
    "bins = list(table_2[\"x_left\"])\n",
    "bins.append(table_2[\"x_right\"][max(table_2.index)])\n",
    "bins"
   ]
  },
  {
   "cell_type": "code",
   "execution_count": 55,
   "id": "5ee71130",
   "metadata": {},
   "outputs": [
    {
     "data": {
      "image/png": "[encoded data removed]",
      "text/plain": [
       "<Figure size 640x480 with 1 Axes>"
      ]
     },
     "metadata": {},
     "output_type": "display_data"
    }
   ],
   "source": [
    "# Загрузим библиотеку matplotlib для построения графиков\n",
    "import matplotlib.pyplot as plt\n",
    "\n",
    "# Создадим объект нормального распределения с параметрами, полученными из вариационного ряда \n",
    "norm_func = stats.norm(loc=result_statistics[\"M(X)\"], scale=result_statistics[\"Std_dev(X)\"])\n",
    "\n",
    "# Создадим список аргументов для функции \n",
    "x = np.arange(norm_func.ppf(0.001), norm_func.ppf(0.999), 0.01)\n",
    "\n",
    "# Создадим область построения графика\n",
    "fig, ax = plt.subplots()\n",
    "\n",
    "# Добавим на нее линейный график теоретической функции плотности распредления \n",
    "ax.plot(x, norm_func.pdf(x), label=\"Теоретическая функция \\nплотности нормального распределения\")\n",
    "\n",
    "# Добавим на нее фактическую гистограмму плотности распредления \n",
    "# Построенную по исходной серии данных ds с определенными выше границами интервалов bins\n",
    "ax.hist(ds, edgecolor = 'black', density=True, alpha=0.6,\n",
    "         bins = bins, label=\"Гистограмма фактической плотности распределения\")\n",
    "\n",
    "# Добавим подписи осей и название графика\n",
    "plt.title(\"Гистограмма плотности теоретического \\nи фактического распределения\")\n",
    "plt.xlabel(\"x\")\n",
    "plt.ylabel(\"p(x)\")\n",
    "# plt.grid()\n",
    "# plt.legend(loc=\"upper right\")\n",
    "\n",
    "# Сохраним полученный график в файл \"f(x)_graf.png\"\n",
    "plt.savefig(\"f(x)_graf_1.png\")\n",
    "\n",
    "plt.show()"
   ]
  },
  {
   "cell_type": "markdown",
   "id": "98306618-4a1c-44ed-8499-1ee6ab695597",
   "metadata": {},
   "source": [
    "### График теоретической и фактической функции распределения F(x)"
   ]
  },
  {
   "cell_type": "markdown",
   "id": "85ac6898-6013-4ed6-92e9-32808a912cff",
   "metadata": {},
   "source": [
    "При построении графика функции распределения $F(x)$ будем использовать ранее определенную переменную **bins**, содержащую границы наших интервалов:"
   ]
  },
  {
   "cell_type": "code",
   "execution_count": 56,
   "id": "ad416848",
   "metadata": {},
   "outputs": [
    {
     "data": {
      "text/plain": [
       "[51.79, 53.747, 55.704, 57.661, 59.619, 61.576, 63.533, 65.49, 67.448]"
      ]
     },
     "execution_count": 56,
     "metadata": {},
     "output_type": "execute_result"
    }
   ],
   "source": [
    "bins"
   ]
  },
  {
   "cell_type": "markdown",
   "id": "76f719c2-befe-4f72-b2df-cf20037b513e",
   "metadata": {},
   "source": [
    "Создадим переменную **p_f_cum**, содержащую список накопленных частостей $\\sum p_t$ в точках, попадающих на наши границы интервалов:"
   ]
  },
  {
   "cell_type": "code",
   "execution_count": 57,
   "id": "9ce270bf",
   "metadata": {},
   "outputs": [
    {
     "data": {
      "text/plain": [
       "[0,\n",
       " 0.0234375,\n",
       " 0.078125,\n",
       " 0.1953125,\n",
       " 0.4453125,\n",
       " 0.640625,\n",
       " 0.8828125,\n",
       " 0.9765625,\n",
       " 1.0]"
      ]
     },
     "execution_count": 57,
     "metadata": {},
     "output_type": "execute_result"
    }
   ],
   "source": [
    "# Возьмем данные из нашей таблицы table_2\n",
    "p_f_cum = list(table_2[\"p_f_cum\"])\n",
    "# Добавим в полученный список накопленную вероятность, равную 0 на 0 позицию списка\n",
    "p_f_cum.insert(0, 0)\n",
    "p_f_cum"
   ]
  },
  {
   "cell_type": "code",
   "execution_count": 58,
   "id": "be272b2d-8641-436b-ad4d-b41d742a51f9",
   "metadata": {},
   "outputs": [
    {
     "data": {
      "image/png": "[encoded data removed]",
      "text/plain": [
       "<Figure size 800x350 with 1 Axes>"
      ]
     },
     "metadata": {},
     "output_type": "display_data"
    }
   ],
   "source": [
    "# Загрузим библиотеку matplotlib для построения графиков\n",
    "import matplotlib.pyplot as plt\n",
    "\n",
    "# Создадим объект нормального распределения с параметрами, полученными из вариационного ряда \n",
    "norm_func = stats.norm(loc=result_statistics[\"M(X)\"], scale=result_statistics[\"Std_dev(X)\"])\n",
    "\n",
    "# Создадим область построения графика\n",
    "plt.figure(figsize=(8, 3.5))\n",
    "\n",
    "# Создадим список аргументов для функции \n",
    "x = np.arange(norm_func.ppf(0.001), norm_func.ppf(0.999), 0.01)\n",
    "\n",
    "# Построим на оси ax линейный график теоретической функции распредления F(x)\n",
    "plt.plot(x, norm_func.cdf(x), \n",
    "         label=\"Теоретическая функция распределения F(x)\", lw=2)\n",
    "\n",
    "# Построим на оси ax линейный график эмпирической функции распредления F(x)\n",
    "plt.plot(bins, p_f_cum, label=\"Эмпирическая функция распределения F(x)\", lw=2)\n",
    "\n",
    "plt.legend()\n",
    "plt.grid()\n",
    "plt.show()"
   ]
  },
  {
   "cell_type": "markdown",
   "id": "8be626bc-1770-432e-83e4-529566c00e85",
   "metadata": {},
   "source": [
    "#### Построим наш график точнее, используя все исходные данные из серии **ds**\n",
    "\n",
    "Для этого:\n",
    "\n",
    "*  Отсортируем нашу серию **ds** по возрастанию и сохраним результат в серию **ds_sort**:"
   ]
  },
  {
   "cell_type": "code",
   "execution_count": 59,
   "id": "e34bc384-a5bc-4782-bebf-f74791281653",
   "metadata": {},
   "outputs": [
    {
     "data": {
      "text/plain": [
       "43     51.789754\n",
       "35     53.371319\n",
       "103    53.632930\n",
       "24     53.954021\n",
       "78     54.167908\n",
       "         ...    \n",
       "9      65.211240\n",
       "63     65.218526\n",
       "120    66.449405\n",
       "105    66.594009\n",
       "111    66.944692\n",
       "Name: 0, Length: 128, dtype: float64"
      ]
     },
     "execution_count": 59,
     "metadata": {},
     "output_type": "execute_result"
    }
   ],
   "source": [
    "ds_sort = ds.sort_values()\n",
    "ds_sort"
   ]
  },
  {
   "cell_type": "markdown",
   "id": "71d82535-5b22-4542-97e9-bbd11e04c1ed",
   "metadata": {},
   "source": [
    "* Раcсчитаем накопленные частости $ \\sum p_т $ к каждому значению отсортированной серии **ds_sort**:"
   ]
  },
  {
   "cell_type": "code",
   "execution_count": 60,
   "id": "5f70002f-e625-42db-93d1-5afec6313ce5",
   "metadata": {},
   "outputs": [
    {
     "data": {
      "text/plain": [
       "[0.0,\n",
       " 0.0078125,\n",
       " 0.015625,\n",
       " 0.0234375,\n",
       " 0.03125,\n",
       " 0.0390625,\n",
       " 0.046875,\n",
       " 0.0546875,\n",
       " 0.0625,\n",
       " 0.0703125,\n",
       " 0.078125,\n",
       " 0.0859375,\n",
       " 0.09375,\n",
       " 0.1015625,\n",
       " 0.109375,\n",
       " 0.1171875,\n",
       " 0.125,\n",
       " 0.1328125,\n",
       " 0.140625,\n",
       " 0.1484375,\n",
       " 0.15625,\n",
       " 0.1640625,\n",
       " 0.171875,\n",
       " 0.1796875,\n",
       " 0.1875,\n",
       " 0.1953125,\n",
       " 0.203125,\n",
       " 0.2109375,\n",
       " 0.21875,\n",
       " 0.2265625,\n",
       " 0.234375,\n",
       " 0.2421875,\n",
       " 0.25,\n",
       " 0.2578125,\n",
       " 0.265625,\n",
       " 0.2734375,\n",
       " 0.28125,\n",
       " 0.2890625,\n",
       " 0.296875,\n",
       " 0.3046875,\n",
       " 0.3125,\n",
       " 0.3203125,\n",
       " 0.328125,\n",
       " 0.3359375,\n",
       " 0.34375,\n",
       " 0.3515625,\n",
       " 0.359375,\n",
       " 0.3671875,\n",
       " 0.375,\n",
       " 0.3828125,\n",
       " 0.390625,\n",
       " 0.3984375,\n",
       " 0.40625,\n",
       " 0.4140625,\n",
       " 0.421875,\n",
       " 0.4296875,\n",
       " 0.4375,\n",
       " 0.4453125,\n",
       " 0.453125,\n",
       " 0.4609375,\n",
       " 0.46875,\n",
       " 0.4765625,\n",
       " 0.484375,\n",
       " 0.4921875,\n",
       " 0.5,\n",
       " 0.5078125,\n",
       " 0.515625,\n",
       " 0.5234375,\n",
       " 0.53125,\n",
       " 0.5390625,\n",
       " 0.546875,\n",
       " 0.5546875,\n",
       " 0.5625,\n",
       " 0.5703125,\n",
       " 0.578125,\n",
       " 0.5859375,\n",
       " 0.59375,\n",
       " 0.6015625,\n",
       " 0.609375,\n",
       " 0.6171875,\n",
       " 0.625,\n",
       " 0.6328125,\n",
       " 0.640625,\n",
       " 0.6484375,\n",
       " 0.65625,\n",
       " 0.6640625,\n",
       " 0.671875,\n",
       " 0.6796875,\n",
       " 0.6875,\n",
       " 0.6953125,\n",
       " 0.703125,\n",
       " 0.7109375,\n",
       " 0.71875,\n",
       " 0.7265625,\n",
       " 0.734375,\n",
       " 0.7421875,\n",
       " 0.75,\n",
       " 0.7578125,\n",
       " 0.765625,\n",
       " 0.7734375,\n",
       " 0.78125,\n",
       " 0.7890625,\n",
       " 0.796875,\n",
       " 0.8046875,\n",
       " 0.8125,\n",
       " 0.8203125,\n",
       " 0.828125,\n",
       " 0.8359375,\n",
       " 0.84375,\n",
       " 0.8515625,\n",
       " 0.859375,\n",
       " 0.8671875,\n",
       " 0.875,\n",
       " 0.8828125,\n",
       " 0.890625,\n",
       " 0.8984375,\n",
       " 0.90625,\n",
       " 0.9140625,\n",
       " 0.921875,\n",
       " 0.9296875,\n",
       " 0.9375,\n",
       " 0.9453125,\n",
       " 0.953125,\n",
       " 0.9609375,\n",
       " 0.96875,\n",
       " 0.9765625,\n",
       " 0.984375,\n",
       " 0.9921875]"
      ]
     },
     "execution_count": 60,
     "metadata": {},
     "output_type": "execute_result"
    }
   ],
   "source": [
    "p_f_cum = [(idx) / result_statistics[\"count\"] for idx in range(int(result_statistics[\"count\"]))]\n",
    "p_f_cum"
   ]
  },
  {
   "cell_type": "markdown",
   "id": "9c3fe510-879b-4421-ae5c-f5ebf3d30ab7",
   "metadata": {},
   "source": [
    "* Объединим полученные данные в общий *DataFrame* **plot_data**:"
   ]
  },
  {
   "cell_type": "code",
   "execution_count": 61,
   "id": "3205e9f2-d638-491d-b659-d812f38c6e8c",
   "metadata": {},
   "outputs": [
    {
     "data": {
      "text/html": [
       "<div>\n",
       "<style scoped>\n",
       "    .dataframe tbody tr th:only-of-type {\n",
       "        vertical-align: middle;\n",
       "    }\n",
       "\n",
       "    .dataframe tbody tr th {\n",
       "        vertical-align: top;\n",
       "    }\n",
       "\n",
       "    .dataframe thead th {\n",
       "        text-align: right;\n",
       "    }\n",
       "</style>\n",
       "<table border=\"1\" class=\"dataframe\">\n",
       "  <thead>\n",
       "    <tr style=\"text-align: right;\">\n",
       "      <th></th>\n",
       "      <th>x</th>\n",
       "      <th>p_f_cum</th>\n",
       "    </tr>\n",
       "  </thead>\n",
       "  <tbody>\n",
       "    <tr>\n",
       "      <th>43</th>\n",
       "      <td>51.789754</td>\n",
       "      <td>0.000000</td>\n",
       "    </tr>\n",
       "    <tr>\n",
       "      <th>35</th>\n",
       "      <td>53.371319</td>\n",
       "      <td>0.007812</td>\n",
       "    </tr>\n",
       "    <tr>\n",
       "      <th>103</th>\n",
       "      <td>53.632930</td>\n",
       "      <td>0.015625</td>\n",
       "    </tr>\n",
       "    <tr>\n",
       "      <th>24</th>\n",
       "      <td>53.954021</td>\n",
       "      <td>0.023438</td>\n",
       "    </tr>\n",
       "    <tr>\n",
       "      <th>78</th>\n",
       "      <td>54.167908</td>\n",
       "      <td>0.031250</td>\n",
       "    </tr>\n",
       "    <tr>\n",
       "      <th>...</th>\n",
       "      <td>...</td>\n",
       "      <td>...</td>\n",
       "    </tr>\n",
       "    <tr>\n",
       "      <th>9</th>\n",
       "      <td>65.211240</td>\n",
       "      <td>0.960938</td>\n",
       "    </tr>\n",
       "    <tr>\n",
       "      <th>63</th>\n",
       "      <td>65.218526</td>\n",
       "      <td>0.968750</td>\n",
       "    </tr>\n",
       "    <tr>\n",
       "      <th>120</th>\n",
       "      <td>66.449405</td>\n",
       "      <td>0.976562</td>\n",
       "    </tr>\n",
       "    <tr>\n",
       "      <th>105</th>\n",
       "      <td>66.594009</td>\n",
       "      <td>0.984375</td>\n",
       "    </tr>\n",
       "    <tr>\n",
       "      <th>111</th>\n",
       "      <td>66.944692</td>\n",
       "      <td>0.992188</td>\n",
       "    </tr>\n",
       "  </tbody>\n",
       "</table>\n",
       "<p>128 rows × 2 columns</p>\n",
       "</div>"
      ],
      "text/plain": [
       "             x   p_f_cum\n",
       "43   51.789754  0.000000\n",
       "35   53.371319  0.007812\n",
       "103  53.632930  0.015625\n",
       "24   53.954021  0.023438\n",
       "78   54.167908  0.031250\n",
       "..         ...       ...\n",
       "9    65.211240  0.960938\n",
       "63   65.218526  0.968750\n",
       "120  66.449405  0.976562\n",
       "105  66.594009  0.984375\n",
       "111  66.944692  0.992188\n",
       "\n",
       "[128 rows x 2 columns]"
      ]
     },
     "execution_count": 61,
     "metadata": {},
     "output_type": "execute_result"
    }
   ],
   "source": [
    "plot_data = pd.DataFrame({\"x\": ds_sort, \"p_f_cum\": p_f_cum})\n",
    "plot_data"
   ]
  },
  {
   "cell_type": "markdown",
   "id": "984efd59-4ba0-4c24-ae68-e56639145052",
   "metadata": {},
   "source": [
    "* Построим график по полученным данным:"
   ]
  },
  {
   "cell_type": "code",
   "execution_count": 62,
   "id": "0de1af52-30b2-4e7a-b634-b6f6fd484935",
   "metadata": {},
   "outputs": [
    {
     "data": {
      "image/png": "[encoded data removed]",
      "text/plain": [
       "<Figure size 800x350 with 1 Axes>"
      ]
     },
     "metadata": {},
     "output_type": "display_data"
    }
   ],
   "source": [
    "import matplotlib.pyplot as plt\n",
    "\n",
    "# Создадим объект нормального распределения с параметрами, полученными из вариационного ряда \n",
    "norm_func = stats.norm(loc=result_statistics[\"M(X)\"], scale=result_statistics[\"Std_dev(X)\"])\n",
    "\n",
    "# Создадим список аргументов для функции \n",
    "x = np.arange(norm_func.ppf(0.001), norm_func.ppf(0.999), 0.01)\n",
    "\n",
    "# Создадим область построения графика\n",
    "plt.figure(figsize=(8, 3.5))\n",
    "\n",
    "# Построим на оси ax линейный график теоретической функции распредления F(x)\n",
    "plt.plot(x, norm_func.cdf(x), label=\"Теоретическая функция распределения F(x)\", lw=2)\n",
    "\n",
    "# Построим на оси ax линейный график эмпирической функции распредления F(x)\n",
    "plt.plot(plot_data[\"x\"], plot_data[\"p_f_cum\"], label=\"Эмпирическая функция распределения F(x)\", lw=2)\n",
    "\n",
    "plt.legend()\n",
    "plt.grid()\n",
    "\n",
    "# Сохраним полученный график в файл \"F(x)_graf.png\"\n",
    "plt.savefig(\"F(x)_graf_2.png\")\n",
    "\n",
    "plt.show()"
   ]
  },
  {
   "cell_type": "markdown",
   "id": "6474faf0-85d9-4ddc-a3a9-b8622a6d0a98",
   "metadata": {},
   "source": [
    "Рассчитаем значение **D** статистики по этим данным.\n",
    "\n",
    "Для этого:\n",
    "\n",
    "* Добавим в наш *DataFrame* столбец **p_t_cum**, заполнив его значениями теоретической функции распределения $F(x)$:"
   ]
  },
  {
   "cell_type": "code",
   "execution_count": 63,
   "id": "162ac378-907e-4be6-b6bf-1e6e2a94f385",
   "metadata": {},
   "outputs": [
    {
     "data": {
      "text/html": [
       "<div>\n",
       "<style scoped>\n",
       "    .dataframe tbody tr th:only-of-type {\n",
       "        vertical-align: middle;\n",
       "    }\n",
       "\n",
       "    .dataframe tbody tr th {\n",
       "        vertical-align: top;\n",
       "    }\n",
       "\n",
       "    .dataframe thead th {\n",
       "        text-align: right;\n",
       "    }\n",
       "</style>\n",
       "<table border=\"1\" class=\"dataframe\">\n",
       "  <thead>\n",
       "    <tr style=\"text-align: right;\">\n",
       "      <th></th>\n",
       "      <th>x</th>\n",
       "      <th>p_f_cum</th>\n",
       "      <th>p_t_cum</th>\n",
       "    </tr>\n",
       "  </thead>\n",
       "  <tbody>\n",
       "    <tr>\n",
       "      <th>43</th>\n",
       "      <td>51.789754</td>\n",
       "      <td>0.000000</td>\n",
       "      <td>0.002766</td>\n",
       "    </tr>\n",
       "    <tr>\n",
       "      <th>35</th>\n",
       "      <td>53.371319</td>\n",
       "      <td>0.007812</td>\n",
       "      <td>0.012296</td>\n",
       "    </tr>\n",
       "    <tr>\n",
       "      <th>103</th>\n",
       "      <td>53.632930</td>\n",
       "      <td>0.015625</td>\n",
       "      <td>0.015361</td>\n",
       "    </tr>\n",
       "    <tr>\n",
       "      <th>24</th>\n",
       "      <td>53.954021</td>\n",
       "      <td>0.023438</td>\n",
       "      <td>0.019999</td>\n",
       "    </tr>\n",
       "    <tr>\n",
       "      <th>78</th>\n",
       "      <td>54.167908</td>\n",
       "      <td>0.031250</td>\n",
       "      <td>0.023708</td>\n",
       "    </tr>\n",
       "    <tr>\n",
       "      <th>...</th>\n",
       "      <td>...</td>\n",
       "      <td>...</td>\n",
       "      <td>...</td>\n",
       "    </tr>\n",
       "    <tr>\n",
       "      <th>9</th>\n",
       "      <td>65.211240</td>\n",
       "      <td>0.960938</td>\n",
       "      <td>0.954851</td>\n",
       "    </tr>\n",
       "    <tr>\n",
       "      <th>63</th>\n",
       "      <td>65.218526</td>\n",
       "      <td>0.968750</td>\n",
       "      <td>0.955081</td>\n",
       "    </tr>\n",
       "    <tr>\n",
       "      <th>120</th>\n",
       "      <td>66.449405</td>\n",
       "      <td>0.976562</td>\n",
       "      <td>0.982399</td>\n",
       "    </tr>\n",
       "    <tr>\n",
       "      <th>105</th>\n",
       "      <td>66.594009</td>\n",
       "      <td>0.984375</td>\n",
       "      <td>0.984386</td>\n",
       "    </tr>\n",
       "    <tr>\n",
       "      <th>111</th>\n",
       "      <td>66.944692</td>\n",
       "      <td>0.992188</td>\n",
       "      <td>0.988424</td>\n",
       "    </tr>\n",
       "  </tbody>\n",
       "</table>\n",
       "<p>128 rows × 3 columns</p>\n",
       "</div>"
      ],
      "text/plain": [
       "             x   p_f_cum   p_t_cum\n",
       "43   51.789754  0.000000  0.002766\n",
       "35   53.371319  0.007812  0.012296\n",
       "103  53.632930  0.015625  0.015361\n",
       "24   53.954021  0.023438  0.019999\n",
       "78   54.167908  0.031250  0.023708\n",
       "..         ...       ...       ...\n",
       "9    65.211240  0.960938  0.954851\n",
       "63   65.218526  0.968750  0.955081\n",
       "120  66.449405  0.976562  0.982399\n",
       "105  66.594009  0.984375  0.984386\n",
       "111  66.944692  0.992188  0.988424\n",
       "\n",
       "[128 rows x 3 columns]"
      ]
     },
     "execution_count": 63,
     "metadata": {},
     "output_type": "execute_result"
    }
   ],
   "source": [
    "plot_data[\"p_t_cum\"] = stats.norm(loc=result_statistics[\"M(X)\"], scale=result_statistics[\"Std_dev(X)\"]).cdf(plot_data[\"x\"])\n",
    "plot_data                                                                   "
   ]
  },
  {
   "cell_type": "markdown",
   "id": "18743ff5-e3e3-4000-a324-8dfaba670495",
   "metadata": {},
   "source": [
    "Рассчитаем **D** статистику как:\n",
    "\n",
    "$$ D = |\\sum p_ф - \\sum p_т | $$"
   ]
  },
  {
   "cell_type": "code",
   "execution_count": 64,
   "id": "6bcb414e-7ac2-498c-aec6-ea19506f2132",
   "metadata": {},
   "outputs": [
    {
     "data": {
      "text/html": [
       "<div>\n",
       "<style scoped>\n",
       "    .dataframe tbody tr th:only-of-type {\n",
       "        vertical-align: middle;\n",
       "    }\n",
       "\n",
       "    .dataframe tbody tr th {\n",
       "        vertical-align: top;\n",
       "    }\n",
       "\n",
       "    .dataframe thead th {\n",
       "        text-align: right;\n",
       "    }\n",
       "</style>\n",
       "<table border=\"1\" class=\"dataframe\">\n",
       "  <thead>\n",
       "    <tr style=\"text-align: right;\">\n",
       "      <th></th>\n",
       "      <th>x</th>\n",
       "      <th>p_f_cum</th>\n",
       "      <th>p_t_cum</th>\n",
       "      <th>D</th>\n",
       "    </tr>\n",
       "  </thead>\n",
       "  <tbody>\n",
       "    <tr>\n",
       "      <th>43</th>\n",
       "      <td>51.789754</td>\n",
       "      <td>0.000000</td>\n",
       "      <td>0.002766</td>\n",
       "      <td>0.002766</td>\n",
       "    </tr>\n",
       "    <tr>\n",
       "      <th>35</th>\n",
       "      <td>53.371319</td>\n",
       "      <td>0.007812</td>\n",
       "      <td>0.012296</td>\n",
       "      <td>0.004483</td>\n",
       "    </tr>\n",
       "    <tr>\n",
       "      <th>103</th>\n",
       "      <td>53.632930</td>\n",
       "      <td>0.015625</td>\n",
       "      <td>0.015361</td>\n",
       "      <td>0.000264</td>\n",
       "    </tr>\n",
       "    <tr>\n",
       "      <th>24</th>\n",
       "      <td>53.954021</td>\n",
       "      <td>0.023438</td>\n",
       "      <td>0.019999</td>\n",
       "      <td>0.003438</td>\n",
       "    </tr>\n",
       "    <tr>\n",
       "      <th>78</th>\n",
       "      <td>54.167908</td>\n",
       "      <td>0.031250</td>\n",
       "      <td>0.023708</td>\n",
       "      <td>0.007542</td>\n",
       "    </tr>\n",
       "    <tr>\n",
       "      <th>...</th>\n",
       "      <td>...</td>\n",
       "      <td>...</td>\n",
       "      <td>...</td>\n",
       "      <td>...</td>\n",
       "    </tr>\n",
       "    <tr>\n",
       "      <th>9</th>\n",
       "      <td>65.211240</td>\n",
       "      <td>0.960938</td>\n",
       "      <td>0.954851</td>\n",
       "      <td>0.006086</td>\n",
       "    </tr>\n",
       "    <tr>\n",
       "      <th>63</th>\n",
       "      <td>65.218526</td>\n",
       "      <td>0.968750</td>\n",
       "      <td>0.955081</td>\n",
       "      <td>0.013669</td>\n",
       "    </tr>\n",
       "    <tr>\n",
       "      <th>120</th>\n",
       "      <td>66.449405</td>\n",
       "      <td>0.976562</td>\n",
       "      <td>0.982399</td>\n",
       "      <td>0.005836</td>\n",
       "    </tr>\n",
       "    <tr>\n",
       "      <th>105</th>\n",
       "      <td>66.594009</td>\n",
       "      <td>0.984375</td>\n",
       "      <td>0.984386</td>\n",
       "      <td>0.000011</td>\n",
       "    </tr>\n",
       "    <tr>\n",
       "      <th>111</th>\n",
       "      <td>66.944692</td>\n",
       "      <td>0.992188</td>\n",
       "      <td>0.988424</td>\n",
       "      <td>0.003764</td>\n",
       "    </tr>\n",
       "  </tbody>\n",
       "</table>\n",
       "<p>128 rows × 4 columns</p>\n",
       "</div>"
      ],
      "text/plain": [
       "             x   p_f_cum   p_t_cum         D\n",
       "43   51.789754  0.000000  0.002766  0.002766\n",
       "35   53.371319  0.007812  0.012296  0.004483\n",
       "103  53.632930  0.015625  0.015361  0.000264\n",
       "24   53.954021  0.023438  0.019999  0.003438\n",
       "78   54.167908  0.031250  0.023708  0.007542\n",
       "..         ...       ...       ...       ...\n",
       "9    65.211240  0.960938  0.954851  0.006086\n",
       "63   65.218526  0.968750  0.955081  0.013669\n",
       "120  66.449405  0.976562  0.982399  0.005836\n",
       "105  66.594009  0.984375  0.984386  0.000011\n",
       "111  66.944692  0.992188  0.988424  0.003764\n",
       "\n",
       "[128 rows x 4 columns]"
      ]
     },
     "execution_count": 64,
     "metadata": {},
     "output_type": "execute_result"
    }
   ],
   "source": [
    "plot_data[\"D\"] = abs(plot_data[\"p_t_cum\"] - plot_data[\"p_f_cum\"])\n",
    "plot_data"
   ]
  },
  {
   "cell_type": "markdown",
   "id": "47ead58e-2e8b-4eac-90ee-232e334b8e66",
   "metadata": {},
   "source": [
    "Найдем максимальное значение статистики $D_{\\max}$:"
   ]
  },
  {
   "cell_type": "code",
   "execution_count": 65,
   "id": "ec788637-be6c-4bab-b0e4-54c5ac443c1d",
   "metadata": {},
   "outputs": [
    {
     "data": {
      "text/plain": [
       "0.06097804188320988"
      ]
     },
     "execution_count": 65,
     "metadata": {},
     "output_type": "execute_result"
    }
   ],
   "source": [
    "d_max = plot_data.max()[\"D\"]\n",
    "d_max"
   ]
  },
  {
   "cell_type": "markdown",
   "id": "6fae878b-5c04-4088-8e86-8e197275e195",
   "metadata": {},
   "source": [
    "Выведем целиком строку из нашего *DataFrame*, содержащую статистику $D_{\\max}$:"
   ]
  },
  {
   "cell_type": "code",
   "execution_count": 66,
   "id": "1c678825-4f2e-4554-a9a7-f956bddf5fa0",
   "metadata": {},
   "outputs": [
    {
     "data": {
      "text/html": [
       "<div>\n",
       "<style scoped>\n",
       "    .dataframe tbody tr th:only-of-type {\n",
       "        vertical-align: middle;\n",
       "    }\n",
       "\n",
       "    .dataframe tbody tr th {\n",
       "        vertical-align: top;\n",
       "    }\n",
       "\n",
       "    .dataframe thead th {\n",
       "        text-align: right;\n",
       "    }\n",
       "</style>\n",
       "<table border=\"1\" class=\"dataframe\">\n",
       "  <thead>\n",
       "    <tr style=\"text-align: right;\">\n",
       "      <th></th>\n",
       "      <th>x</th>\n",
       "      <th>p_f_cum</th>\n",
       "      <th>p_t_cum</th>\n",
       "      <th>D</th>\n",
       "    </tr>\n",
       "  </thead>\n",
       "  <tbody>\n",
       "    <tr>\n",
       "      <th>33</th>\n",
       "      <td>61.990017</td>\n",
       "      <td>0.671875</td>\n",
       "      <td>0.732853</td>\n",
       "      <td>0.060978</td>\n",
       "    </tr>\n",
       "  </tbody>\n",
       "</table>\n",
       "</div>"
      ],
      "text/plain": [
       "            x   p_f_cum   p_t_cum         D\n",
       "33  61.990017  0.671875  0.732853  0.060978"
      ]
     },
     "execution_count": 66,
     "metadata": {},
     "output_type": "execute_result"
    }
   ],
   "source": [
    "plot_data.loc[plot_data[\"D\"] == d_max]"
   ]
  },
  {
   "cell_type": "markdown",
   "id": "cbe54c87-8846-410b-8b0e-be285d0c4fc9",
   "metadata": {},
   "source": [
    "Сравним полученный результат с полученным ранее через функцию ```stats.kstest```:"
   ]
  },
  {
   "cell_type": "code",
   "execution_count": 67,
   "id": "352abd2f-b2a5-4e83-b339-93dc6da8e502",
   "metadata": {},
   "outputs": [
    {
     "data": {
      "text/plain": [
       "KstestResult(statistic=0.06097804188320988, pvalue=0.7045976411793098, statistic_location=61.9900174, statistic_sign=-1)"
      ]
     },
     "execution_count": 67,
     "metadata": {},
     "output_type": "execute_result"
    }
   ],
   "source": [
    "stats.kstest(ds, stats.norm(loc=result_statistics[\"M(X)\"], scale=result_statistics[\"Std_dev(X)\"]).cdf)"
   ]
  }
 ],
 "metadata": {
  "kernelspec": {
   "display_name": "Python 3 (ipykernel)",
   "language": "python",
   "name": "python3"
  },
  "language_info": {
   "codemirror_mode": {
    "name": "ipython",
    "version": 3
   },
   "file_extension": ".py",
   "mimetype": "text/x-python",
   "name": "python",
   "nbconvert_exporter": "python",
   "pygments_lexer": "ipython3",
   "version": "3.12.0"
  }
 },
 "nbformat": 4,
 "nbformat_minor": 5
}
